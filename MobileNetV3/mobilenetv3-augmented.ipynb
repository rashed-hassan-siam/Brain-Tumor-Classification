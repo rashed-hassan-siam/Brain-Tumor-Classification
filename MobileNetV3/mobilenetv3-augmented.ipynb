{
 "cells": [
  {
   "cell_type": "code",
   "execution_count": 1,
   "id": "4d90f799",
   "metadata": {
    "execution": {
     "iopub.execute_input": "2024-03-12T18:24:31.490056Z",
     "iopub.status.busy": "2024-03-12T18:24:31.489685Z",
     "iopub.status.idle": "2024-03-12T18:24:54.550694Z",
     "shell.execute_reply": "2024-03-12T18:24:54.549500Z"
    },
    "executionInfo": {
     "elapsed": 3277,
     "status": "ok",
     "timestamp": 1696872361132,
     "user": {
      "displayName": "Sadib Hassan",
      "userId": "02293876242738667291"
     },
     "user_tz": -360
    },
    "id": "wPvgC2ERvusD",
    "papermill": {
     "duration": 23.070988,
     "end_time": "2024-03-12T18:24:54.553612",
     "exception": false,
     "start_time": "2024-03-12T18:24:31.482624",
     "status": "completed"
    },
    "tags": []
   },
   "outputs": [
    {
     "name": "stderr",
     "output_type": "stream",
     "text": [
      "2024-03-12 18:24:35.248650: E external/local_xla/xla/stream_executor/cuda/cuda_dnn.cc:9261] Unable to register cuDNN factory: Attempting to register factory for plugin cuDNN when one has already been registered\n",
      "2024-03-12 18:24:35.248784: E external/local_xla/xla/stream_executor/cuda/cuda_fft.cc:607] Unable to register cuFFT factory: Attempting to register factory for plugin cuFFT when one has already been registered\n",
      "2024-03-12 18:24:35.523968: E external/local_xla/xla/stream_executor/cuda/cuda_blas.cc:1515] Unable to register cuBLAS factory: Attempting to register factory for plugin cuBLAS when one has already been registered\n"
     ]
    }
   ],
   "source": [
    "import tensorflow as tf\n",
    "from tensorflow.keras.applications import ResNet50\n",
    "from tensorflow.keras.layers import Dense, Flatten\n",
    "from tensorflow.keras.models import Model\n",
    "from tensorflow.keras.preprocessing.image import ImageDataGenerator\n",
    "from tensorflow.keras.callbacks import EarlyStopping"
   ]
  },
  {
   "cell_type": "code",
   "execution_count": 2,
   "id": "f7fd975b",
   "metadata": {
    "execution": {
     "iopub.execute_input": "2024-03-12T18:24:54.567028Z",
     "iopub.status.busy": "2024-03-12T18:24:54.566030Z",
     "iopub.status.idle": "2024-03-12T18:25:31.210423Z",
     "shell.execute_reply": "2024-03-12T18:25:31.208858Z"
    },
    "executionInfo": {
     "elapsed": 30297,
     "status": "ok",
     "timestamp": 1696872391408,
     "user": {
      "displayName": "Sadib Hassan",
      "userId": "02293876242738667291"
     },
     "user_tz": -360
    },
    "id": "Ih2WYBNWzxdT",
    "outputId": "e39aaeb5-66f0-4399-feed-66cfa0b26ea2",
    "papermill": {
     "duration": 36.654381,
     "end_time": "2024-03-12T18:25:31.213692",
     "exception": false,
     "start_time": "2024-03-12T18:24:54.559311",
     "status": "completed"
    },
    "tags": []
   },
   "outputs": [
    {
     "name": "stdout",
     "output_type": "stream",
     "text": [
      "Found 27243 files belonging to 4 classes.\n",
      "Using 17164 files for training.\n",
      "Found 27243 files belonging to 4 classes.\n",
      "Using 10079 files for validation.\n"
     ]
    }
   ],
   "source": [
    "train_data_dir = \"/kaggle/input/eccv-brain-mri-augmentation-manual/augmented_dataset/\"\n",
    "\n",
    "train_ds = tf.keras.utils.image_dataset_from_directory(\n",
    "  train_data_dir,\n",
    "  labels='inferred',\n",
    "  label_mode='categorical',\n",
    "  validation_split=0.37,\n",
    "  subset=\"training\",\n",
    "  seed=107,\n",
    "  image_size=(224,224),\n",
    "  batch_size=64\n",
    ")\n",
    "\n",
    "val_ds = tf.keras.utils.image_dataset_from_directory(\n",
    "  train_data_dir,\n",
    "  labels='inferred',\n",
    "  label_mode='categorical',\n",
    "  validation_split=0.37,\n",
    "  subset=\"validation\",\n",
    "  seed=107,\n",
    "  image_size=(224,224),\n",
    "  batch_size=64)"
   ]
  },
  {
   "cell_type": "code",
   "execution_count": 3,
   "id": "36536e17",
   "metadata": {
    "execution": {
     "iopub.execute_input": "2024-03-12T18:25:31.226638Z",
     "iopub.status.busy": "2024-03-12T18:25:31.226289Z",
     "iopub.status.idle": "2024-03-12T18:25:31.230786Z",
     "shell.execute_reply": "2024-03-12T18:25:31.229915Z"
    },
    "executionInfo": {
     "elapsed": 29,
     "status": "ok",
     "timestamp": 1696872391409,
     "user": {
      "displayName": "Sadib Hassan",
      "userId": "02293876242738667291"
     },
     "user_tz": -360
    },
    "id": "CFh8ai4lQsWt",
    "papermill": {
     "duration": 0.013543,
     "end_time": "2024-03-12T18:25:31.232998",
     "exception": false,
     "start_time": "2024-03-12T18:25:31.219455",
     "status": "completed"
    },
    "tags": []
   },
   "outputs": [],
   "source": [
    "from tensorflow.keras.applications import MobileNetV3Small, MobileNetV3Large"
   ]
  },
  {
   "cell_type": "code",
   "execution_count": 4,
   "id": "60ca3eac",
   "metadata": {
    "execution": {
     "iopub.execute_input": "2024-03-12T18:25:31.245831Z",
     "iopub.status.busy": "2024-03-12T18:25:31.245525Z",
     "iopub.status.idle": "2024-03-12T18:25:34.182532Z",
     "shell.execute_reply": "2024-03-12T18:25:34.181570Z"
    },
    "executionInfo": {
     "elapsed": 2636,
     "status": "ok",
     "timestamp": 1696872394018,
     "user": {
      "displayName": "Sadib Hassan",
      "userId": "02293876242738667291"
     },
     "user_tz": -360
    },
    "id": "YOFAjh19QvDs",
    "outputId": "110b9b47-5b42-4e6a-be2a-c1d6afbd5aad",
    "papermill": {
     "duration": 2.946645,
     "end_time": "2024-03-12T18:25:34.185528",
     "exception": false,
     "start_time": "2024-03-12T18:25:31.238883",
     "status": "completed"
    },
    "tags": []
   },
   "outputs": [
    {
     "name": "stdout",
     "output_type": "stream",
     "text": [
      "Downloading data from https://storage.googleapis.com/tensorflow/keras-applications/mobilenet_v3/weights_mobilenet_v3_large_224_1.0_float_no_top_v2.h5\n",
      "12683000/12683000 [==============================] - 0s 0us/step\n"
     ]
    }
   ],
   "source": [
    "base_model = MobileNetV3Large(weights='imagenet', include_top=False, input_shape=(224, 224, 3))"
   ]
  },
  {
   "cell_type": "code",
   "execution_count": 5,
   "id": "d6444014",
   "metadata": {
    "execution": {
     "iopub.execute_input": "2024-03-12T18:25:34.200612Z",
     "iopub.status.busy": "2024-03-12T18:25:34.200226Z",
     "iopub.status.idle": "2024-03-12T18:25:34.997780Z",
     "shell.execute_reply": "2024-03-12T18:25:34.996717Z"
    },
    "executionInfo": {
     "elapsed": 711,
     "status": "ok",
     "timestamp": 1696872394721,
     "user": {
      "displayName": "Sadib Hassan",
      "userId": "02293876242738667291"
     },
     "user_tz": -360
    },
    "id": "k8bQoSs0Q7A8",
    "papermill": {
     "duration": 0.808578,
     "end_time": "2024-03-12T18:25:35.000825",
     "exception": false,
     "start_time": "2024-03-12T18:25:34.192247",
     "status": "completed"
    },
    "tags": []
   },
   "outputs": [],
   "source": [
    "from tensorflow.keras import Sequential\n",
    "from tensorflow.keras.layers import GlobalAveragePooling2D, Dense\n",
    "\n",
    "num_classes = 4\n",
    "accuracies = []\n",
    "\n",
    "earlystopping = EarlyStopping(monitor=\"val_loss\",\n",
    "                                mode=\"min\", patience=5,\n",
    "                                restore_best_weights=True)\n",
    "\n",
    "model = Sequential([\n",
    "    base_model,\n",
    "    GlobalAveragePooling2D(),\n",
    "    Dense(256, activation='relu'),\n",
    "    Dense(num_classes, activation='softmax')\n",
    "])"
   ]
  },
  {
   "cell_type": "code",
   "execution_count": 6,
   "id": "74ef6725",
   "metadata": {
    "execution": {
     "iopub.execute_input": "2024-03-12T18:25:35.019452Z",
     "iopub.status.busy": "2024-03-12T18:25:35.018846Z",
     "iopub.status.idle": "2024-03-12T18:25:35.053507Z",
     "shell.execute_reply": "2024-03-12T18:25:35.052388Z"
    },
    "executionInfo": {
     "elapsed": 10,
     "status": "ok",
     "timestamp": 1696872394721,
     "user": {
      "displayName": "Sadib Hassan",
      "userId": "02293876242738667291"
     },
     "user_tz": -360
    },
    "id": "JFZtAh8qRSpc",
    "papermill": {
     "duration": 0.046374,
     "end_time": "2024-03-12T18:25:35.056355",
     "exception": false,
     "start_time": "2024-03-12T18:25:35.009981",
     "status": "completed"
    },
    "tags": []
   },
   "outputs": [],
   "source": [
    "model.compile(optimizer='adam', loss='categorical_crossentropy', metrics=['accuracy'])"
   ]
  },
  {
   "cell_type": "code",
   "execution_count": 7,
   "id": "786324d8",
   "metadata": {
    "execution": {
     "iopub.execute_input": "2024-03-12T18:25:35.071274Z",
     "iopub.status.busy": "2024-03-12T18:25:35.070848Z",
     "iopub.status.idle": "2024-03-12T18:33:52.743786Z",
     "shell.execute_reply": "2024-03-12T18:33:52.742744Z"
    },
    "executionInfo": {
     "elapsed": 11374725,
     "status": "ok",
     "timestamp": 1696883769436,
     "user": {
      "displayName": "Sadib Hassan",
      "userId": "02293876242738667291"
     },
     "user_tz": -360
    },
    "id": "svg34aDO4hdV",
    "outputId": "0e6433f0-f6e0-4719-e822-522e849620f7",
    "papermill": {
     "duration": 497.683167,
     "end_time": "2024-03-12T18:33:52.746177",
     "exception": false,
     "start_time": "2024-03-12T18:25:35.063010",
     "status": "completed"
    },
    "tags": []
   },
   "outputs": [
    {
     "name": "stdout",
     "output_type": "stream",
     "text": [
      "Epoch 1/30\n"
     ]
    },
    {
     "name": "stderr",
     "output_type": "stream",
     "text": [
      "WARNING: All log messages before absl::InitializeLog() is called are written to STDERR\n",
      "I0000 00:00:1710267956.727260      79 device_compiler.h:186] Compiled cluster using XLA!  This line is logged at most once for the lifetime of the process.\n"
     ]
    },
    {
     "name": "stdout",
     "output_type": "stream",
     "text": [
      "269/269 [==============================] - 136s 347ms/step - loss: 0.2160 - accuracy: 0.9225 - val_loss: 0.8898 - val_accuracy: 0.8575\n",
      "Epoch 2/30\n",
      "269/269 [==============================] - 73s 268ms/step - loss: 0.0704 - accuracy: 0.9767 - val_loss: 9.0821 - val_accuracy: 0.7887\n",
      "Epoch 3/30\n",
      "269/269 [==============================] - 72s 267ms/step - loss: 0.0492 - accuracy: 0.9833 - val_loss: 2.3418 - val_accuracy: 0.8259\n",
      "Epoch 4/30\n",
      "269/269 [==============================] - 72s 267ms/step - loss: 0.0260 - accuracy: 0.9919 - val_loss: 1.3800 - val_accuracy: 0.8189\n",
      "Epoch 5/30\n",
      "269/269 [==============================] - 72s 267ms/step - loss: 0.0669 - accuracy: 0.9789 - val_loss: 5.7252 - val_accuracy: 0.5577\n",
      "Epoch 6/30\n",
      "269/269 [==============================] - 72s 267ms/step - loss: 0.0258 - accuracy: 0.9919 - val_loss: 1.4191 - val_accuracy: 0.8499\n",
      "Overall accuracy: 0.849885880947113\n"
     ]
    }
   ],
   "source": [
    "history = model.fit(train_ds, validation_data = val_ds, epochs = 30, callbacks=[earlystopping])\n",
    "\n",
    "accuracy = history.history['val_accuracy'][-1]\n",
    "accuracies.append(accuracy)\n",
    "print(f\"Overall accuracy: {accuracy}\")"
   ]
  },
  {
   "cell_type": "code",
   "execution_count": 8,
   "id": "bdb15c1d",
   "metadata": {
    "execution": {
     "iopub.execute_input": "2024-03-12T18:33:53.028860Z",
     "iopub.status.busy": "2024-03-12T18:33:53.028463Z",
     "iopub.status.idle": "2024-03-12T18:33:53.650146Z",
     "shell.execute_reply": "2024-03-12T18:33:53.649123Z"
    },
    "executionInfo": {
     "elapsed": 2132,
     "status": "ok",
     "timestamp": 1696883771552,
     "user": {
      "displayName": "Sadib Hassan",
      "userId": "02293876242738667291"
     },
     "user_tz": -360
    },
    "id": "6V3293xs7s-r",
    "outputId": "ab217ad3-3882-4d64-aef2-3f07cee23998",
    "papermill": {
     "duration": 0.767346,
     "end_time": "2024-03-12T18:33:53.652568",
     "exception": false,
     "start_time": "2024-03-12T18:33:52.885222",
     "status": "completed"
    },
    "tags": []
   },
   "outputs": [
    {
     "name": "stderr",
     "output_type": "stream",
     "text": [
      "/opt/conda/lib/python3.10/site-packages/keras/src/engine/training.py:3103: UserWarning: You are saving your model as an HDF5 file via `model.save()`. This file format is considered legacy. We recommend using instead the native Keras format, e.g. `model.save('my_model.keras')`.\n",
      "  saving_api.save_model(\n"
     ]
    }
   ],
   "source": [
    "import tensorflow as tf\n",
    "\n",
    "model.save('/kaggle/working/mobileNetv3Large_original.h5')\n",
    "\n",
    "# Save the history to a file\n",
    "import pickle\n",
    "\n",
    "with open('/kaggle/working/mobileNetv3Large_original.pkl', 'wb') as history_file:\n",
    "    pickle.dump(history.history, history_file)"
   ]
  },
  {
   "cell_type": "code",
   "execution_count": 9,
   "id": "dc16e2be",
   "metadata": {
    "execution": {
     "iopub.execute_input": "2024-03-12T18:33:53.927456Z",
     "iopub.status.busy": "2024-03-12T18:33:53.927063Z",
     "iopub.status.idle": "2024-03-12T18:33:54.243621Z",
     "shell.execute_reply": "2024-03-12T18:33:54.242667Z"
    },
    "executionInfo": {
     "elapsed": 1774,
     "status": "ok",
     "timestamp": 1696883808470,
     "user": {
      "displayName": "Sadib Hassan",
      "userId": "02293876242738667291"
     },
     "user_tz": -360
    },
    "id": "FuKK4SmWp7j3",
    "outputId": "58a39a7f-77d9-4275-a952-5d84576d1b2e",
    "papermill": {
     "duration": 0.457055,
     "end_time": "2024-03-12T18:33:54.245789",
     "exception": false,
     "start_time": "2024-03-12T18:33:53.788734",
     "status": "completed"
    },
    "tags": []
   },
   "outputs": [
    {
     "data": {
      "text/plain": [
       "<matplotlib.legend.Legend at 0x7f0e4de2b100>"
      ]
     },
     "execution_count": 9,
     "metadata": {},
     "output_type": "execute_result"
    },
    {
     "data": {
      "image/png": "[encoded data removed]",
      "text/plain": [
       "<Figure size 640x480 with 1 Axes>"
      ]
     },
     "metadata": {},
     "output_type": "display_data"
    }
   ],
   "source": [
    "import matplotlib.pyplot as plt\n",
    "\n",
    "plt.plot(history.history['accuracy'], label='train_accuracy')\n",
    "plt.plot(history.history['val_accuracy'], label = 'validation_accuracy')\n",
    "plt.xlabel('Epoch')\n",
    "plt.ylabel('Accuracy')\n",
    "plt.ylim([0.1, 1.2])\n",
    "plt.legend(loc='lower right')"
   ]
  },
  {
   "cell_type": "code",
   "execution_count": 10,
   "id": "9653a6c6",
   "metadata": {
    "execution": {
     "iopub.execute_input": "2024-03-12T18:33:54.521739Z",
     "iopub.status.busy": "2024-03-12T18:33:54.521379Z",
     "iopub.status.idle": "2024-03-12T18:33:54.745453Z",
     "shell.execute_reply": "2024-03-12T18:33:54.744448Z"
    },
    "executionInfo": {
     "elapsed": 1430,
     "status": "ok",
     "timestamp": 1696883830924,
     "user": {
      "displayName": "Sadib Hassan",
      "userId": "02293876242738667291"
     },
     "user_tz": -360
    },
    "id": "HVpJk2BwqMaM",
    "outputId": "3e64f8ec-8e54-465c-98e0-e1d2d61aad4f",
    "papermill": {
     "duration": 0.364435,
     "end_time": "2024-03-12T18:33:54.747674",
     "exception": false,
     "start_time": "2024-03-12T18:33:54.383239",
     "status": "completed"
    },
    "tags": []
   },
   "outputs": [
    {
     "data": {
      "text/plain": [
       "<matplotlib.legend.Legend at 0x7f0e4decd390>"
      ]
     },
     "execution_count": 10,
     "metadata": {},
     "output_type": "execute_result"
    },
    {
     "data": {
      "image/png": "[encoded data removed]",
      "text/plain": [
       "<Figure size 640x480 with 1 Axes>"
      ]
     },
     "metadata": {},
     "output_type": "display_data"
    }
   ],
   "source": [
    "plt.plot(history.history['loss'], label='train_loss')\n",
    "plt.plot(history.history['val_loss'], label = 'validation_loss')\n",
    "plt.xlabel('Epoch')\n",
    "plt.ylabel('Loss')\n",
    "plt.ylim([0, 10])\n",
    "plt.legend(loc='upper right')"
   ]
  },
  {
   "cell_type": "code",
   "execution_count": 11,
   "id": "400a21cd",
   "metadata": {
    "execution": {
     "iopub.execute_input": "2024-03-12T18:33:55.030977Z",
     "iopub.status.busy": "2024-03-12T18:33:55.030642Z",
     "iopub.status.idle": "2024-03-12T18:34:25.278992Z",
     "shell.execute_reply": "2024-03-12T18:34:25.277992Z"
    },
    "executionInfo": {
     "elapsed": 94737,
     "status": "ok",
     "timestamp": 1696883935632,
     "user": {
      "displayName": "Sadib Hassan",
      "userId": "02293876242738667291"
     },
     "user_tz": -360
    },
    "id": "IqKVE0SlvSU6",
    "outputId": "9ad15091-8d3c-493f-985c-84cdb37f1ded",
    "papermill": {
     "duration": 30.563338,
     "end_time": "2024-03-12T18:34:25.447296",
     "exception": false,
     "start_time": "2024-03-12T18:33:54.883958",
     "status": "completed"
    },
    "tags": []
   },
   "outputs": [
    {
     "name": "stdout",
     "output_type": "stream",
     "text": [
      "2/2 [==============================] - 3s 17ms/step\n",
      "2/2 [==============================] - 0s 33ms/step\n",
      "2/2 [==============================] - 0s 33ms/step\n",
      "2/2 [==============================] - 0s 33ms/step\n",
      "2/2 [==============================] - 0s 30ms/step\n",
      "2/2 [==============================] - 0s 33ms/step\n",
      "2/2 [==============================] - 0s 34ms/step\n",
      "2/2 [==============================] - 0s 33ms/step\n",
      "2/2 [==============================] - 0s 33ms/step\n",
      "2/2 [==============================] - 0s 33ms/step\n",
      "2/2 [==============================] - 0s 33ms/step\n",
      "2/2 [==============================] - 0s 33ms/step\n",
      "2/2 [==============================] - 0s 37ms/step\n",
      "2/2 [==============================] - 0s 34ms/step\n",
      "2/2 [==============================] - 0s 33ms/step\n",
      "2/2 [==============================] - 0s 33ms/step\n",
      "2/2 [==============================] - 0s 33ms/step\n",
      "2/2 [==============================] - 0s 33ms/step\n",
      "2/2 [==============================] - 0s 33ms/step\n",
      "2/2 [==============================] - 0s 33ms/step\n",
      "2/2 [==============================] - 0s 34ms/step\n",
      "2/2 [==============================] - 0s 33ms/step\n",
      "2/2 [==============================] - 0s 33ms/step\n",
      "2/2 [==============================] - 0s 34ms/step\n",
      "2/2 [==============================] - 0s 33ms/step\n",
      "2/2 [==============================] - 0s 34ms/step\n",
      "2/2 [==============================] - 0s 33ms/step\n",
      "2/2 [==============================] - 0s 34ms/step\n",
      "2/2 [==============================] - 0s 33ms/step\n",
      "2/2 [==============================] - 0s 33ms/step\n",
      "2/2 [==============================] - 0s 34ms/step\n",
      "2/2 [==============================] - 0s 34ms/step\n",
      "2/2 [==============================] - 0s 33ms/step\n",
      "2/2 [==============================] - 0s 33ms/step\n",
      "2/2 [==============================] - 0s 33ms/step\n",
      "2/2 [==============================] - 0s 33ms/step\n",
      "2/2 [==============================] - 0s 33ms/step\n",
      "2/2 [==============================] - 0s 33ms/step\n",
      "2/2 [==============================] - 0s 33ms/step\n",
      "2/2 [==============================] - 0s 33ms/step\n",
      "2/2 [==============================] - 0s 33ms/step\n",
      "2/2 [==============================] - 0s 33ms/step\n",
      "2/2 [==============================] - 0s 33ms/step\n",
      "2/2 [==============================] - 0s 34ms/step\n",
      "2/2 [==============================] - 0s 33ms/step\n",
      "2/2 [==============================] - 0s 34ms/step\n",
      "2/2 [==============================] - 0s 33ms/step\n",
      "2/2 [==============================] - 0s 34ms/step\n",
      "2/2 [==============================] - 0s 34ms/step\n",
      "2/2 [==============================] - 0s 34ms/step\n",
      "2/2 [==============================] - 0s 33ms/step\n",
      "2/2 [==============================] - 0s 34ms/step\n",
      "2/2 [==============================] - 0s 33ms/step\n",
      "2/2 [==============================] - 0s 33ms/step\n",
      "2/2 [==============================] - 0s 34ms/step\n",
      "2/2 [==============================] - 0s 34ms/step\n",
      "2/2 [==============================] - 0s 34ms/step\n",
      "2/2 [==============================] - 0s 33ms/step\n",
      "2/2 [==============================] - 0s 33ms/step\n",
      "2/2 [==============================] - 0s 33ms/step\n",
      "2/2 [==============================] - 0s 34ms/step\n",
      "2/2 [==============================] - 0s 34ms/step\n",
      "2/2 [==============================] - 0s 34ms/step\n",
      "2/2 [==============================] - 0s 38ms/step\n",
      "2/2 [==============================] - 0s 27ms/step\n",
      "2/2 [==============================] - 0s 34ms/step\n",
      "2/2 [==============================] - 0s 35ms/step\n",
      "2/2 [==============================] - 0s 34ms/step\n",
      "2/2 [==============================] - 0s 34ms/step\n",
      "2/2 [==============================] - 0s 33ms/step\n",
      "2/2 [==============================] - 0s 33ms/step\n",
      "2/2 [==============================] - 0s 34ms/step\n",
      "2/2 [==============================] - 0s 33ms/step\n",
      "2/2 [==============================] - 0s 34ms/step\n",
      "2/2 [==============================] - 0s 34ms/step\n",
      "2/2 [==============================] - 0s 34ms/step\n",
      "2/2 [==============================] - 0s 33ms/step\n",
      "2/2 [==============================] - 0s 33ms/step\n",
      "2/2 [==============================] - 0s 34ms/step\n",
      "2/2 [==============================] - 0s 34ms/step\n",
      "2/2 [==============================] - 0s 34ms/step\n",
      "2/2 [==============================] - 0s 34ms/step\n",
      "2/2 [==============================] - 0s 34ms/step\n",
      "2/2 [==============================] - 0s 34ms/step\n",
      "2/2 [==============================] - 0s 35ms/step\n",
      "2/2 [==============================] - 0s 33ms/step\n",
      "2/2 [==============================] - 0s 34ms/step\n",
      "2/2 [==============================] - 0s 34ms/step\n",
      "2/2 [==============================] - 0s 33ms/step\n",
      "2/2 [==============================] - 0s 33ms/step\n",
      "2/2 [==============================] - 0s 33ms/step\n",
      "2/2 [==============================] - 0s 34ms/step\n",
      "2/2 [==============================] - 0s 33ms/step\n",
      "2/2 [==============================] - 0s 34ms/step\n",
      "2/2 [==============================] - 0s 34ms/step\n",
      "2/2 [==============================] - 0s 34ms/step\n",
      "2/2 [==============================] - 0s 33ms/step\n",
      "2/2 [==============================] - 0s 33ms/step\n",
      "2/2 [==============================] - 0s 33ms/step\n",
      "2/2 [==============================] - 0s 34ms/step\n",
      "2/2 [==============================] - 0s 33ms/step\n",
      "2/2 [==============================] - 0s 33ms/step\n",
      "2/2 [==============================] - 0s 34ms/step\n",
      "2/2 [==============================] - 0s 34ms/step\n",
      "2/2 [==============================] - 0s 34ms/step\n",
      "2/2 [==============================] - 0s 34ms/step\n",
      "2/2 [==============================] - 0s 34ms/step\n",
      "2/2 [==============================] - 0s 34ms/step\n",
      "2/2 [==============================] - 0s 34ms/step\n",
      "2/2 [==============================] - 0s 34ms/step\n",
      "2/2 [==============================] - 0s 34ms/step\n",
      "2/2 [==============================] - 0s 34ms/step\n",
      "2/2 [==============================] - 0s 34ms/step\n",
      "2/2 [==============================] - 0s 33ms/step\n",
      "2/2 [==============================] - 0s 33ms/step\n",
      "2/2 [==============================] - 0s 34ms/step\n",
      "2/2 [==============================] - 0s 34ms/step\n",
      "2/2 [==============================] - 0s 33ms/step\n",
      "2/2 [==============================] - 0s 33ms/step\n",
      "2/2 [==============================] - 0s 34ms/step\n",
      "2/2 [==============================] - 0s 34ms/step\n",
      "2/2 [==============================] - 0s 34ms/step\n",
      "2/2 [==============================] - 0s 34ms/step\n",
      "2/2 [==============================] - 0s 34ms/step\n",
      "2/2 [==============================] - 0s 34ms/step\n",
      "2/2 [==============================] - 0s 34ms/step\n",
      "2/2 [==============================] - 0s 34ms/step\n",
      "2/2 [==============================] - 0s 34ms/step\n",
      "2/2 [==============================] - 0s 31ms/step\n",
      "2/2 [==============================] - 0s 31ms/step\n",
      "2/2 [==============================] - 0s 34ms/step\n",
      "2/2 [==============================] - 0s 33ms/step\n",
      "2/2 [==============================] - 0s 33ms/step\n",
      "2/2 [==============================] - 0s 33ms/step\n",
      "2/2 [==============================] - 0s 33ms/step\n",
      "2/2 [==============================] - 0s 34ms/step\n",
      "2/2 [==============================] - 0s 33ms/step\n",
      "2/2 [==============================] - 0s 35ms/step\n",
      "2/2 [==============================] - 0s 34ms/step\n",
      "2/2 [==============================] - 0s 34ms/step\n",
      "2/2 [==============================] - 0s 33ms/step\n",
      "2/2 [==============================] - 0s 34ms/step\n",
      "2/2 [==============================] - 0s 34ms/step\n",
      "2/2 [==============================] - 0s 32ms/step\n",
      "2/2 [==============================] - 0s 34ms/step\n",
      "2/2 [==============================] - 0s 33ms/step\n",
      "2/2 [==============================] - 0s 34ms/step\n",
      "2/2 [==============================] - 0s 34ms/step\n",
      "2/2 [==============================] - 0s 33ms/step\n",
      "2/2 [==============================] - 0s 33ms/step\n",
      "2/2 [==============================] - 0s 34ms/step\n",
      "2/2 [==============================] - 0s 34ms/step\n",
      "2/2 [==============================] - 0s 34ms/step\n",
      "2/2 [==============================] - 0s 34ms/step\n",
      "2/2 [==============================] - 0s 33ms/step\n",
      "2/2 [==============================] - 0s 34ms/step\n",
      "2/2 [==============================] - 0s 33ms/step\n",
      "1/1 [==============================] - 1s 1s/step\n"
     ]
    },
    {
     "data": {
      "image/png": "[encoded data removed]",
      "text/plain": [
       "<Figure size 800x600 with 2 Axes>"
      ]
     },
     "metadata": {},
     "output_type": "display_data"
    }
   ],
   "source": [
    "import numpy as np\n",
    "from sklearn.metrics import confusion_matrix\n",
    "import matplotlib.pyplot as plt\n",
    "import itertools\n",
    "\n",
    "# Assuming you have already trained your model and have 'val_ds' for validation data\n",
    "\n",
    "# Initialize empty lists for ground truth and predicted labels\n",
    "y_true = []\n",
    "y_pred = []\n",
    "\n",
    "# Iterate through the validation dataset to collect labels\n",
    "for x_batch, y_batch in val_ds:\n",
    "    y_true.extend(np.argmax(y_batch, axis=1))  # Convert one-hot encoded labels to class indices\n",
    "    y_pred.extend(np.argmax(model.predict(x_batch), axis=1))  # Make predictions using your trained model\n",
    "\n",
    "# Calculate the confusion matrix\n",
    "confusion = confusion_matrix(y_true, y_pred)\n",
    "\n",
    "# Plot the confusion matrix as a heatmap\n",
    "plt.figure(figsize=(8, 6))\n",
    "plt.imshow(confusion, interpolation='nearest', cmap=plt.cm.Blues)\n",
    "plt.title('Confusion Matrix')\n",
    "plt.colorbar()\n",
    "classes = ['glioma_tumor','meningioma_tumor','no_tumor','pituitary_tumor']  # Replace with your class labels\n",
    "tick_marks = np.arange(len(classes))\n",
    "plt.xticks(tick_marks, classes, rotation=45)\n",
    "plt.yticks(tick_marks, classes)\n",
    "\n",
    "# Add labels to each cell\n",
    "thresh = confusion.max() / 2.0\n",
    "for i, j in itertools.product(range(confusion.shape[0]), range(confusion.shape[1])):\n",
    "    plt.text(j, i, format(confusion[i, j], 'd'),\n",
    "             horizontalalignment=\"center\",\n",
    "             color=\"white\" if confusion[i, j] > thresh else \"black\")\n",
    "\n",
    "plt.ylabel('True label')\n",
    "plt.xlabel('Predicted label')\n",
    "plt.tight_layout()\n",
    "plt.show()\n"
   ]
  },
  {
   "cell_type": "code",
   "execution_count": 12,
   "id": "5451e608",
   "metadata": {
    "execution": {
     "iopub.execute_input": "2024-03-12T18:34:25.788539Z",
     "iopub.status.busy": "2024-03-12T18:34:25.787829Z",
     "iopub.status.idle": "2024-03-12T18:34:25.820448Z",
     "shell.execute_reply": "2024-03-12T18:34:25.819386Z"
    },
    "executionInfo": {
     "elapsed": 459,
     "status": "ok",
     "timestamp": 1696883982477,
     "user": {
      "displayName": "Sadib Hassan",
      "userId": "02293876242738667291"
     },
     "user_tz": -360
    },
    "id": "CR2mFdFQvau9",
    "outputId": "f728ab60-8bd6-4998-ba3f-ed83012f2ab9",
    "papermill": {
     "duration": 0.205303,
     "end_time": "2024-03-12T18:34:25.822522",
     "exception": false,
     "start_time": "2024-03-12T18:34:25.617219",
     "status": "completed"
    },
    "tags": []
   },
   "outputs": [
    {
     "name": "stdout",
     "output_type": "stream",
     "text": [
      "                  precision    recall  f1-score   support\n",
      "\n",
      "    glioma_tumor       0.99      0.71      0.82      3036\n",
      "meningioma_tumor       0.81      0.86      0.84      3079\n",
      "        no_tumor       0.74      0.96      0.84      1198\n",
      " pituitary_tumor       0.87      0.97      0.92      2766\n",
      "\n",
      "        accuracy                           0.86     10079\n",
      "       macro avg       0.85      0.88      0.85     10079\n",
      "    weighted avg       0.87      0.86      0.86     10079\n",
      "\n"
     ]
    }
   ],
   "source": [
    "from sklearn.metrics import classification_report\n",
    "\n",
    "# Assuming you have class_names defined as a list of class labels\n",
    "class_names = ['glioma_tumor','meningioma_tumor','no_tumor','pituitary_tumor']\n",
    "\n",
    "# Calculate the classification report with class names\n",
    "report = classification_report(y_true, y_pred, target_names=class_names)\n",
    "\n",
    "# Print the classification report\n",
    "print(report)"
   ]
  }
 ],
 "metadata": {
  "accelerator": "GPU",
  "colab": {
   "gpuType": "T4",
   "provenance": []
  },
  "kaggle": {
   "accelerator": "nvidiaTeslaT4",
   "dataSources": [
    {
     "sourceId": 165653935,
     "sourceType": "kernelVersion"
    }
   ],
   "dockerImageVersionId": 30648,
   "isGpuEnabled": true,
   "isInternetEnabled": true,
   "language": "python",
   "sourceType": "notebook"
  },
  "kernelspec": {
   "display_name": "Python 3",
   "language": "python",
   "name": "python3"
  },
  "language_info": {
   "codemirror_mode": {
    "name": "ipython",
    "version": 3
   },
   "file_extension": ".py",
   "mimetype": "text/x-python",
   "name": "python",
   "nbconvert_exporter": "python",
   "pygments_lexer": "ipython3",
   "version": "3.10.13"
  },
  "papermill": {
   "default_parameters": {},
   "duration": 602.439852,
   "end_time": "2024-03-12T18:34:29.615666",
   "environment_variables": {},
   "exception": null,
   "input_path": "__notebook__.ipynb",
   "output_path": "__notebook__.ipynb",
   "parameters": {},
   "start_time": "2024-03-12T18:24:27.175814",
   "version": "2.5.0"
  }
 },
 "nbformat": 4,
 "nbformat_minor": 5
}

{
 "cells": [
  {
   "cell_type": "code",
   "execution_count": 1,
   "id": "cf4d71c5",
   "metadata": {
    "execution": {
     "iopub.execute_input": "2024-03-12T18:16:56.412225Z",
     "iopub.status.busy": "2024-03-12T18:16:56.411954Z",
     "iopub.status.idle": "2024-03-12T18:17:11.576204Z",
     "shell.execute_reply": "2024-03-12T18:17:11.575043Z"
    },
    "executionInfo": {
     "elapsed": 3277,
     "status": "ok",
     "timestamp": 1696872361132,
     "user": {
      "displayName": "Sadib Hassan",
      "userId": "02293876242738667291"
     },
     "user_tz": -360
    },
    "id": "wPvgC2ERvusD",
    "papermill": {
     "duration": 15.17262,
     "end_time": "2024-03-12T18:17:11.578765",
     "exception": false,
     "start_time": "2024-03-12T18:16:56.406145",
     "status": "completed"
    },
    "tags": []
   },
   "outputs": [
    {
     "name": "stderr",
     "output_type": "stream",
     "text": [
      "2024-03-12 18:16:58.763178: E external/local_xla/xla/stream_executor/cuda/cuda_dnn.cc:9261] Unable to register cuDNN factory: Attempting to register factory for plugin cuDNN when one has already been registered\n",
      "2024-03-12 18:16:58.763271: E external/local_xla/xla/stream_executor/cuda/cuda_fft.cc:607] Unable to register cuFFT factory: Attempting to register factory for plugin cuFFT when one has already been registered\n",
      "2024-03-12 18:16:58.952602: E external/local_xla/xla/stream_executor/cuda/cuda_blas.cc:1515] Unable to register cuBLAS factory: Attempting to register factory for plugin cuBLAS when one has already been registered\n"
     ]
    }
   ],
   "source": [
    "import tensorflow as tf\n",
    "from tensorflow.keras.applications import ResNet50\n",
    "from tensorflow.keras.layers import Dense, Flatten\n",
    "from tensorflow.keras.models import Model\n",
    "from tensorflow.keras.preprocessing.image import ImageDataGenerator\n",
    "from tensorflow.keras.callbacks import EarlyStopping"
   ]
  },
  {
   "cell_type": "code",
   "execution_count": 2,
   "id": "eeb20edb",
   "metadata": {
    "execution": {
     "iopub.execute_input": "2024-03-12T18:17:11.589808Z",
     "iopub.status.busy": "2024-03-12T18:17:11.589274Z",
     "iopub.status.idle": "2024-03-12T18:17:15.348912Z",
     "shell.execute_reply": "2024-03-12T18:17:15.348148Z"
    },
    "executionInfo": {
     "elapsed": 30297,
     "status": "ok",
     "timestamp": 1696872391408,
     "user": {
      "displayName": "Sadib Hassan",
      "userId": "02293876242738667291"
     },
     "user_tz": -360
    },
    "id": "Ih2WYBNWzxdT",
    "outputId": "e39aaeb5-66f0-4399-feed-66cfa0b26ea2",
    "papermill": {
     "duration": 3.767188,
     "end_time": "2024-03-12T18:17:15.350991",
     "exception": false,
     "start_time": "2024-03-12T18:17:11.583803",
     "status": "completed"
    },
    "tags": []
   },
   "outputs": [
    {
     "name": "stdout",
     "output_type": "stream",
     "text": [
      "Found 3027 files belonging to 4 classes.\n",
      "Using 1908 files for training.\n",
      "Found 3027 files belonging to 4 classes.\n",
      "Using 1119 files for validation.\n"
     ]
    }
   ],
   "source": [
    "train_data_dir = \"/kaggle/input/eccv-brain-mri-augmentation-manual/original_dataset/\"\n",
    "\n",
    "train_ds = tf.keras.utils.image_dataset_from_directory(\n",
    "  train_data_dir,\n",
    "  labels='inferred',\n",
    "  label_mode='categorical',\n",
    "  validation_split=0.37,\n",
    "  subset=\"training\",\n",
    "  seed=107,\n",
    "  image_size=(224,224),\n",
    "  batch_size=64\n",
    ")\n",
    "\n",
    "val_ds = tf.keras.utils.image_dataset_from_directory(\n",
    "  train_data_dir,\n",
    "  labels='inferred',\n",
    "  label_mode='categorical',\n",
    "  validation_split=0.37,\n",
    "  subset=\"validation\",\n",
    "  seed=107,\n",
    "  image_size=(224,224),\n",
    "  batch_size=64)"
   ]
  },
  {
   "cell_type": "code",
   "execution_count": 3,
   "id": "ad8d311b",
   "metadata": {
    "execution": {
     "iopub.execute_input": "2024-03-12T18:17:15.362369Z",
     "iopub.status.busy": "2024-03-12T18:17:15.362057Z",
     "iopub.status.idle": "2024-03-12T18:17:15.366101Z",
     "shell.execute_reply": "2024-03-12T18:17:15.365260Z"
    },
    "executionInfo": {
     "elapsed": 29,
     "status": "ok",
     "timestamp": 1696872391409,
     "user": {
      "displayName": "Sadib Hassan",
      "userId": "02293876242738667291"
     },
     "user_tz": -360
    },
    "id": "CFh8ai4lQsWt",
    "papermill": {
     "duration": 0.011777,
     "end_time": "2024-03-12T18:17:15.367925",
     "exception": false,
     "start_time": "2024-03-12T18:17:15.356148",
     "status": "completed"
    },
    "tags": []
   },
   "outputs": [],
   "source": [
    "from tensorflow.keras.applications import MobileNetV3Small, MobileNetV3Large"
   ]
  },
  {
   "cell_type": "code",
   "execution_count": 4,
   "id": "72185434",
   "metadata": {
    "execution": {
     "iopub.execute_input": "2024-03-12T18:17:15.378861Z",
     "iopub.status.busy": "2024-03-12T18:17:15.378377Z",
     "iopub.status.idle": "2024-03-12T18:17:18.024613Z",
     "shell.execute_reply": "2024-03-12T18:17:18.023742Z"
    },
    "executionInfo": {
     "elapsed": 2636,
     "status": "ok",
     "timestamp": 1696872394018,
     "user": {
      "displayName": "Sadib Hassan",
      "userId": "02293876242738667291"
     },
     "user_tz": -360
    },
    "id": "YOFAjh19QvDs",
    "outputId": "110b9b47-5b42-4e6a-be2a-c1d6afbd5aad",
    "papermill": {
     "duration": 2.654174,
     "end_time": "2024-03-12T18:17:18.026923",
     "exception": false,
     "start_time": "2024-03-12T18:17:15.372749",
     "status": "completed"
    },
    "tags": []
   },
   "outputs": [
    {
     "name": "stdout",
     "output_type": "stream",
     "text": [
      "Downloading data from https://storage.googleapis.com/tensorflow/keras-applications/mobilenet_v3/weights_mobilenet_v3_large_224_1.0_float_no_top_v2.h5\n",
      "12683000/12683000 [==============================] - 0s 0us/step\n"
     ]
    }
   ],
   "source": [
    "base_model = MobileNetV3Large(weights='imagenet', include_top=False, input_shape=(224, 224, 3))"
   ]
  },
  {
   "cell_type": "code",
   "execution_count": 5,
   "id": "55502d71",
   "metadata": {
    "execution": {
     "iopub.execute_input": "2024-03-12T18:17:18.038995Z",
     "iopub.status.busy": "2024-03-12T18:17:18.038725Z",
     "iopub.status.idle": "2024-03-12T18:17:18.675792Z",
     "shell.execute_reply": "2024-03-12T18:17:18.674811Z"
    },
    "executionInfo": {
     "elapsed": 711,
     "status": "ok",
     "timestamp": 1696872394721,
     "user": {
      "displayName": "Sadib Hassan",
      "userId": "02293876242738667291"
     },
     "user_tz": -360
    },
    "id": "k8bQoSs0Q7A8",
    "papermill": {
     "duration": 0.646102,
     "end_time": "2024-03-12T18:17:18.678602",
     "exception": false,
     "start_time": "2024-03-12T18:17:18.032500",
     "status": "completed"
    },
    "tags": []
   },
   "outputs": [],
   "source": [
    "from tensorflow.keras import Sequential\n",
    "from tensorflow.keras.layers import GlobalAveragePooling2D, Dense\n",
    "\n",
    "num_classes = 4\n",
    "accuracies = []\n",
    "\n",
    "earlystopping = EarlyStopping(monitor=\"val_loss\",\n",
    "                                mode=\"min\", patience=5,\n",
    "                                restore_best_weights=True)\n",
    "\n",
    "model = Sequential([\n",
    "    base_model,\n",
    "    GlobalAveragePooling2D(),\n",
    "    Dense(256, activation='relu'),\n",
    "    Dense(num_classes, activation='softmax')\n",
    "])"
   ]
  },
  {
   "cell_type": "code",
   "execution_count": 6,
   "id": "e129225d",
   "metadata": {
    "execution": {
     "iopub.execute_input": "2024-03-12T18:17:18.694098Z",
     "iopub.status.busy": "2024-03-12T18:17:18.693757Z",
     "iopub.status.idle": "2024-03-12T18:17:18.721718Z",
     "shell.execute_reply": "2024-03-12T18:17:18.720800Z"
    },
    "executionInfo": {
     "elapsed": 10,
     "status": "ok",
     "timestamp": 1696872394721,
     "user": {
      "displayName": "Sadib Hassan",
      "userId": "02293876242738667291"
     },
     "user_tz": -360
    },
    "id": "JFZtAh8qRSpc",
    "papermill": {
     "duration": 0.037284,
     "end_time": "2024-03-12T18:17:18.723639",
     "exception": false,
     "start_time": "2024-03-12T18:17:18.686355",
     "status": "completed"
    },
    "tags": []
   },
   "outputs": [],
   "source": [
    "model.compile(optimizer='adam', loss='categorical_crossentropy', metrics=['accuracy'])"
   ]
  },
  {
   "cell_type": "code",
   "execution_count": 7,
   "id": "d6ec6611",
   "metadata": {
    "execution": {
     "iopub.execute_input": "2024-03-12T18:17:18.737037Z",
     "iopub.status.busy": "2024-03-12T18:17:18.736761Z",
     "iopub.status.idle": "2024-03-12T18:18:55.547657Z",
     "shell.execute_reply": "2024-03-12T18:18:55.546570Z"
    },
    "executionInfo": {
     "elapsed": 11374725,
     "status": "ok",
     "timestamp": 1696883769436,
     "user": {
      "displayName": "Sadib Hassan",
      "userId": "02293876242738667291"
     },
     "user_tz": -360
    },
    "id": "svg34aDO4hdV",
    "outputId": "0e6433f0-f6e0-4719-e822-522e849620f7",
    "papermill": {
     "duration": 96.819818,
     "end_time": "2024-03-12T18:18:55.550201",
     "exception": false,
     "start_time": "2024-03-12T18:17:18.730383",
     "status": "completed"
    },
    "tags": []
   },
   "outputs": [
    {
     "name": "stdout",
     "output_type": "stream",
     "text": [
      "Epoch 1/30\n"
     ]
    },
    {
     "name": "stderr",
     "output_type": "stream",
     "text": [
      "WARNING: All log messages before absl::InitializeLog() is called are written to STDERR\n",
      "I0000 00:00:1710267456.988912      77 device_compiler.h:186] Compiled cluster using XLA!  This line is logged at most once for the lifetime of the process.\n"
     ]
    },
    {
     "name": "stdout",
     "output_type": "stream",
     "text": [
      "30/30 [==============================] - 53s 547ms/step - loss: 0.4681 - accuracy: 0.8391 - val_loss: 0.9290 - val_accuracy: 0.7909\n",
      "Epoch 2/30\n",
      "30/30 [==============================] - 9s 275ms/step - loss: 0.1045 - accuracy: 0.9659 - val_loss: 0.9328 - val_accuracy: 0.8347\n",
      "Epoch 3/30\n",
      "30/30 [==============================] - 9s 274ms/step - loss: 0.0532 - accuracy: 0.9822 - val_loss: 0.9911 - val_accuracy: 0.8525\n",
      "Epoch 4/30\n",
      "30/30 [==============================] - 9s 278ms/step - loss: 0.0345 - accuracy: 0.9874 - val_loss: 1.3070 - val_accuracy: 0.8633\n",
      "Epoch 5/30\n",
      "30/30 [==============================] - 9s 277ms/step - loss: 0.0297 - accuracy: 0.9879 - val_loss: 2.0144 - val_accuracy: 0.8177\n",
      "Epoch 6/30\n",
      "30/30 [==============================] - 9s 283ms/step - loss: 0.0419 - accuracy: 0.9879 - val_loss: 2.9096 - val_accuracy: 0.8025\n",
      "Overall accuracy: 0.8025022149085999\n"
     ]
    }
   ],
   "source": [
    "history = model.fit(train_ds, validation_data = val_ds, epochs = 30, callbacks=[earlystopping])\n",
    "\n",
    "accuracy = history.history['val_accuracy'][-1]\n",
    "accuracies.append(accuracy)\n",
    "print(f\"Overall accuracy: {accuracy}\")"
   ]
  },
  {
   "cell_type": "code",
   "execution_count": 8,
   "id": "bfa5c10d",
   "metadata": {
    "execution": {
     "iopub.execute_input": "2024-03-12T18:18:55.594148Z",
     "iopub.status.busy": "2024-03-12T18:18:55.593308Z",
     "iopub.status.idle": "2024-03-12T18:18:56.172862Z",
     "shell.execute_reply": "2024-03-12T18:18:56.171856Z"
    },
    "executionInfo": {
     "elapsed": 2132,
     "status": "ok",
     "timestamp": 1696883771552,
     "user": {
      "displayName": "Sadib Hassan",
      "userId": "02293876242738667291"
     },
     "user_tz": -360
    },
    "id": "6V3293xs7s-r",
    "outputId": "ab217ad3-3882-4d64-aef2-3f07cee23998",
    "papermill": {
     "duration": 0.603115,
     "end_time": "2024-03-12T18:18:56.175202",
     "exception": false,
     "start_time": "2024-03-12T18:18:55.572087",
     "status": "completed"
    },
    "tags": []
   },
   "outputs": [
    {
     "name": "stderr",
     "output_type": "stream",
     "text": [
      "/opt/conda/lib/python3.10/site-packages/keras/src/engine/training.py:3103: UserWarning: You are saving your model as an HDF5 file via `model.save()`. This file format is considered legacy. We recommend using instead the native Keras format, e.g. `model.save('my_model.keras')`.\n",
      "  saving_api.save_model(\n"
     ]
    }
   ],
   "source": [
    "import tensorflow as tf\n",
    "\n",
    "model.save('/kaggle/working/mobileNetv3Large_original.h5')\n",
    "\n",
    "# Save the history to a file\n",
    "import pickle\n",
    "\n",
    "with open('/kaggle/working/mobileNetv3Large_original.pkl', 'wb') as history_file:\n",
    "    pickle.dump(history.history, history_file)"
   ]
  },
  {
   "cell_type": "code",
   "execution_count": 9,
   "id": "95071e7b",
   "metadata": {
    "execution": {
     "iopub.execute_input": "2024-03-12T18:18:56.218389Z",
     "iopub.status.busy": "2024-03-12T18:18:56.218097Z",
     "iopub.status.idle": "2024-03-12T18:18:56.444070Z",
     "shell.execute_reply": "2024-03-12T18:18:56.443129Z"
    },
    "executionInfo": {
     "elapsed": 1774,
     "status": "ok",
     "timestamp": 1696883808470,
     "user": {
      "displayName": "Sadib Hassan",
      "userId": "02293876242738667291"
     },
     "user_tz": -360
    },
    "id": "FuKK4SmWp7j3",
    "outputId": "58a39a7f-77d9-4275-a952-5d84576d1b2e",
    "papermill": {
     "duration": 0.249599,
     "end_time": "2024-03-12T18:18:56.445937",
     "exception": false,
     "start_time": "2024-03-12T18:18:56.196338",
     "status": "completed"
    },
    "tags": []
   },
   "outputs": [
    {
     "data": {
      "text/plain": [
       "<matplotlib.legend.Legend at 0x7c5644266bf0>"
      ]
     },
     "execution_count": 9,
     "metadata": {},
     "output_type": "execute_result"
    },
    {
     "data": {
      "image/png": "[encoded data removed]",
      "text/plain": [
       "<Figure size 640x480 with 1 Axes>"
      ]
     },
     "metadata": {},
     "output_type": "display_data"
    }
   ],
   "source": [
    "import matplotlib.pyplot as plt\n",
    "\n",
    "plt.plot(history.history['accuracy'], label='train_accuracy')\n",
    "plt.plot(history.history['val_accuracy'], label = 'validation_accuracy')\n",
    "plt.xlabel('Epoch')\n",
    "plt.ylabel('Accuracy')\n",
    "plt.ylim([0.1, 1.2])\n",
    "plt.legend(loc='lower right')"
   ]
  },
  {
   "cell_type": "code",
   "execution_count": 10,
   "id": "269ce46a",
   "metadata": {
    "execution": {
     "iopub.execute_input": "2024-03-12T18:18:56.488915Z",
     "iopub.status.busy": "2024-03-12T18:18:56.488632Z",
     "iopub.status.idle": "2024-03-12T18:18:56.676644Z",
     "shell.execute_reply": "2024-03-12T18:18:56.675817Z"
    },
    "executionInfo": {
     "elapsed": 1430,
     "status": "ok",
     "timestamp": 1696883830924,
     "user": {
      "displayName": "Sadib Hassan",
      "userId": "02293876242738667291"
     },
     "user_tz": -360
    },
    "id": "HVpJk2BwqMaM",
    "outputId": "3e64f8ec-8e54-465c-98e0-e1d2d61aad4f",
    "papermill": {
     "duration": 0.211528,
     "end_time": "2024-03-12T18:18:56.678515",
     "exception": false,
     "start_time": "2024-03-12T18:18:56.466987",
     "status": "completed"
    },
    "tags": []
   },
   "outputs": [
    {
     "data": {
      "text/plain": [
       "<matplotlib.legend.Legend at 0x7c5646f792d0>"
      ]
     },
     "execution_count": 10,
     "metadata": {},
     "output_type": "execute_result"
    },
    {
     "data": {
      "image/png": "[encoded data removed]",
      "text/plain": [
       "<Figure size 640x480 with 1 Axes>"
      ]
     },
     "metadata": {},
     "output_type": "display_data"
    }
   ],
   "source": [
    "plt.plot(history.history['loss'], label='train_loss')\n",
    "plt.plot(history.history['val_loss'], label = 'validation_loss')\n",
    "plt.xlabel('Epoch')\n",
    "plt.ylabel('Loss')\n",
    "plt.ylim([0, 10])\n",
    "plt.legend(loc='upper right')"
   ]
  },
  {
   "cell_type": "code",
   "execution_count": 11,
   "id": "b977a049",
   "metadata": {
    "execution": {
     "iopub.execute_input": "2024-03-12T18:18:56.722877Z",
     "iopub.status.busy": "2024-03-12T18:18:56.722294Z",
     "iopub.status.idle": "2024-03-12T18:19:04.586058Z",
     "shell.execute_reply": "2024-03-12T18:19:04.585132Z"
    },
    "executionInfo": {
     "elapsed": 94737,
     "status": "ok",
     "timestamp": 1696883935632,
     "user": {
      "displayName": "Sadib Hassan",
      "userId": "02293876242738667291"
     },
     "user_tz": -360
    },
    "id": "IqKVE0SlvSU6",
    "outputId": "9ad15091-8d3c-493f-985c-84cdb37f1ded",
    "papermill": {
     "duration": 7.888444,
     "end_time": "2024-03-12T18:19:04.588342",
     "exception": false,
     "start_time": "2024-03-12T18:18:56.699898",
     "status": "completed"
    },
    "tags": []
   },
   "outputs": [
    {
     "name": "stdout",
     "output_type": "stream",
     "text": [
      "2/2 [==============================] - 3s 16ms/step\n",
      "2/2 [==============================] - 0s 32ms/step\n",
      "2/2 [==============================] - 0s 32ms/step\n",
      "2/2 [==============================] - 0s 35ms/step\n",
      "2/2 [==============================] - 0s 33ms/step\n",
      "2/2 [==============================] - 0s 31ms/step\n",
      "2/2 [==============================] - 0s 32ms/step\n",
      "2/2 [==============================] - 0s 33ms/step\n",
      "2/2 [==============================] - 0s 33ms/step\n",
      "2/2 [==============================] - 0s 33ms/step\n",
      "2/2 [==============================] - 0s 32ms/step\n",
      "2/2 [==============================] - 0s 33ms/step\n",
      "2/2 [==============================] - 0s 32ms/step\n",
      "2/2 [==============================] - 0s 33ms/step\n",
      "2/2 [==============================] - 0s 31ms/step\n",
      "2/2 [==============================] - 0s 33ms/step\n",
      "2/2 [==============================] - 0s 33ms/step\n",
      "1/1 [==============================] - 1s 1s/step\n"
     ]
    },
    {
     "data": {
      "image/png": "[encoded data removed]",
      "text/plain": [
       "<Figure size 800x600 with 2 Axes>"
      ]
     },
     "metadata": {},
     "output_type": "display_data"
    }
   ],
   "source": [
    "import numpy as np\n",
    "from sklearn.metrics import confusion_matrix\n",
    "import matplotlib.pyplot as plt\n",
    "import itertools\n",
    "\n",
    "# Assuming you have already trained your model and have 'val_ds' for validation data\n",
    "\n",
    "# Initialize empty lists for ground truth and predicted labels\n",
    "y_true = []\n",
    "y_pred = []\n",
    "\n",
    "# Iterate through the validation dataset to collect labels\n",
    "for x_batch, y_batch in val_ds:\n",
    "    y_true.extend(np.argmax(y_batch, axis=1))  # Convert one-hot encoded labels to class indices\n",
    "    y_pred.extend(np.argmax(model.predict(x_batch), axis=1))  # Make predictions using your trained model\n",
    "\n",
    "# Calculate the confusion matrix\n",
    "confusion = confusion_matrix(y_true, y_pred)\n",
    "\n",
    "# Plot the confusion matrix as a heatmap\n",
    "plt.figure(figsize=(8, 6))\n",
    "plt.imshow(confusion, interpolation='nearest', cmap=plt.cm.Blues)\n",
    "plt.title('Confusion Matrix')\n",
    "plt.colorbar()\n",
    "classes = ['glioma_tumor','meningioma_tumor','no_tumor','pituitary_tumor']  # Replace with your class labels\n",
    "tick_marks = np.arange(len(classes))\n",
    "plt.xticks(tick_marks, classes, rotation=45)\n",
    "plt.yticks(tick_marks, classes)\n",
    "\n",
    "# Add labels to each cell\n",
    "thresh = confusion.max() / 2.0\n",
    "for i, j in itertools.product(range(confusion.shape[0]), range(confusion.shape[1])):\n",
    "    plt.text(j, i, format(confusion[i, j], 'd'),\n",
    "             horizontalalignment=\"center\",\n",
    "             color=\"white\" if confusion[i, j] > thresh else \"black\")\n",
    "\n",
    "plt.ylabel('True label')\n",
    "plt.xlabel('Predicted label')\n",
    "plt.tight_layout()\n",
    "plt.show()\n"
   ]
  },
  {
   "cell_type": "code",
   "execution_count": 12,
   "id": "65c03d74",
   "metadata": {
    "execution": {
     "iopub.execute_input": "2024-03-12T18:19:04.640607Z",
     "iopub.status.busy": "2024-03-12T18:19:04.639812Z",
     "iopub.status.idle": "2024-03-12T18:19:04.655895Z",
     "shell.execute_reply": "2024-03-12T18:19:04.654682Z"
    },
    "executionInfo": {
     "elapsed": 459,
     "status": "ok",
     "timestamp": 1696883982477,
     "user": {
      "displayName": "Sadib Hassan",
      "userId": "02293876242738667291"
     },
     "user_tz": -360
    },
    "id": "CR2mFdFQvau9",
    "outputId": "f728ab60-8bd6-4998-ba3f-ed83012f2ab9",
    "papermill": {
     "duration": 0.044088,
     "end_time": "2024-03-12T18:19:04.657812",
     "exception": false,
     "start_time": "2024-03-12T18:19:04.613724",
     "status": "completed"
    },
    "tags": []
   },
   "outputs": [
    {
     "name": "stdout",
     "output_type": "stream",
     "text": [
      "                  precision    recall  f1-score   support\n",
      "\n",
      "    glioma_tumor       0.79      0.90      0.84       339\n",
      "meningioma_tumor       0.87      0.68      0.76       353\n",
      "        no_tumor       1.00      0.41      0.58       133\n",
      " pituitary_tumor       0.71      0.97      0.82       294\n",
      "\n",
      "        accuracy                           0.79      1119\n",
      "       macro avg       0.84      0.74      0.75      1119\n",
      "    weighted avg       0.82      0.79      0.78      1119\n",
      "\n"
     ]
    }
   ],
   "source": [
    "from sklearn.metrics import classification_report\n",
    "\n",
    "# Assuming you have class_names defined as a list of class labels\n",
    "class_names = ['glioma_tumor','meningioma_tumor','no_tumor','pituitary_tumor']\n",
    "\n",
    "# Calculate the classification report with class names\n",
    "report = classification_report(y_true, y_pred, target_names=class_names)\n",
    "\n",
    "# Print the classification report\n",
    "print(report)"
   ]
  }
 ],
 "metadata": {
  "accelerator": "GPU",
  "colab": {
   "gpuType": "T4",
   "provenance": []
  },
  "kaggle": {
   "accelerator": "nvidiaTeslaT4",
   "dataSources": [
    {
     "sourceId": 165653935,
     "sourceType": "kernelVersion"
    }
   ],
   "dockerImageVersionId": 30648,
   "isGpuEnabled": true,
   "isInternetEnabled": true,
   "language": "python",
   "sourceType": "notebook"
  },
  "kernelspec": {
   "display_name": "Python 3",
   "language": "python",
   "name": "python3"
  },
  "language_info": {
   "codemirror_mode": {
    "name": "ipython",
    "version": 3
   },
   "file_extension": ".py",
   "mimetype": "text/x-python",
   "name": "python",
   "nbconvert_exporter": "python",
   "pygments_lexer": "ipython3",
   "version": "3.10.13"
  },
  "papermill": {
   "default_parameters": {},
   "duration": 134.300386,
   "end_time": "2024-03-12T18:19:07.799218",
   "environment_variables": {},
   "exception": null,
   "input_path": "__notebook__.ipynb",
   "output_path": "__notebook__.ipynb",
   "parameters": {},
   "start_time": "2024-03-12T18:16:53.498832",
   "version": "2.5.0"
  }
 },
 "nbformat": 4,
 "nbformat_minor": 5
}

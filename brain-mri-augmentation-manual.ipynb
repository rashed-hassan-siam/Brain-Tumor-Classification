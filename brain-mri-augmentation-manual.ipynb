{
 "cells": [
  {
   "cell_type": "code",
   "execution_count": 1,
   "id": "82aefd71",
   "metadata": {
    "execution": {
     "iopub.execute_input": "2024-02-11T08:12:07.634288Z",
     "iopub.status.busy": "2024-02-11T08:12:07.633731Z",
     "iopub.status.idle": "2024-02-11T08:12:07.638796Z",
     "shell.execute_reply": "2024-02-11T08:12:07.637494Z"
    },
    "executionInfo": {
     "elapsed": 29554,
     "status": "ok",
     "timestamp": 1706296077882,
     "user": {
      "displayName": "Rashed Hassan Siam",
      "userId": "08405552312238656928"
     },
     "user_tz": -360
    },
    "id": "p65gc_a4WU7h",
    "outputId": "74c58659-e6d6-499d-faef-259d9c8f9cee",
    "papermill": {
     "duration": 0.013442,
     "end_time": "2024-02-11T08:12:07.641148",
     "exception": false,
     "start_time": "2024-02-11T08:12:07.627706",
     "status": "completed"
    },
    "tags": []
   },
   "outputs": [],
   "source": [
    "# from google.colab import drive\n",
    "# drive.mount('/content/drive')"
   ]
  },
  {
   "cell_type": "code",
   "execution_count": 2,
   "id": "f512df7f",
   "metadata": {
    "execution": {
     "iopub.execute_input": "2024-02-11T08:12:07.650763Z",
     "iopub.status.busy": "2024-02-11T08:12:07.649762Z",
     "iopub.status.idle": "2024-02-11T08:12:07.666059Z",
     "shell.execute_reply": "2024-02-11T08:12:07.664849Z"
    },
    "executionInfo": {
     "elapsed": 14,
     "status": "ok",
     "timestamp": 1706296077883,
     "user": {
      "displayName": "Rashed Hassan Siam",
      "userId": "08405552312238656928"
     },
     "user_tz": -360
    },
    "id": "sA4jb0-pTn_m",
    "papermill": {
     "duration": 0.02366,
     "end_time": "2024-02-11T08:12:07.668756",
     "exception": false,
     "start_time": "2024-02-11T08:12:07.645096",
     "status": "completed"
    },
    "tags": []
   },
   "outputs": [],
   "source": [
    "from PIL import Image, ImageEnhance\n",
    "import os\n",
    "import shutil\n",
    "import hashlib\n",
    "import numpy as np"
   ]
  },
  {
   "cell_type": "code",
   "execution_count": 3,
   "id": "56e0d98e",
   "metadata": {
    "execution": {
     "iopub.execute_input": "2024-02-11T08:12:07.678654Z",
     "iopub.status.busy": "2024-02-11T08:12:07.678236Z",
     "iopub.status.idle": "2024-02-11T08:12:07.685319Z",
     "shell.execute_reply": "2024-02-11T08:12:07.683613Z"
    },
    "executionInfo": {
     "elapsed": 13,
     "status": "ok",
     "timestamp": 1706296077883,
     "user": {
      "displayName": "Rashed Hassan Siam",
      "userId": "08405552312238656928"
     },
     "user_tz": -360
    },
    "id": "oWVA8U1YWOqG",
    "papermill": {
     "duration": 0.015402,
     "end_time": "2024-02-11T08:12:07.688125",
     "exception": false,
     "start_time": "2024-02-11T08:12:07.672723",
     "status": "completed"
    },
    "tags": []
   },
   "outputs": [],
   "source": [
    "data_path = \"/kaggle/working/\"\n",
    "\n",
    "# if (os.path.exists(data_path + \"original_dataset/\") == False):\n",
    "#   os.mkdir(data_path + \"original_dataset/\")\n",
    "original_data_path = data_path + \"original_dataset/\"\n",
    "\n",
    "if (os.path.exists(data_path + \"augmented_dataset/\") == False):\n",
    "  os.mkdir(data_path + \"augmented_dataset/\")\n",
    "augmented_data_path = data_path + \"augmented_dataset/\""
   ]
  },
  {
   "cell_type": "code",
   "execution_count": 4,
   "id": "3f730d42",
   "metadata": {
    "execution": {
     "iopub.execute_input": "2024-02-11T08:12:07.698049Z",
     "iopub.status.busy": "2024-02-11T08:12:07.697656Z",
     "iopub.status.idle": "2024-02-11T08:12:07.704151Z",
     "shell.execute_reply": "2024-02-11T08:12:07.702607Z"
    },
    "executionInfo": {
     "elapsed": 48432,
     "status": "ok",
     "timestamp": 1706296126303,
     "user": {
      "displayName": "Rashed Hassan Siam",
      "userId": "08405552312238656928"
     },
     "user_tz": -360
    },
    "id": "NNaWl8Ssixrv",
    "outputId": "a9dd1c00-5d1b-4104-fb3e-d58980804bbf",
    "papermill": {
     "duration": 0.014632,
     "end_time": "2024-02-11T08:12:07.706833",
     "exception": false,
     "start_time": "2024-02-11T08:12:07.692201",
     "status": "completed"
    },
    "scrolled": true,
    "tags": []
   },
   "outputs": [],
   "source": [
    "# !unzip -n \"/content/drive/MyDrive/Colab Notebooks/MRI augmentation/datasets/Data.zip\" -d \"/content/drive/MyDrive/Colab Notebooks/MRI augmentation/datasets/original_dataset/\""
   ]
  },
  {
   "cell_type": "code",
   "execution_count": 5,
   "id": "6ca7caf5",
   "metadata": {
    "execution": {
     "iopub.execute_input": "2024-02-11T08:12:07.716129Z",
     "iopub.status.busy": "2024-02-11T08:12:07.715791Z",
     "iopub.status.idle": "2024-02-11T08:12:07.720164Z",
     "shell.execute_reply": "2024-02-11T08:12:07.719076Z"
    },
    "executionInfo": {
     "elapsed": 128,
     "status": "ok",
     "timestamp": 1706296126304,
     "user": {
      "displayName": "Rashed Hassan Siam",
      "userId": "08405552312238656928"
     },
     "user_tz": -360
    },
    "id": "RmRsZWcRqwoo",
    "papermill": {
     "duration": 0.011924,
     "end_time": "2024-02-11T08:12:07.722606",
     "exception": false,
     "start_time": "2024-02-11T08:12:07.710682",
     "status": "completed"
    },
    "tags": []
   },
   "outputs": [],
   "source": [
    "# original_data_path = original_data_path + \"Data/\""
   ]
  },
  {
   "cell_type": "code",
   "execution_count": 6,
   "id": "a0250b5e",
   "metadata": {
    "execution": {
     "iopub.execute_input": "2024-02-11T08:12:07.731771Z",
     "iopub.status.busy": "2024-02-11T08:12:07.731393Z",
     "iopub.status.idle": "2024-02-11T08:12:20.780578Z",
     "shell.execute_reply": "2024-02-11T08:12:20.779525Z"
    },
    "papermill": {
     "duration": 13.056433,
     "end_time": "2024-02-11T08:12:20.782809",
     "exception": false,
     "start_time": "2024-02-11T08:12:07.726376",
     "status": "completed"
    },
    "tags": []
   },
   "outputs": [
    {
     "data": {
      "text/plain": [
       "'/kaggle/working/original_dataset/'"
      ]
     },
     "execution_count": 6,
     "metadata": {},
     "output_type": "execute_result"
    }
   ],
   "source": [
    "shutil.copytree('/kaggle/input/brain-mri-initial/initial', original_data_path)"
   ]
  },
  {
   "cell_type": "code",
   "execution_count": 7,
   "id": "9cb3b511",
   "metadata": {
    "execution": {
     "iopub.execute_input": "2024-02-11T08:12:20.791846Z",
     "iopub.status.busy": "2024-02-11T08:12:20.791486Z",
     "iopub.status.idle": "2024-02-11T08:12:20.799284Z",
     "shell.execute_reply": "2024-02-11T08:12:20.797786Z"
    },
    "executionInfo": {
     "elapsed": 126,
     "status": "ok",
     "timestamp": 1706296126304,
     "user": {
      "displayName": "Rashed Hassan Siam",
      "userId": "08405552312238656928"
     },
     "user_tz": -360
    },
    "id": "Ci83gQUUta3Y",
    "outputId": "7297a9a4-f865-480f-f248-21ac0ff1a62d",
    "papermill": {
     "duration": 0.014573,
     "end_time": "2024-02-11T08:12:20.801234",
     "exception": false,
     "start_time": "2024-02-11T08:12:20.786661",
     "status": "completed"
    },
    "tags": []
   },
   "outputs": [
    {
     "name": "stdout",
     "output_type": "stream",
     "text": [
      "no_tumor\n",
      "glioma_tumor\n",
      "pituitary_tumor\n",
      "meningioma_tumor\n"
     ]
    }
   ],
   "source": [
    "for subdir, dirs, files in os.walk(original_data_path):\n",
    "    for file in dirs:\n",
    "        print(file)"
   ]
  },
  {
   "cell_type": "code",
   "execution_count": 8,
   "id": "2d7ae83d",
   "metadata": {
    "execution": {
     "iopub.execute_input": "2024-02-11T08:12:20.811198Z",
     "iopub.status.busy": "2024-02-11T08:12:20.810635Z",
     "iopub.status.idle": "2024-02-11T08:12:20.968732Z",
     "shell.execute_reply": "2024-02-11T08:12:20.967311Z"
    },
    "executionInfo": {
     "elapsed": 37200,
     "status": "ok",
     "timestamp": 1706296163497,
     "user": {
      "displayName": "Rashed Hassan Siam",
      "userId": "08405552312238656928"
     },
     "user_tz": -360
    },
    "id": "fDpXKWtWT8YO",
    "outputId": "81c3e7dd-fb8f-4487-d4f2-df8de8958d0f",
    "papermill": {
     "duration": 0.16631,
     "end_time": "2024-02-11T08:12:20.971639",
     "exception": false,
     "start_time": "2024-02-11T08:12:20.805329",
     "status": "completed"
    },
    "tags": []
   },
   "outputs": [
    {
     "name": "stdout",
     "output_type": "stream",
     "text": [
      "Duplicate images removed from no_tumor: 148\n",
      "Duplicate images removed from glioma_tumor: 24\n",
      "Duplicate images removed from pituitary_tumor: 55\n",
      "Duplicate images removed from meningioma_tumor: 10\n"
     ]
    }
   ],
   "source": [
    "hashes = set()\n",
    "\n",
    "for subdir, dirs, files in os.walk(original_data_path):\n",
    "  for directory in dirs:\n",
    "    removed = 0\n",
    "    for filename in os.listdir(original_data_path + directory):\n",
    "      path = os.path.join(original_data_path, directory, filename)\n",
    "      digest = hashlib.sha1(open(path,'rb').read()).digest()\n",
    "      if digest not in hashes:\n",
    "          hashes.add(digest)\n",
    "      else:\n",
    "          os.remove(path)\n",
    "          removed = removed + 1\n",
    "    print(\"Duplicate images removed from \" + directory + \": \" + str(removed))"
   ]
  },
  {
   "cell_type": "code",
   "execution_count": 9,
   "id": "4be712e3",
   "metadata": {
    "execution": {
     "iopub.execute_input": "2024-02-11T08:12:20.981476Z",
     "iopub.status.busy": "2024-02-11T08:12:20.981088Z",
     "iopub.status.idle": "2024-02-11T08:12:20.987653Z",
     "shell.execute_reply": "2024-02-11T08:12:20.986288Z"
    },
    "executionInfo": {
     "elapsed": 33,
     "status": "ok",
     "timestamp": 1706296163497,
     "user": {
      "displayName": "Rashed Hassan Siam",
      "userId": "08405552312238656928"
     },
     "user_tz": -360
    },
    "id": "vEZtAB9DwspI",
    "papermill": {
     "duration": 0.014576,
     "end_time": "2024-02-11T08:12:20.990414",
     "exception": false,
     "start_time": "2024-02-11T08:12:20.975838",
     "status": "completed"
    },
    "tags": []
   },
   "outputs": [],
   "source": [
    "def add_salt_and_pepper_noise(image, salt_prob, pepper_prob):\n",
    "  # Convert image to NumPy array\n",
    "  img_array = np.array(image)\n",
    "\n",
    "  # Get image shape\n",
    "  rows, cols = img_array.shape\n",
    "\n",
    "  # Generate random noise mask\n",
    "  salt_mask = np.random.rand(rows, cols) < salt_prob\n",
    "  pepper_mask = np.random.rand(rows, cols) < pepper_prob\n",
    "\n",
    "  # Add salt noise (white pixels)\n",
    "  img_array[salt_mask] = 255\n",
    "\n",
    "  # Add pepper noise (black pixels)\n",
    "  img_array[pepper_mask] = 0\n",
    "\n",
    "  # Convert back to PIL Image\n",
    "  noisy_image = Image.fromarray(img_array)\n",
    "\n",
    "  return noisy_image"
   ]
  },
  {
   "cell_type": "code",
   "execution_count": 10,
   "id": "4b6e1434",
   "metadata": {
    "execution": {
     "iopub.execute_input": "2024-02-11T08:12:21.000799Z",
     "iopub.status.busy": "2024-02-11T08:12:20.999859Z",
     "iopub.status.idle": "2024-02-11T08:12:21.008416Z",
     "shell.execute_reply": "2024-02-11T08:12:21.007061Z"
    },
    "executionInfo": {
     "elapsed": 33,
     "status": "ok",
     "timestamp": 1706296163498,
     "user": {
      "displayName": "Rashed Hassan Siam",
      "userId": "08405552312238656928"
     },
     "user_tz": -360
    },
    "id": "g70whsINCFww",
    "papermill": {
     "duration": 0.016187,
     "end_time": "2024-02-11T08:12:21.010757",
     "exception": false,
     "start_time": "2024-02-11T08:12:20.994570",
     "status": "completed"
    },
    "tags": []
   },
   "outputs": [],
   "source": [
    "def histogram_equalization(image):\n",
    "  # Convert image to NumPy array\n",
    "  img_array = np.asarray(image)\n",
    "\n",
    "  #flatten image array and calculate histogram via binning\n",
    "  histogram_array = np.bincount(img_array.flatten(), minlength=256)\n",
    "\n",
    "  #normalize\n",
    "  num_pixels = np.sum(histogram_array)\n",
    "  histogram_array = histogram_array/num_pixels\n",
    "\n",
    "  #normalized cumulative histogram\n",
    "  chistogram_array = np.cumsum(histogram_array)\n",
    "\n",
    "  #Pixel mapping lookup table\n",
    "  transform_map = np.floor(255 * chistogram_array).astype(np.uint8)\n",
    "\n",
    "  # flatten image array into 1D list\n",
    "  img_list = list(img_array.flatten())\n",
    "\n",
    "  # transform pixel values to equalize\n",
    "  eq_img_list = [transform_map[p] for p in img_list]\n",
    "\n",
    "  # reshape and write back into img_array\n",
    "  eq_img_array = np.reshape(np.asarray(eq_img_list), img_array.shape)\n",
    "\n",
    "  #convert NumPy array to pillow Image and write to file\n",
    "  equalized_image = Image.fromarray(eq_img_array, mode='L')\n",
    "\n",
    "  return equalized_image"
   ]
  },
  {
   "cell_type": "code",
   "execution_count": 11,
   "id": "5bc6b541",
   "metadata": {
    "execution": {
     "iopub.execute_input": "2024-02-11T08:12:21.020348Z",
     "iopub.status.busy": "2024-02-11T08:12:21.019993Z",
     "iopub.status.idle": "2024-02-11T08:16:42.795435Z",
     "shell.execute_reply": "2024-02-11T08:16:42.794294Z"
    },
    "executionInfo": {
     "elapsed": 719955,
     "status": "ok",
     "timestamp": 1706296883420,
     "user": {
      "displayName": "Rashed Hassan Siam",
      "userId": "08405552312238656928"
     },
     "user_tz": -360
    },
    "id": "Q29vXuHywniT",
    "outputId": "a9b10e68-fb1e-4c00-a2b8-8d98f5ec6c61",
    "papermill": {
     "duration": 261.788372,
     "end_time": "2024-02-11T08:16:42.803308",
     "exception": false,
     "start_time": "2024-02-11T08:12:21.014936",
     "status": "completed"
    },
    "tags": []
   },
   "outputs": [
    {
     "name": "stdout",
     "output_type": "stream",
     "text": [
      "Total images in no_tumor: 3168\n",
      "Total images in glioma_tumor: 8118\n",
      "Total images in pituitary_tumor: 7614\n",
      "Total images in meningioma_tumor: 8343\n"
     ]
    }
   ],
   "source": [
    "baseheight = 224\n",
    "width = 224\n",
    "\n",
    "for subdir, dirs, files in os.walk(original_data_path):\n",
    "  for directory in dirs:\n",
    "    i = 0\n",
    "    if (os.path.exists(augmented_data_path + directory + \"/\") == False):\n",
    "      os.mkdir(augmented_data_path + directory + \"/\")\n",
    "    for item in os.listdir(original_data_path + directory):\n",
    "      img = Image.open(original_data_path + directory + \"/\" + item).convert('L') # Converted to grayscale\n",
    "      save = img.save(augmented_data_path + directory + \"/\" + directory + \"_aug_(\" + str(i + 1) + \").jpg\")\n",
    "\n",
    "      salt_probability = 0.03  # adjust as needed\n",
    "      pepper_probability = 0.03  # adjust as needed\n",
    "      noisy_img_SP = add_salt_and_pepper_noise(img, salt_probability, pepper_probability) # Add salt and pepper noise to the image\n",
    "      noisy_img_SP = noisy_img_SP.resize((width, baseheight), Image.Resampling.LANCZOS)\n",
    "      save_SP = noisy_img_SP.save(augmented_data_path + directory + \"/\" + directory + \"_aug_(\" + str(i + 1) + \")_SP.jpg\")\n",
    "\n",
    "      equalized_img_HE = histogram_equalization(img) # Perform histogram equalization\n",
    "      equalized_img_HE = equalized_img_HE.resize((width, baseheight), Image.Resampling.LANCZOS)\n",
    "      save_HE = equalized_img_HE.save(augmented_data_path + directory + \"/\" + directory + \"_aug_(\" + str(i + 1) + \")_HE.jpg\")\n",
    "\n",
    "      rotate_img_RA = img.rotate(10)\n",
    "      rotate_img_RC = img.rotate(-10)\n",
    "      rotate_img_RA = rotate_img_RA.resize((width, baseheight), Image.Resampling.LANCZOS)\n",
    "      rotate_img_RC = rotate_img_RC.resize((width, baseheight), Image.Resampling.LANCZOS)\n",
    "      save_RA = rotate_img_RA.save(augmented_data_path + directory + \"/\" + directory + \"_aug_(\" + str(i + 1) + \")_RA.jpg\")\n",
    "      save_RC = rotate_img_RC.save(augmented_data_path + directory + \"/\" + directory + \"_aug_(\" + str(i + 1) + \")_RC.jpg\")\n",
    "\n",
    "      vertical_img_VF = img.transpose(method=Image.FLIP_TOP_BOTTOM)\n",
    "      horizontal_img_HF = img.transpose(method=Image.FLIP_LEFT_RIGHT)\n",
    "      vertical_img_VF = vertical_img_VF.resize((width, baseheight), Image.Resampling.LANCZOS)\n",
    "      horizontal_img_HF = horizontal_img_HF.resize((width, baseheight), Image.Resampling.LANCZOS)\n",
    "      save_VF = vertical_img_VF.save(augmented_data_path + directory + \"/\" + directory + \"_aug_(\" + str(i + 1) + \")_VF.jpg\")\n",
    "      save_HF = horizontal_img_HF.save(augmented_data_path + directory + \"/\" + directory + \"_aug_(\" + str(i + 1) + \")_HF.jpg\")\n",
    "\n",
    "      enhancer = ImageEnhance.Brightness(img)\n",
    "      bright_factor = 1.5 #brightens the image\n",
    "      dark_factor = 0.5 #darkens the image\n",
    "      bright_img_BR = enhancer.enhance(bright_factor)\n",
    "      dark_img_DA = enhancer.enhance(dark_factor)\n",
    "      bright_img_BR = bright_img_BR.resize((width, baseheight), Image.Resampling.LANCZOS)\n",
    "      dark_img_DA = dark_img_DA.resize((width, baseheight), Image.Resampling.LANCZOS)\n",
    "      save_BR = bright_img_BR.save(augmented_data_path + directory + \"/\" + directory + \"_aug_(\" + str(i + 1) + \")_BR.jpg\")\n",
    "      save_DA = dark_img_DA.save(augmented_data_path + directory + \"/\" + directory + \"_aug_(\" + str(i + 1) + \")_DA.jpg\")\n",
    "\n",
    "      i = i + 1\n",
    "    print(\"Total images in \" + directory + \": \" + str(i * 9))"
   ]
  }
 ],
 "metadata": {
  "colab": {
   "authorship_tag": "ABX9TyOkkYl38RXILZFibPOWofMG",
   "provenance": []
  },
  "kaggle": {
   "accelerator": "none",
   "dataSources": [
    {
     "datasetId": 4427122,
     "sourceId": 7604421,
     "sourceType": "datasetVersion"
    }
   ],
   "dockerImageVersionId": 30646,
   "isGpuEnabled": false,
   "isInternetEnabled": true,
   "language": "python",
   "sourceType": "notebook"
  },
  "kernelspec": {
   "display_name": "Python 3",
   "language": "python",
   "name": "python3"
  },
  "language_info": {
   "codemirror_mode": {
    "name": "ipython",
    "version": 3
   },
   "file_extension": ".py",
   "mimetype": "text/x-python",
   "name": "python",
   "nbconvert_exporter": "python",
   "pygments_lexer": "ipython3",
   "version": "3.10.13"
  },
  "papermill": {
   "default_parameters": {},
   "duration": 278.157823,
   "end_time": "2024-02-11T08:16:43.127568",
   "environment_variables": {},
   "exception": null,
   "input_path": "__notebook__.ipynb",
   "output_path": "__notebook__.ipynb",
   "parameters": {},
   "start_time": "2024-02-11T08:12:04.969745",
   "version": "2.5.0"
  }
 },
 "nbformat": 4,
 "nbformat_minor": 5
}

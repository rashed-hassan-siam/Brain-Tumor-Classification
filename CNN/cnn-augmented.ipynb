{
 "cells": [
  {
   "cell_type": "code",
   "execution_count": 1,
   "id": "57895222",
   "metadata": {
    "execution": {
     "iopub.execute_input": "2024-03-12T17:20:50.347554Z",
     "iopub.status.busy": "2024-03-12T17:20:50.346781Z",
     "iopub.status.idle": "2024-03-12T17:21:05.569523Z",
     "shell.execute_reply": "2024-03-12T17:21:05.568522Z"
    },
    "id": "t8OW9ExslF2u",
    "papermill": {
     "duration": 15.230835,
     "end_time": "2024-03-12T17:21:05.572028",
     "exception": false,
     "start_time": "2024-03-12T17:20:50.341193",
     "status": "completed"
    },
    "tags": []
   },
   "outputs": [
    {
     "name": "stderr",
     "output_type": "stream",
     "text": [
      "2024-03-12 17:20:52.476539: E external/local_xla/xla/stream_executor/cuda/cuda_dnn.cc:9261] Unable to register cuDNN factory: Attempting to register factory for plugin cuDNN when one has already been registered\n",
      "2024-03-12 17:20:52.476647: E external/local_xla/xla/stream_executor/cuda/cuda_fft.cc:607] Unable to register cuFFT factory: Attempting to register factory for plugin cuFFT when one has already been registered\n",
      "2024-03-12 17:20:52.650866: E external/local_xla/xla/stream_executor/cuda/cuda_blas.cc:1515] Unable to register cuBLAS factory: Attempting to register factory for plugin cuBLAS when one has already been registered\n"
     ]
    }
   ],
   "source": [
    "import tensorflow as tf\n",
    "from keras import layers, models\n",
    "from keras.models import Sequential\n",
    "from keras.layers import Dense,Dropout\n",
    "from tensorflow.keras.preprocessing.image import ImageDataGenerator\n",
    "from tensorflow.keras.layers.experimental.preprocessing import Rescaling\n",
    "import matplotlib.pyplot as plt\n",
    "from keras import callbacks"
   ]
  },
  {
   "cell_type": "code",
   "execution_count": 2,
   "id": "b51a6094",
   "metadata": {
    "execution": {
     "iopub.execute_input": "2024-03-12T17:21:05.582569Z",
     "iopub.status.busy": "2024-03-12T17:21:05.581616Z",
     "iopub.status.idle": "2024-03-12T17:21:41.555042Z",
     "shell.execute_reply": "2024-03-12T17:21:41.553970Z"
    },
    "executionInfo": {
     "elapsed": 28700,
     "status": "ok",
     "timestamp": 1697117448291,
     "user": {
      "displayName": "Sadib Hassan",
      "userId": "02293876242738667291"
     },
     "user_tz": -360
    },
    "id": "qF98D-HGhyYk",
    "outputId": "b46bb476-97bd-415b-dd09-554b7f60fa7a",
    "papermill": {
     "duration": 35.980812,
     "end_time": "2024-03-12T17:21:41.557323",
     "exception": false,
     "start_time": "2024-03-12T17:21:05.576511",
     "status": "completed"
    },
    "tags": []
   },
   "outputs": [
    {
     "name": "stdout",
     "output_type": "stream",
     "text": [
      "Found 27243 files belonging to 4 classes.\n",
      "Using 22885 files for training.\n",
      "Found 27243 files belonging to 4 classes.\n",
      "Using 4358 files for validation.\n"
     ]
    }
   ],
   "source": [
    "data_dir = \"/kaggle/input/eccv-brain-mri-augmentation-manual/augmented_dataset/\"\n",
    "accuracies = []\n",
    "\n",
    "train_ds = tf.keras.utils.image_dataset_from_directory(\n",
    "  data_dir,\n",
    "  validation_split=0.16,\n",
    "  subset=\"training\",\n",
    "  seed=123,\n",
    "  image_size=(224,224)\n",
    "  )\n",
    "\n",
    "val_ds = tf.keras.utils.image_dataset_from_directory(\n",
    "  data_dir,\n",
    "  validation_split=0.16,\n",
    "  subset=\"validation\",\n",
    "  seed=123,\n",
    "  image_size=(224,224)\n",
    "  )"
   ]
  },
  {
   "cell_type": "code",
   "execution_count": 3,
   "id": "f9e52ed0",
   "metadata": {
    "execution": {
     "iopub.execute_input": "2024-03-12T17:21:41.568338Z",
     "iopub.status.busy": "2024-03-12T17:21:41.567561Z",
     "iopub.status.idle": "2024-03-12T17:26:58.569345Z",
     "shell.execute_reply": "2024-03-12T17:26:58.568226Z"
    },
    "executionInfo": {
     "elapsed": 11094914,
     "status": "ok",
     "timestamp": 1697128543170,
     "user": {
      "displayName": "Sadib Hassan",
      "userId": "02293876242738667291"
     },
     "user_tz": -360
    },
    "id": "ja2q_xTHkNYH",
    "outputId": "31e38246-390a-4281-f32e-4203005e926d",
    "papermill": {
     "duration": 317.010667,
     "end_time": "2024-03-12T17:26:58.572779",
     "exception": false,
     "start_time": "2024-03-12T17:21:41.562112",
     "status": "completed"
    },
    "scrolled": true,
    "tags": []
   },
   "outputs": [
    {
     "name": "stdout",
     "output_type": "stream",
     "text": [
      "Epoch 1/30\n"
     ]
    },
    {
     "name": "stderr",
     "output_type": "stream",
     "text": [
      "WARNING: All log messages before absl::InitializeLog() is called are written to STDERR\n",
      "I0000 00:00:1710264105.320731      79 device_compiler.h:186] Compiled cluster using XLA!  This line is logged at most once for the lifetime of the process.\n"
     ]
    },
    {
     "name": "stdout",
     "output_type": "stream",
     "text": [
      "716/716 [==============================] - 52s 65ms/step - loss: 0.6753 - accuracy: 0.7358 - val_loss: 0.3809 - val_accuracy: 0.8564\n",
      "Epoch 2/30\n",
      "716/716 [==============================] - 33s 46ms/step - loss: 0.2162 - accuracy: 0.9216 - val_loss: 0.2379 - val_accuracy: 0.9151\n",
      "Epoch 3/30\n",
      "716/716 [==============================] - 33s 46ms/step - loss: 0.0832 - accuracy: 0.9711 - val_loss: 0.2303 - val_accuracy: 0.9374\n",
      "Epoch 4/30\n",
      "716/716 [==============================] - 34s 47ms/step - loss: 0.0477 - accuracy: 0.9843 - val_loss: 0.2596 - val_accuracy: 0.9440\n",
      "Epoch 5/30\n",
      "716/716 [==============================] - 33s 46ms/step - loss: 0.0333 - accuracy: 0.9894 - val_loss: 0.2396 - val_accuracy: 0.9507\n",
      "Epoch 6/30\n",
      "716/716 [==============================] - 33s 46ms/step - loss: 0.0358 - accuracy: 0.9882 - val_loss: 0.3300 - val_accuracy: 0.9341\n",
      "Epoch 7/30\n",
      "716/716 [==============================] - 33s 46ms/step - loss: 0.0225 - accuracy: 0.9925 - val_loss: 0.3214 - val_accuracy: 0.9456\n",
      "Epoch 8/30\n",
      "716/716 [==============================] - 33s 46ms/step - loss: 0.0203 - accuracy: 0.9935 - val_loss: 0.3701 - val_accuracy: 0.9385\n",
      "Overall accuracy: 0.9385039210319519\n"
     ]
    }
   ],
   "source": [
    "earlystopping = callbacks.EarlyStopping(monitor=\"val_loss\",\n",
    "                                            mode=\"min\", patience=5,\n",
    "                                            restore_best_weights=True)\n",
    "\n",
    "model = models.Sequential()\n",
    "model.add(Rescaling(scale=1.0 / 255.0, input_shape=(224, 224, 3)))\n",
    "model.add(layers.Conv2D(32, (3, 3), padding='same', activation='relu'))\n",
    "model.add(layers.MaxPooling2D((2, 2)))\n",
    "model.add(layers.Conv2D(64, (3, 3), padding='same', activation='relu'))\n",
    "model.add(layers.MaxPooling2D((2, 2)))\n",
    "model.add(layers.Conv2D(64, (3, 3), padding='same', activation='relu'))\n",
    "model.add(layers.Flatten())\n",
    "model.add(layers.Dense(64, activation='relu'))\n",
    "model.add(layers.Dense(4))\n",
    "\n",
    "model.compile(optimizer='adam',\n",
    "              loss=tf.keras.losses.SparseCategoricalCrossentropy(from_logits=True),\n",
    "              metrics=['accuracy'])\n",
    "\n",
    "history = model.fit(train_ds, validation_data=val_ds, epochs=30, callbacks=[earlystopping])\n",
    "\n",
    "accuracy = history.history['val_accuracy'][-1]\n",
    "accuracies.append(accuracy)\n",
    "print(f\"Overall accuracy: {accuracy}\")"
   ]
  },
  {
   "cell_type": "code",
   "execution_count": 4,
   "id": "b9636b9c",
   "metadata": {
    "execution": {
     "iopub.execute_input": "2024-03-12T17:26:59.077649Z",
     "iopub.status.busy": "2024-03-12T17:26:59.076798Z",
     "iopub.status.idle": "2024-03-12T17:26:59.424915Z",
     "shell.execute_reply": "2024-03-12T17:26:59.424049Z"
    },
    "executionInfo": {
     "elapsed": 868,
     "status": "ok",
     "timestamp": 1697128543987,
     "user": {
      "displayName": "Sadib Hassan",
      "userId": "02293876242738667291"
     },
     "user_tz": -360
    },
    "id": "JSVK3Shp9Ge9",
    "outputId": "03504711-f042-4b41-a342-d62e901494f5",
    "papermill": {
     "duration": 0.60344,
     "end_time": "2024-03-12T17:26:59.427379",
     "exception": false,
     "start_time": "2024-03-12T17:26:58.823939",
     "status": "completed"
    },
    "tags": []
   },
   "outputs": [
    {
     "name": "stderr",
     "output_type": "stream",
     "text": [
      "/opt/conda/lib/python3.10/site-packages/keras/src/engine/training.py:3103: UserWarning: You are saving your model as an HDF5 file via `model.save()`. This file format is considered legacy. We recommend using instead the native Keras format, e.g. `model.save('my_model.keras')`.\n",
      "  saving_api.save_model(\n"
     ]
    }
   ],
   "source": [
    "import tensorflow as tf\n",
    "\n",
    "model.save('/kaggle/working/cnn_original.h5')\n",
    "\n",
    "# Save the history to a file\n",
    "import pickle\n",
    "\n",
    "with open('/kaggle/working/cnn_original.pkl', 'wb') as history_file:\n",
    "    pickle.dump(history.history, history_file)"
   ]
  },
  {
   "cell_type": "code",
   "execution_count": 5,
   "id": "457a2f42",
   "metadata": {
    "execution": {
     "iopub.execute_input": "2024-03-12T17:26:59.926600Z",
     "iopub.status.busy": "2024-03-12T17:26:59.926236Z",
     "iopub.status.idle": "2024-03-12T17:27:00.186660Z",
     "shell.execute_reply": "2024-03-12T17:27:00.185771Z"
    },
    "executionInfo": {
     "elapsed": 827,
     "status": "ok",
     "timestamp": 1697128544806,
     "user": {
      "displayName": "Sadib Hassan",
      "userId": "02293876242738667291"
     },
     "user_tz": -360
    },
    "id": "QbyI-lAk9TUx",
    "outputId": "72181bce-2b36-454d-d4bc-772f6fa08d0f",
    "papermill": {
     "duration": 0.513984,
     "end_time": "2024-03-12T17:27:00.188742",
     "exception": false,
     "start_time": "2024-03-12T17:26:59.674758",
     "status": "completed"
    },
    "tags": []
   },
   "outputs": [
    {
     "data": {
      "text/plain": [
       "<matplotlib.legend.Legend at 0x7ec5166d2950>"
      ]
     },
     "execution_count": 5,
     "metadata": {},
     "output_type": "execute_result"
    },
    {
     "data": {
      "image/png": "[encoded data removed]",
      "text/plain": [
       "<Figure size 640x480 with 1 Axes>"
      ]
     },
     "metadata": {},
     "output_type": "display_data"
    }
   ],
   "source": [
    "import matplotlib.pyplot as plt\n",
    "\n",
    "plt.plot(history.history['accuracy'], label='train_accuracy')\n",
    "plt.plot(history.history['val_accuracy'], label = 'validation_accuracy')\n",
    "plt.xlabel('Epoch')\n",
    "plt.ylabel('Accuracy')\n",
    "plt.ylim([0.1, 1.2])\n",
    "plt.legend(loc='lower right')"
   ]
  },
  {
   "cell_type": "code",
   "execution_count": 6,
   "id": "07af989a",
   "metadata": {
    "execution": {
     "iopub.execute_input": "2024-03-12T17:27:00.693635Z",
     "iopub.status.busy": "2024-03-12T17:27:00.692787Z",
     "iopub.status.idle": "2024-03-12T17:27:00.925128Z",
     "shell.execute_reply": "2024-03-12T17:27:00.923974Z"
    },
    "executionInfo": {
     "elapsed": 723,
     "status": "ok",
     "timestamp": 1697128545512,
     "user": {
      "displayName": "Sadib Hassan",
      "userId": "02293876242738667291"
     },
     "user_tz": -360
    },
    "id": "r29QSB8t9Vug",
    "outputId": "5709a8d7-0ba4-47e9-ed61-9d9d69efb908",
    "papermill": {
     "duration": 0.483912,
     "end_time": "2024-03-12T17:27:00.927257",
     "exception": false,
     "start_time": "2024-03-12T17:27:00.443345",
     "status": "completed"
    },
    "tags": []
   },
   "outputs": [
    {
     "data": {
      "text/plain": [
       "<matplotlib.legend.Legend at 0x7ec5166d3370>"
      ]
     },
     "execution_count": 6,
     "metadata": {},
     "output_type": "execute_result"
    },
    {
     "data": {
      "image/png": "[encoded data removed]",
      "text/plain": [
       "<Figure size 640x480 with 1 Axes>"
      ]
     },
     "metadata": {},
     "output_type": "display_data"
    }
   ],
   "source": [
    "plt.plot(history.history['loss'], label='train_loss')\n",
    "plt.plot(history.history['val_loss'], label = 'validation_loss')\n",
    "plt.xlabel('Epoch')\n",
    "plt.ylabel('Loss')\n",
    "plt.ylim([0, 6])\n",
    "plt.legend(loc='upper right')"
   ]
  },
  {
   "cell_type": "code",
   "execution_count": 7,
   "id": "ed17bc9e",
   "metadata": {
    "execution": {
     "iopub.execute_input": "2024-03-12T17:27:01.423673Z",
     "iopub.status.busy": "2024-03-12T17:27:01.423284Z",
     "iopub.status.idle": "2024-03-12T17:27:14.598232Z",
     "shell.execute_reply": "2024-03-12T17:27:14.597070Z"
    },
    "executionInfo": {
     "elapsed": 73287,
     "status": "ok",
     "timestamp": 1697128618785,
     "user": {
      "displayName": "Sadib Hassan",
      "userId": "02293876242738667291"
     },
     "user_tz": -360
    },
    "id": "37at32dG9Ymz",
    "outputId": "ad04d9bb-11d5-4cee-e4dc-cf67703301c2",
    "papermill": {
     "duration": 13.423244,
     "end_time": "2024-03-12T17:27:14.600857",
     "exception": false,
     "start_time": "2024-03-12T17:27:01.177613",
     "status": "completed"
    },
    "scrolled": true,
    "tags": []
   },
   "outputs": [
    {
     "name": "stdout",
     "output_type": "stream",
     "text": [
      "1/1 [==============================] - 0s 124ms/step\n",
      "1/1 [==============================] - 0s 27ms/step\n",
      "1/1 [==============================] - 0s 30ms/step\n",
      "1/1 [==============================] - 0s 36ms/step\n",
      "1/1 [==============================] - 0s 36ms/step\n",
      "1/1 [==============================] - 0s 26ms/step\n",
      "1/1 [==============================] - 0s 36ms/step\n",
      "1/1 [==============================] - 0s 36ms/step\n",
      "1/1 [==============================] - 0s 36ms/step\n",
      "1/1 [==============================] - 0s 26ms/step\n",
      "1/1 [==============================] - 0s 27ms/step\n",
      "1/1 [==============================] - 0s 37ms/step\n",
      "1/1 [==============================] - 0s 27ms/step\n",
      "1/1 [==============================] - 0s 27ms/step\n",
      "1/1 [==============================] - 0s 26ms/step\n",
      "1/1 [==============================] - 0s 26ms/step\n",
      "1/1 [==============================] - 0s 27ms/step\n",
      "1/1 [==============================] - 0s 28ms/step\n",
      "1/1 [==============================] - 0s 35ms/step\n",
      "1/1 [==============================] - 0s 26ms/step\n",
      "1/1 [==============================] - 0s 27ms/step\n",
      "1/1 [==============================] - 0s 26ms/step\n",
      "1/1 [==============================] - 0s 36ms/step\n",
      "1/1 [==============================] - 0s 37ms/step\n",
      "1/1 [==============================] - 0s 28ms/step\n",
      "1/1 [==============================] - 0s 27ms/step\n",
      "1/1 [==============================] - 0s 28ms/step\n",
      "1/1 [==============================] - 0s 27ms/step\n",
      "1/1 [==============================] - 0s 26ms/step\n",
      "1/1 [==============================] - 0s 27ms/step\n",
      "1/1 [==============================] - 0s 27ms/step\n",
      "1/1 [==============================] - 0s 37ms/step\n",
      "1/1 [==============================] - 0s 27ms/step\n",
      "1/1 [==============================] - 0s 28ms/step\n",
      "1/1 [==============================] - 0s 27ms/step\n",
      "1/1 [==============================] - 0s 27ms/step\n",
      "1/1 [==============================] - 0s 27ms/step\n",
      "1/1 [==============================] - 0s 36ms/step\n",
      "1/1 [==============================] - 0s 37ms/step\n",
      "1/1 [==============================] - 0s 29ms/step\n",
      "1/1 [==============================] - 0s 27ms/step\n",
      "1/1 [==============================] - 0s 26ms/step\n",
      "1/1 [==============================] - 0s 28ms/step\n",
      "1/1 [==============================] - 0s 38ms/step\n",
      "1/1 [==============================] - 0s 28ms/step\n",
      "1/1 [==============================] - 0s 29ms/step\n",
      "1/1 [==============================] - 0s 37ms/step\n",
      "1/1 [==============================] - 0s 28ms/step\n",
      "1/1 [==============================] - 0s 27ms/step\n",
      "1/1 [==============================] - 0s 27ms/step\n",
      "1/1 [==============================] - 0s 36ms/step\n",
      "1/1 [==============================] - 0s 27ms/step\n",
      "1/1 [==============================] - 0s 25ms/step\n",
      "1/1 [==============================] - 0s 27ms/step\n",
      "1/1 [==============================] - 0s 38ms/step\n",
      "1/1 [==============================] - 0s 28ms/step\n",
      "1/1 [==============================] - 0s 27ms/step\n",
      "1/1 [==============================] - 0s 27ms/step\n",
      "1/1 [==============================] - 0s 37ms/step\n",
      "1/1 [==============================] - 0s 26ms/step\n",
      "1/1 [==============================] - 0s 26ms/step\n",
      "1/1 [==============================] - 0s 27ms/step\n",
      "1/1 [==============================] - 0s 26ms/step\n",
      "1/1 [==============================] - 0s 36ms/step\n",
      "1/1 [==============================] - 0s 26ms/step\n",
      "1/1 [==============================] - 0s 26ms/step\n",
      "1/1 [==============================] - 0s 28ms/step\n",
      "1/1 [==============================] - 0s 27ms/step\n",
      "1/1 [==============================] - 0s 26ms/step\n",
      "1/1 [==============================] - 0s 29ms/step\n",
      "1/1 [==============================] - 0s 37ms/step\n",
      "1/1 [==============================] - 0s 28ms/step\n",
      "1/1 [==============================] - 0s 28ms/step\n",
      "1/1 [==============================] - 0s 28ms/step\n",
      "1/1 [==============================] - 0s 28ms/step\n",
      "1/1 [==============================] - 0s 27ms/step\n",
      "1/1 [==============================] - 0s 26ms/step\n",
      "1/1 [==============================] - 0s 29ms/step\n",
      "1/1 [==============================] - 0s 29ms/step\n",
      "1/1 [==============================] - 0s 27ms/step\n",
      "1/1 [==============================] - 0s 26ms/step\n",
      "1/1 [==============================] - 0s 28ms/step\n",
      "1/1 [==============================] - 0s 26ms/step\n",
      "1/1 [==============================] - 0s 27ms/step\n",
      "1/1 [==============================] - 0s 26ms/step\n",
      "1/1 [==============================] - 0s 27ms/step\n",
      "1/1 [==============================] - 0s 27ms/step\n",
      "1/1 [==============================] - 0s 27ms/step\n",
      "1/1 [==============================] - 0s 26ms/step\n",
      "1/1 [==============================] - 0s 26ms/step\n",
      "1/1 [==============================] - 0s 26ms/step\n",
      "1/1 [==============================] - 0s 28ms/step\n",
      "1/1 [==============================] - 0s 28ms/step\n",
      "1/1 [==============================] - 0s 27ms/step\n",
      "1/1 [==============================] - 0s 28ms/step\n",
      "1/1 [==============================] - 0s 27ms/step\n",
      "1/1 [==============================] - 0s 27ms/step\n",
      "1/1 [==============================] - 0s 27ms/step\n",
      "1/1 [==============================] - 0s 27ms/step\n",
      "1/1 [==============================] - 0s 27ms/step\n",
      "1/1 [==============================] - 0s 27ms/step\n",
      "1/1 [==============================] - 0s 26ms/step\n",
      "1/1 [==============================] - 0s 26ms/step\n",
      "1/1 [==============================] - 0s 26ms/step\n",
      "1/1 [==============================] - 0s 27ms/step\n",
      "1/1 [==============================] - 0s 26ms/step\n",
      "1/1 [==============================] - 0s 27ms/step\n",
      "1/1 [==============================] - 0s 27ms/step\n",
      "1/1 [==============================] - 0s 28ms/step\n",
      "1/1 [==============================] - 0s 27ms/step\n",
      "1/1 [==============================] - 0s 27ms/step\n",
      "1/1 [==============================] - 0s 28ms/step\n",
      "1/1 [==============================] - 0s 27ms/step\n",
      "1/1 [==============================] - 0s 27ms/step\n",
      "1/1 [==============================] - 0s 26ms/step\n",
      "1/1 [==============================] - 0s 27ms/step\n",
      "1/1 [==============================] - 0s 27ms/step\n",
      "1/1 [==============================] - 0s 26ms/step\n",
      "1/1 [==============================] - 0s 30ms/step\n",
      "1/1 [==============================] - 0s 26ms/step\n",
      "1/1 [==============================] - 0s 26ms/step\n",
      "1/1 [==============================] - 0s 26ms/step\n",
      "1/1 [==============================] - 0s 27ms/step\n",
      "1/1 [==============================] - 0s 27ms/step\n",
      "1/1 [==============================] - 0s 27ms/step\n",
      "1/1 [==============================] - 0s 29ms/step\n",
      "1/1 [==============================] - 0s 26ms/step\n",
      "1/1 [==============================] - 0s 49ms/step\n",
      "1/1 [==============================] - 0s 27ms/step\n",
      "1/1 [==============================] - 0s 27ms/step\n",
      "1/1 [==============================] - 0s 27ms/step\n",
      "1/1 [==============================] - 0s 26ms/step\n",
      "1/1 [==============================] - 0s 26ms/step\n",
      "1/1 [==============================] - 0s 26ms/step\n",
      "1/1 [==============================] - 0s 26ms/step\n",
      "1/1 [==============================] - 0s 28ms/step\n",
      "1/1 [==============================] - 0s 95ms/step\n"
     ]
    },
    {
     "data": {
      "image/png": "[encoded data removed]",
      "text/plain": [
       "<Figure size 800x600 with 2 Axes>"
      ]
     },
     "metadata": {},
     "output_type": "display_data"
    }
   ],
   "source": [
    "import tensorflow as tf\n",
    "from sklearn.metrics import confusion_matrix, classification_report\n",
    "import seaborn as sns\n",
    "import matplotlib.pyplot as plt\n",
    "import numpy as np\n",
    "\n",
    "class_names = ['glioma_tumor','meningioma_tumor','no_tumor','pituitary_tumor']\n",
    "\n",
    "all_val_labels = []\n",
    "all_val_predictions = []\n",
    "\n",
    "# Evaluate the model on the validation dataset batch by batch\n",
    "for batch in val_ds:\n",
    "    val_images, val_labels_batch = batch\n",
    "    val_predictions_batch = model.predict(val_images)\n",
    "\n",
    "    val_labels_batch = np.array(val_labels_batch)\n",
    "    val_predictions_batch = np.argmax(val_predictions_batch, axis=-1)\n",
    "\n",
    "    all_val_labels.extend(val_labels_batch)\n",
    "    all_val_predictions.extend(val_predictions_batch)\n",
    "\n",
    "# Calculate the confusion matrix for all validation data\n",
    "conf_matrix = confusion_matrix(all_val_labels, all_val_predictions)\n",
    "\n",
    "# Create a heatmap of the confusion matrix\n",
    "plt.figure(figsize=(8, 6))\n",
    "sns.heatmap(conf_matrix, annot=True, fmt='d', cmap='Greens', xticklabels=class_names, yticklabels=class_names)\n",
    "plt.xlabel('Predicted')\n",
    "plt.ylabel('True')\n",
    "plt.title('Confusion Matrix Heatmap (All Validation Batches)')\n",
    "plt.show()"
   ]
  },
  {
   "cell_type": "code",
   "execution_count": 8,
   "id": "d6c59887",
   "metadata": {
    "execution": {
     "iopub.execute_input": "2024-03-12T17:27:15.201068Z",
     "iopub.status.busy": "2024-03-12T17:27:15.200362Z",
     "iopub.status.idle": "2024-03-12T17:27:15.219531Z",
     "shell.execute_reply": "2024-03-12T17:27:15.218360Z"
    },
    "executionInfo": {
     "elapsed": 51,
     "status": "ok",
     "timestamp": 1697128618786,
     "user": {
      "displayName": "Sadib Hassan",
      "userId": "02293876242738667291"
     },
     "user_tz": -360
    },
    "id": "u2Y0ODbq9cQp",
    "outputId": "4325e3f9-d97e-43ac-f8ea-42699de8fd73",
    "papermill": {
     "duration": 0.343608,
     "end_time": "2024-03-12T17:27:15.221644",
     "exception": false,
     "start_time": "2024-03-12T17:27:14.878036",
     "status": "completed"
    },
    "tags": []
   },
   "outputs": [
    {
     "name": "stdout",
     "output_type": "stream",
     "text": [
      "                  precision    recall  f1-score   support\n",
      "\n",
      "    glioma_tumor       0.94      0.91      0.93      1283\n",
      "meningioma_tumor       0.90      0.94      0.92      1313\n",
      "        no_tumor       0.93      0.88      0.91       537\n",
      " pituitary_tumor       0.97      0.98      0.98      1225\n",
      "\n",
      "        accuracy                           0.94      4358\n",
      "       macro avg       0.94      0.93      0.93      4358\n",
      "    weighted avg       0.94      0.94      0.94      4358\n",
      "\n"
     ]
    }
   ],
   "source": [
    "print(classification_report(all_val_labels, all_val_predictions, target_names=class_names))"
   ]
  }
 ],
 "metadata": {
  "accelerator": "GPU",
  "colab": {
   "provenance": []
  },
  "kaggle": {
   "accelerator": "nvidiaTeslaT4",
   "dataSources": [
    {
     "sourceId": 165653935,
     "sourceType": "kernelVersion"
    }
   ],
   "dockerImageVersionId": 30648,
   "isGpuEnabled": true,
   "isInternetEnabled": true,
   "language": "python",
   "sourceType": "notebook"
  },
  "kernelspec": {
   "display_name": "Python 3",
   "language": "python",
   "name": "python3"
  },
  "language_info": {
   "codemirror_mode": {
    "name": "ipython",
    "version": 3
   },
   "file_extension": ".py",
   "mimetype": "text/x-python",
   "name": "python",
   "nbconvert_exporter": "python",
   "pygments_lexer": "ipython3",
   "version": "3.10.13"
  },
  "papermill": {
   "default_parameters": {},
   "duration": 390.549138,
   "end_time": "2024-03-12T17:27:17.878650",
   "environment_variables": {},
   "exception": null,
   "input_path": "__notebook__.ipynb",
   "output_path": "__notebook__.ipynb",
   "parameters": {},
   "start_time": "2024-03-12T17:20:47.329512",
   "version": "2.5.0"
  }
 },
 "nbformat": 4,
 "nbformat_minor": 5
}

{
 "cells": [
  {
   "cell_type": "code",
   "execution_count": 1,
   "id": "dc849df8",
   "metadata": {
    "execution": {
     "iopub.execute_input": "2024-03-12T17:05:28.453405Z",
     "iopub.status.busy": "2024-03-12T17:05:28.453041Z",
     "iopub.status.idle": "2024-03-12T17:05:44.563885Z",
     "shell.execute_reply": "2024-03-12T17:05:44.562766Z"
    },
    "id": "t8OW9ExslF2u",
    "papermill": {
     "duration": 16.119623,
     "end_time": "2024-03-12T17:05:44.566647",
     "exception": false,
     "start_time": "2024-03-12T17:05:28.447024",
     "status": "completed"
    },
    "tags": []
   },
   "outputs": [
    {
     "name": "stderr",
     "output_type": "stream",
     "text": [
      "2024-03-12 17:05:30.656751: E external/local_xla/xla/stream_executor/cuda/cuda_dnn.cc:9261] Unable to register cuDNN factory: Attempting to register factory for plugin cuDNN when one has already been registered\n",
      "2024-03-12 17:05:30.656854: E external/local_xla/xla/stream_executor/cuda/cuda_fft.cc:607] Unable to register cuFFT factory: Attempting to register factory for plugin cuFFT when one has already been registered\n",
      "2024-03-12 17:05:30.850522: E external/local_xla/xla/stream_executor/cuda/cuda_blas.cc:1515] Unable to register cuBLAS factory: Attempting to register factory for plugin cuBLAS when one has already been registered\n"
     ]
    }
   ],
   "source": [
    "import tensorflow as tf\n",
    "from keras import layers, models\n",
    "from keras.models import Sequential\n",
    "from keras.layers import Dense,Dropout\n",
    "from tensorflow.keras.preprocessing.image import ImageDataGenerator\n",
    "from tensorflow.keras.layers.experimental.preprocessing import Rescaling\n",
    "import matplotlib.pyplot as plt\n",
    "from keras import callbacks"
   ]
  },
  {
   "cell_type": "code",
   "execution_count": 2,
   "id": "980a568d",
   "metadata": {
    "execution": {
     "iopub.execute_input": "2024-03-12T17:05:44.577753Z",
     "iopub.status.busy": "2024-03-12T17:05:44.577141Z",
     "iopub.status.idle": "2024-03-12T17:05:52.396538Z",
     "shell.execute_reply": "2024-03-12T17:05:52.395703Z"
    },
    "executionInfo": {
     "elapsed": 28700,
     "status": "ok",
     "timestamp": 1697117448291,
     "user": {
      "displayName": "Sadib Hassan",
      "userId": "02293876242738667291"
     },
     "user_tz": -360
    },
    "id": "qF98D-HGhyYk",
    "outputId": "b46bb476-97bd-415b-dd09-554b7f60fa7a",
    "papermill": {
     "duration": 7.827204,
     "end_time": "2024-03-12T17:05:52.398743",
     "exception": false,
     "start_time": "2024-03-12T17:05:44.571539",
     "status": "completed"
    },
    "tags": []
   },
   "outputs": [
    {
     "name": "stdout",
     "output_type": "stream",
     "text": [
      "Found 3027 files belonging to 4 classes.\n",
      "Using 2543 files for training.\n",
      "Found 3027 files belonging to 4 classes.\n",
      "Using 484 files for validation.\n"
     ]
    }
   ],
   "source": [
    "data_dir = \"/kaggle/input/eccv-brain-mri-augmentation-manual/original_dataset/\"\n",
    "accuracies = []\n",
    "\n",
    "train_ds = tf.keras.utils.image_dataset_from_directory(\n",
    "  data_dir,\n",
    "  validation_split=0.16,\n",
    "  subset=\"training\",\n",
    "  seed=123,\n",
    "  image_size=(224,224)\n",
    "  )\n",
    "\n",
    "val_ds = tf.keras.utils.image_dataset_from_directory(\n",
    "  data_dir,\n",
    "  validation_split=0.16,\n",
    "  subset=\"validation\",\n",
    "  seed=123,\n",
    "  image_size=(224,224)\n",
    "  )"
   ]
  },
  {
   "cell_type": "code",
   "execution_count": 3,
   "id": "05f98d50",
   "metadata": {
    "execution": {
     "iopub.execute_input": "2024-03-12T17:05:52.409342Z",
     "iopub.status.busy": "2024-03-12T17:05:52.409030Z",
     "iopub.status.idle": "2024-03-12T17:06:46.531284Z",
     "shell.execute_reply": "2024-03-12T17:06:46.530080Z"
    },
    "executionInfo": {
     "elapsed": 11094914,
     "status": "ok",
     "timestamp": 1697128543170,
     "user": {
      "displayName": "Sadib Hassan",
      "userId": "02293876242738667291"
     },
     "user_tz": -360
    },
    "id": "ja2q_xTHkNYH",
    "outputId": "31e38246-390a-4281-f32e-4203005e926d",
    "papermill": {
     "duration": 54.130121,
     "end_time": "2024-03-12T17:06:46.533650",
     "exception": false,
     "start_time": "2024-03-12T17:05:52.403529",
     "status": "completed"
    },
    "scrolled": true,
    "tags": []
   },
   "outputs": [
    {
     "name": "stdout",
     "output_type": "stream",
     "text": [
      "Epoch 1/30\n"
     ]
    },
    {
     "name": "stderr",
     "output_type": "stream",
     "text": [
      "WARNING: All log messages before absl::InitializeLog() is called are written to STDERR\n",
      "I0000 00:00:1710263157.314253      79 device_compiler.h:186] Compiled cluster using XLA!  This line is logged at most once for the lifetime of the process.\n"
     ]
    },
    {
     "name": "stdout",
     "output_type": "stream",
     "text": [
      "80/80 [==============================] - 18s 140ms/step - loss: 1.0522 - accuracy: 0.5627 - val_loss: 0.7684 - val_accuracy: 0.6860\n",
      "Epoch 2/30\n",
      "80/80 [==============================] - 5s 60ms/step - loss: 0.4960 - accuracy: 0.8183 - val_loss: 0.5705 - val_accuracy: 0.7810\n",
      "Epoch 3/30\n",
      "80/80 [==============================] - 6s 69ms/step - loss: 0.2466 - accuracy: 0.9088 - val_loss: 0.5282 - val_accuracy: 0.8368\n",
      "Epoch 4/30\n",
      "80/80 [==============================] - 6s 69ms/step - loss: 0.1271 - accuracy: 0.9564 - val_loss: 0.5372 - val_accuracy: 0.8678\n",
      "Epoch 5/30\n",
      "80/80 [==============================] - 4s 51ms/step - loss: 0.0963 - accuracy: 0.9674 - val_loss: 0.7300 - val_accuracy: 0.8450\n",
      "Epoch 6/30\n",
      "80/80 [==============================] - 4s 52ms/step - loss: 0.0659 - accuracy: 0.9819 - val_loss: 0.9381 - val_accuracy: 0.8368\n",
      "Epoch 7/30\n",
      "80/80 [==============================] - 5s 63ms/step - loss: 0.0553 - accuracy: 0.9874 - val_loss: 0.6516 - val_accuracy: 0.8967\n",
      "Epoch 8/30\n",
      "80/80 [==============================] - 4s 52ms/step - loss: 0.0299 - accuracy: 0.9945 - val_loss: 0.6790 - val_accuracy: 0.8740\n",
      "Overall accuracy: 0.8739669322967529\n"
     ]
    }
   ],
   "source": [
    "earlystopping = callbacks.EarlyStopping(monitor=\"val_loss\",\n",
    "                                            mode=\"min\", patience=5,\n",
    "                                            restore_best_weights=True)\n",
    "\n",
    "model = models.Sequential()\n",
    "model.add(Rescaling(scale=1.0 / 255.0, input_shape=(224, 224, 3)))\n",
    "model.add(layers.Conv2D(32, (3, 3), padding='same', activation='relu'))\n",
    "model.add(layers.MaxPooling2D((2, 2)))\n",
    "model.add(layers.Conv2D(64, (3, 3), padding='same', activation='relu'))\n",
    "model.add(layers.MaxPooling2D((2, 2)))\n",
    "model.add(layers.Conv2D(64, (3, 3), padding='same', activation='relu'))\n",
    "model.add(layers.Flatten())\n",
    "model.add(layers.Dense(64, activation='relu'))\n",
    "model.add(layers.Dense(4))\n",
    "\n",
    "model.compile(optimizer='adam',\n",
    "              loss=tf.keras.losses.SparseCategoricalCrossentropy(from_logits=True),\n",
    "              metrics=['accuracy'])\n",
    "\n",
    "history = model.fit(train_ds, validation_data=val_ds, epochs=30, callbacks=[earlystopping])\n",
    "\n",
    "accuracy = history.history['val_accuracy'][-1]\n",
    "accuracies.append(accuracy)\n",
    "print(f\"Overall accuracy: {accuracy}\")"
   ]
  },
  {
   "cell_type": "code",
   "execution_count": 4,
   "id": "016ed484",
   "metadata": {
    "execution": {
     "iopub.execute_input": "2024-03-12T17:06:46.624125Z",
     "iopub.status.busy": "2024-03-12T17:06:46.623763Z",
     "iopub.status.idle": "2024-03-12T17:06:46.988974Z",
     "shell.execute_reply": "2024-03-12T17:06:46.988159Z"
    },
    "executionInfo": {
     "elapsed": 868,
     "status": "ok",
     "timestamp": 1697128543987,
     "user": {
      "displayName": "Sadib Hassan",
      "userId": "02293876242738667291"
     },
     "user_tz": -360
    },
    "id": "JSVK3Shp9Ge9",
    "outputId": "03504711-f042-4b41-a342-d62e901494f5",
    "papermill": {
     "duration": 0.413204,
     "end_time": "2024-03-12T17:06:46.991453",
     "exception": false,
     "start_time": "2024-03-12T17:06:46.578249",
     "status": "completed"
    },
    "tags": []
   },
   "outputs": [
    {
     "name": "stderr",
     "output_type": "stream",
     "text": [
      "/opt/conda/lib/python3.10/site-packages/keras/src/engine/training.py:3103: UserWarning: You are saving your model as an HDF5 file via `model.save()`. This file format is considered legacy. We recommend using instead the native Keras format, e.g. `model.save('my_model.keras')`.\n",
      "  saving_api.save_model(\n"
     ]
    }
   ],
   "source": [
    "import tensorflow as tf\n",
    "\n",
    "model.save('/kaggle/working/cnn_original.h5')\n",
    "\n",
    "# Save the history to a file\n",
    "import pickle\n",
    "\n",
    "with open('/kaggle/working/cnn_original.pkl', 'wb') as history_file:\n",
    "    pickle.dump(history.history, history_file)"
   ]
  },
  {
   "cell_type": "code",
   "execution_count": 5,
   "id": "52be4484",
   "metadata": {
    "execution": {
     "iopub.execute_input": "2024-03-12T17:06:47.080204Z",
     "iopub.status.busy": "2024-03-12T17:06:47.079621Z",
     "iopub.status.idle": "2024-03-12T17:06:47.550080Z",
     "shell.execute_reply": "2024-03-12T17:06:47.549135Z"
    },
    "executionInfo": {
     "elapsed": 827,
     "status": "ok",
     "timestamp": 1697128544806,
     "user": {
      "displayName": "Sadib Hassan",
      "userId": "02293876242738667291"
     },
     "user_tz": -360
    },
    "id": "QbyI-lAk9TUx",
    "outputId": "72181bce-2b36-454d-d4bc-772f6fa08d0f",
    "papermill": {
     "duration": 0.516989,
     "end_time": "2024-03-12T17:06:47.552479",
     "exception": false,
     "start_time": "2024-03-12T17:06:47.035490",
     "status": "completed"
    },
    "tags": []
   },
   "outputs": [
    {
     "data": {
      "text/plain": [
       "<matplotlib.legend.Legend at 0x7ff5106436d0>"
      ]
     },
     "execution_count": 5,
     "metadata": {},
     "output_type": "execute_result"
    },
    {
     "data": {
      "image/png": "[encoded data removed]",
      "text/plain": [
       "<Figure size 640x480 with 1 Axes>"
      ]
     },
     "metadata": {},
     "output_type": "display_data"
    }
   ],
   "source": [
    "import matplotlib.pyplot as plt\n",
    "\n",
    "plt.plot(history.history['accuracy'], label='train_accuracy')\n",
    "plt.plot(history.history['val_accuracy'], label = 'validation_accuracy')\n",
    "plt.xlabel('Epoch')\n",
    "plt.ylabel('Accuracy')\n",
    "plt.ylim([0.1, 1.2])\n",
    "plt.legend(loc='lower right')"
   ]
  },
  {
   "cell_type": "code",
   "execution_count": 6,
   "id": "55f0918a",
   "metadata": {
    "execution": {
     "iopub.execute_input": "2024-03-12T17:06:47.641165Z",
     "iopub.status.busy": "2024-03-12T17:06:47.640852Z",
     "iopub.status.idle": "2024-03-12T17:06:47.893759Z",
     "shell.execute_reply": "2024-03-12T17:06:47.892715Z"
    },
    "executionInfo": {
     "elapsed": 723,
     "status": "ok",
     "timestamp": 1697128545512,
     "user": {
      "displayName": "Sadib Hassan",
      "userId": "02293876242738667291"
     },
     "user_tz": -360
    },
    "id": "r29QSB8t9Vug",
    "outputId": "5709a8d7-0ba4-47e9-ed61-9d9d69efb908",
    "papermill": {
     "duration": 0.299718,
     "end_time": "2024-03-12T17:06:47.895893",
     "exception": false,
     "start_time": "2024-03-12T17:06:47.596175",
     "status": "completed"
    },
    "tags": []
   },
   "outputs": [
    {
     "data": {
      "text/plain": [
       "<matplotlib.legend.Legend at 0x7ff51075ca90>"
      ]
     },
     "execution_count": 6,
     "metadata": {},
     "output_type": "execute_result"
    },
    {
     "data": {
      "image/png": "[encoded data removed]",
      "text/plain": [
       "<Figure size 640x480 with 1 Axes>"
      ]
     },
     "metadata": {},
     "output_type": "display_data"
    }
   ],
   "source": [
    "plt.plot(history.history['loss'], label='train_loss')\n",
    "plt.plot(history.history['val_loss'], label = 'validation_loss')\n",
    "plt.xlabel('Epoch')\n",
    "plt.ylabel('Loss')\n",
    "plt.ylim([0, 6])\n",
    "plt.legend(loc='upper right')"
   ]
  },
  {
   "cell_type": "code",
   "execution_count": 7,
   "id": "7176cf77",
   "metadata": {
    "execution": {
     "iopub.execute_input": "2024-03-12T17:06:47.991087Z",
     "iopub.status.busy": "2024-03-12T17:06:47.990716Z",
     "iopub.status.idle": "2024-03-12T17:06:51.780217Z",
     "shell.execute_reply": "2024-03-12T17:06:51.779158Z"
    },
    "executionInfo": {
     "elapsed": 73287,
     "status": "ok",
     "timestamp": 1697128618785,
     "user": {
      "displayName": "Sadib Hassan",
      "userId": "02293876242738667291"
     },
     "user_tz": -360
    },
    "id": "37at32dG9Ymz",
    "outputId": "ad04d9bb-11d5-4cee-e4dc-cf67703301c2",
    "papermill": {
     "duration": 3.840206,
     "end_time": "2024-03-12T17:06:51.783163",
     "exception": false,
     "start_time": "2024-03-12T17:06:47.942957",
     "status": "completed"
    },
    "scrolled": true,
    "tags": []
   },
   "outputs": [
    {
     "name": "stdout",
     "output_type": "stream",
     "text": [
      "1/1 [==============================] - 0s 134ms/step\n",
      "1/1 [==============================] - 0s 47ms/step\n",
      "1/1 [==============================] - 0s 48ms/step\n",
      "1/1 [==============================] - 0s 48ms/step\n",
      "1/1 [==============================] - 0s 38ms/step\n",
      "1/1 [==============================] - 0s 34ms/step\n",
      "1/1 [==============================] - 0s 41ms/step\n",
      "1/1 [==============================] - 0s 41ms/step\n",
      "1/1 [==============================] - 0s 42ms/step\n",
      "1/1 [==============================] - 0s 29ms/step\n",
      "1/1 [==============================] - 0s 41ms/step\n",
      "1/1 [==============================] - 0s 41ms/step\n",
      "1/1 [==============================] - 0s 30ms/step\n",
      "1/1 [==============================] - 0s 29ms/step\n",
      "1/1 [==============================] - 0s 29ms/step\n",
      "1/1 [==============================] - 0s 91ms/step\n"
     ]
    },
    {
     "data": {
      "image/png": "[encoded data removed]",
      "text/plain": [
       "<Figure size 800x600 with 2 Axes>"
      ]
     },
     "metadata": {},
     "output_type": "display_data"
    }
   ],
   "source": [
    "import tensorflow as tf\n",
    "from sklearn.metrics import confusion_matrix, classification_report\n",
    "import seaborn as sns\n",
    "import matplotlib.pyplot as plt\n",
    "import numpy as np\n",
    "\n",
    "class_names = ['glioma_tumor','meningioma_tumor','no_tumor','pituitary_tumor']\n",
    "\n",
    "all_val_labels = []\n",
    "all_val_predictions = []\n",
    "\n",
    "# Evaluate the model on the validation dataset batch by batch\n",
    "for batch in val_ds:\n",
    "    val_images, val_labels_batch = batch\n",
    "    val_predictions_batch = model.predict(val_images)\n",
    "\n",
    "    val_labels_batch = np.array(val_labels_batch)\n",
    "    val_predictions_batch = np.argmax(val_predictions_batch, axis=-1)\n",
    "\n",
    "    all_val_labels.extend(val_labels_batch)\n",
    "    all_val_predictions.extend(val_predictions_batch)\n",
    "\n",
    "# Calculate the confusion matrix for all validation data\n",
    "conf_matrix = confusion_matrix(all_val_labels, all_val_predictions)\n",
    "\n",
    "# Create a heatmap of the confusion matrix\n",
    "plt.figure(figsize=(8, 6))\n",
    "sns.heatmap(conf_matrix, annot=True, fmt='d', cmap='Greens', xticklabels=class_names, yticklabels=class_names)\n",
    "plt.xlabel('Predicted')\n",
    "plt.ylabel('True')\n",
    "plt.title('Confusion Matrix Heatmap (All Validation Batches)')\n",
    "plt.show()"
   ]
  },
  {
   "cell_type": "code",
   "execution_count": 8,
   "id": "09606669",
   "metadata": {
    "execution": {
     "iopub.execute_input": "2024-03-12T17:06:51.885624Z",
     "iopub.status.busy": "2024-03-12T17:06:51.884428Z",
     "iopub.status.idle": "2024-03-12T17:06:51.901793Z",
     "shell.execute_reply": "2024-03-12T17:06:51.900569Z"
    },
    "executionInfo": {
     "elapsed": 51,
     "status": "ok",
     "timestamp": 1697128618786,
     "user": {
      "displayName": "Sadib Hassan",
      "userId": "02293876242738667291"
     },
     "user_tz": -360
    },
    "id": "u2Y0ODbq9cQp",
    "outputId": "4325e3f9-d97e-43ac-f8ea-42699de8fd73",
    "papermill": {
     "duration": 0.071017,
     "end_time": "2024-03-12T17:06:51.904108",
     "exception": false,
     "start_time": "2024-03-12T17:06:51.833091",
     "status": "completed"
    },
    "tags": []
   },
   "outputs": [
    {
     "name": "stdout",
     "output_type": "stream",
     "text": [
      "                  precision    recall  f1-score   support\n",
      "\n",
      "    glioma_tumor       0.86      0.81      0.83       149\n",
      "meningioma_tumor       0.75      0.82      0.78       142\n",
      "        no_tumor       0.79      0.73      0.76        52\n",
      " pituitary_tumor       0.93      0.93      0.93       141\n",
      "\n",
      "        accuracy                           0.84       484\n",
      "       macro avg       0.83      0.82      0.83       484\n",
      "    weighted avg       0.84      0.84      0.84       484\n",
      "\n"
     ]
    }
   ],
   "source": [
    "print(classification_report(all_val_labels, all_val_predictions, target_names=class_names))"
   ]
  }
 ],
 "metadata": {
  "accelerator": "GPU",
  "colab": {
   "provenance": []
  },
  "kaggle": {
   "accelerator": "nvidiaTeslaT4",
   "dataSources": [
    {
     "sourceId": 165653935,
     "sourceType": "kernelVersion"
    }
   ],
   "dockerImageVersionId": 30648,
   "isGpuEnabled": true,
   "isInternetEnabled": true,
   "language": "python",
   "sourceType": "notebook"
  },
  "kernelspec": {
   "display_name": "Python 3",
   "language": "python",
   "name": "python3"
  },
  "language_info": {
   "codemirror_mode": {
    "name": "ipython",
    "version": 3
   },
   "file_extension": ".py",
   "mimetype": "text/x-python",
   "name": "python",
   "nbconvert_exporter": "python",
   "pygments_lexer": "ipython3",
   "version": "3.10.13"
  },
  "papermill": {
   "default_parameters": {},
   "duration": 89.423749,
   "end_time": "2024-03-12T17:06:54.740668",
   "environment_variables": {},
   "exception": null,
   "input_path": "__notebook__.ipynb",
   "output_path": "__notebook__.ipynb",
   "parameters": {},
   "start_time": "2024-03-12T17:05:25.316919",
   "version": "2.5.0"
  }
 },
 "nbformat": 4,
 "nbformat_minor": 5
}

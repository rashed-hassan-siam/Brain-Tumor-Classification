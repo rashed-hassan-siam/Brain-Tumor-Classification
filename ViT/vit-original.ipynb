{
 "cells": [
  {
   "cell_type": "code",
   "execution_count": 1,
   "id": "d86b286d",
   "metadata": {
    "execution": {
     "iopub.execute_input": "2024-03-12T19:36:35.886123Z",
     "iopub.status.busy": "2024-03-12T19:36:35.885409Z",
     "iopub.status.idle": "2024-03-12T19:36:52.534440Z",
     "shell.execute_reply": "2024-03-12T19:36:52.533430Z"
    },
    "executionInfo": {
     "elapsed": 2746,
     "status": "ok",
     "timestamp": 1693839150844,
     "user": {
      "displayName": "SADIB HASSAN RUMMAN",
      "userId": "01508624673777496953"
     },
     "user_tz": -360
    },
    "id": "C2C0y1H8_IxD",
    "papermill": {
     "duration": 16.659754,
     "end_time": "2024-03-12T19:36:52.536965",
     "exception": false,
     "start_time": "2024-03-12T19:36:35.877211",
     "status": "completed"
    },
    "tags": []
   },
   "outputs": [
    {
     "name": "stderr",
     "output_type": "stream",
     "text": [
      "2024-03-12 19:36:40.602866: E external/local_xla/xla/stream_executor/cuda/cuda_dnn.cc:9261] Unable to register cuDNN factory: Attempting to register factory for plugin cuDNN when one has already been registered\n",
      "2024-03-12 19:36:40.602969: E external/local_xla/xla/stream_executor/cuda/cuda_fft.cc:607] Unable to register cuFFT factory: Attempting to register factory for plugin cuFFT when one has already been registered\n",
      "2024-03-12 19:36:40.768133: E external/local_xla/xla/stream_executor/cuda/cuda_blas.cc:1515] Unable to register cuBLAS factory: Attempting to register factory for plugin cuBLAS when one has already been registered\n"
     ]
    }
   ],
   "source": [
    "import os\n",
    "import cv2\n",
    "import pickle\n",
    "import numpy as np\n",
    "import pandas as pd\n",
    "import seaborn as sns\n",
    "import matplotlib.pyplot as plt\n",
    "import matplotlib.image as mpimg\n",
    "\n",
    "import keras\n",
    "import tensorflow\n",
    "\n",
    "from tensorflow.keras.models import Model\n",
    "from tensorflow.keras.utils import plot_model\n",
    "from tensorflow.keras.models import Sequential\n",
    "from tensorflow.keras.applications import VGG19\n",
    "from tensorflow.keras.callbacks import EarlyStopping\n",
    "from tensorflow.keras.preprocessing.image import ImageDataGenerator\n",
    "from tensorflow.keras.layers import Input, Lambda, Dense, Flatten, Dropout, BatchNormalization, Activation\n",
    "\n",
    "from sklearn.metrics import confusion_matrix, classification_report, accuracy_score, recall_score, precision_score, f1_score\n",
    "\n",
    "from sklearn.model_selection import train_test_split"
   ]
  },
  {
   "cell_type": "code",
   "execution_count": 2,
   "id": "f014f742",
   "metadata": {
    "execution": {
     "iopub.execute_input": "2024-03-12T19:36:52.552013Z",
     "iopub.status.busy": "2024-03-12T19:36:52.550971Z",
     "iopub.status.idle": "2024-03-12T19:37:06.972723Z",
     "shell.execute_reply": "2024-03-12T19:37:06.971419Z"
    },
    "executionInfo": {
     "elapsed": 4972,
     "status": "ok",
     "timestamp": 1693839155811,
     "user": {
      "displayName": "SADIB HASSAN RUMMAN",
      "userId": "01508624673777496953"
     },
     "user_tz": -360
    },
    "id": "Nxzix206-UFU",
    "outputId": "7726c22a-ce97-41ea-e0c0-b7d50c79ef54",
    "papermill": {
     "duration": 14.431638,
     "end_time": "2024-03-12T19:37:06.975170",
     "exception": false,
     "start_time": "2024-03-12T19:36:52.543532",
     "status": "completed"
    },
    "tags": []
   },
   "outputs": [
    {
     "name": "stdout",
     "output_type": "stream",
     "text": [
      "Collecting tensorflow-addons\r\n",
      "  Downloading tensorflow_addons-0.23.0-cp310-cp310-manylinux_2_17_x86_64.manylinux2014_x86_64.whl.metadata (1.8 kB)\r\n",
      "Requirement already satisfied: packaging in /opt/conda/lib/python3.10/site-packages (from tensorflow-addons) (21.3)\r\n",
      "Collecting typeguard<3.0.0,>=2.7 (from tensorflow-addons)\r\n",
      "  Downloading typeguard-2.13.3-py3-none-any.whl.metadata (3.6 kB)\r\n",
      "Requirement already satisfied: pyparsing!=3.0.5,>=2.0.2 in /opt/conda/lib/python3.10/site-packages (from packaging->tensorflow-addons) (3.1.1)\r\n",
      "Downloading tensorflow_addons-0.23.0-cp310-cp310-manylinux_2_17_x86_64.manylinux2014_x86_64.whl (611 kB)\r\n",
      "\u001b[2K   \u001b[90m━━━━━━━━━━━━━━━━━━━━━━━━━━━━━━━━━━━━━━━━\u001b[0m \u001b[32m611.8/611.8 kB\u001b[0m \u001b[31m10.4 MB/s\u001b[0m eta \u001b[36m0:00:00\u001b[0m\r\n",
      "\u001b[?25hDownloading typeguard-2.13.3-py3-none-any.whl (17 kB)\r\n",
      "Installing collected packages: typeguard, tensorflow-addons\r\n",
      "  Attempting uninstall: typeguard\r\n",
      "    Found existing installation: typeguard 4.1.5\r\n",
      "    Uninstalling typeguard-4.1.5:\r\n",
      "      Successfully uninstalled typeguard-4.1.5\r\n",
      "\u001b[31mERROR: pip's dependency resolver does not currently take into account all the packages that are installed. This behaviour is the source of the following dependency conflicts.\r\n",
      "ydata-profiling 4.6.4 requires typeguard<5,>=4.1.2, but you have typeguard 2.13.3 which is incompatible.\u001b[0m\u001b[31m\r\n",
      "\u001b[0mSuccessfully installed tensorflow-addons-0.23.0 typeguard-2.13.3\r\n"
     ]
    }
   ],
   "source": [
    "!pip install -U tensorflow-addons"
   ]
  },
  {
   "cell_type": "code",
   "execution_count": 3,
   "id": "61bdb22d",
   "metadata": {
    "execution": {
     "iopub.execute_input": "2024-03-12T19:37:06.991759Z",
     "iopub.status.busy": "2024-03-12T19:37:06.991395Z",
     "iopub.status.idle": "2024-03-12T19:37:06.997120Z",
     "shell.execute_reply": "2024-03-12T19:37:06.996260Z"
    },
    "executionInfo": {
     "elapsed": 11,
     "status": "ok",
     "timestamp": 1693839155811,
     "user": {
      "displayName": "SADIB HASSAN RUMMAN",
      "userId": "01508624673777496953"
     },
     "user_tz": -360
    },
    "id": "oEpwz3gK-ez1",
    "outputId": "c0c40a0a-6ada-4826-a08e-792353becbb7",
    "papermill": {
     "duration": 0.01648,
     "end_time": "2024-03-12T19:37:06.999333",
     "exception": false,
     "start_time": "2024-03-12T19:37:06.982853",
     "status": "completed"
    },
    "tags": []
   },
   "outputs": [
    {
     "name": "stdout",
     "output_type": "stream",
     "text": [
      "2.15.0\n"
     ]
    }
   ],
   "source": [
    "import tensorflow as tf\n",
    "tf.random.set_seed(42)\n",
    "print(tf.__version__)"
   ]
  },
  {
   "cell_type": "code",
   "execution_count": 4,
   "id": "11c8d861",
   "metadata": {
    "execution": {
     "iopub.execute_input": "2024-03-12T19:37:07.015262Z",
     "iopub.status.busy": "2024-03-12T19:37:07.014958Z",
     "iopub.status.idle": "2024-03-12T19:37:07.078334Z",
     "shell.execute_reply": "2024-03-12T19:37:07.077443Z"
    },
    "executionInfo": {
     "elapsed": 8,
     "status": "ok",
     "timestamp": 1693839155811,
     "user": {
      "displayName": "SADIB HASSAN RUMMAN",
      "userId": "01508624673777496953"
     },
     "user_tz": -360
    },
    "id": "JzDqW3p1-hLF",
    "outputId": "d7b5d059-ea26-43c8-a231-5d3aec097e6d",
    "papermill": {
     "duration": 0.073606,
     "end_time": "2024-03-12T19:37:07.080467",
     "exception": false,
     "start_time": "2024-03-12T19:37:07.006861",
     "status": "completed"
    },
    "tags": []
   },
   "outputs": [
    {
     "name": "stderr",
     "output_type": "stream",
     "text": [
      "/opt/conda/lib/python3.10/site-packages/tensorflow_addons/utils/tfa_eol_msg.py:23: UserWarning: \n",
      "\n",
      "TensorFlow Addons (TFA) has ended development and introduction of new features.\n",
      "TFA has entered a minimal maintenance and release mode until a planned end of life in May 2024.\n",
      "Please modify downstream libraries to take dependencies from other repositories in our TensorFlow community (e.g. Keras, Keras-CV, and Keras-NLP). \n",
      "\n",
      "For more information see: https://github.com/tensorflow/addons/issues/2807 \n",
      "\n",
      "  warnings.warn(\n"
     ]
    }
   ],
   "source": [
    "from tensorflow import keras\n",
    "from tensorflow.keras import layers\n",
    "import tensorflow_addons as tfa\n",
    "\n",
    "import numpy as np\n",
    "np.random.seed(42)"
   ]
  },
  {
   "cell_type": "code",
   "execution_count": 5,
   "id": "c53d2b4d",
   "metadata": {
    "execution": {
     "iopub.execute_input": "2024-03-12T19:37:07.096427Z",
     "iopub.status.busy": "2024-03-12T19:37:07.096098Z",
     "iopub.status.idle": "2024-03-12T19:37:33.705978Z",
     "shell.execute_reply": "2024-03-12T19:37:33.705161Z"
    },
    "executionInfo": {
     "elapsed": 1142418,
     "status": "ok",
     "timestamp": 1693840298223,
     "user": {
      "displayName": "SADIB HASSAN RUMMAN",
      "userId": "01508624673777496953"
     },
     "user_tz": -360
    },
    "id": "VptujPjQ-jiN",
    "outputId": "ea5dc80e-cc63-46d7-d6f8-2866dd348d26",
    "papermill": {
     "duration": 26.620263,
     "end_time": "2024-03-12T19:37:33.708202",
     "exception": false,
     "start_time": "2024-03-12T19:37:07.087939",
     "status": "completed"
    },
    "scrolled": true,
    "tags": []
   },
   "outputs": [
    {
     "name": "stdout",
     "output_type": "stream",
     "text": [
      "/kaggle/input/eccv-brain-mri-augmentation-manual/original_dataset/glioma_tumor\n",
      "0\n",
      "/kaggle/input/eccv-brain-mri-augmentation-manual/original_dataset/meningioma_tumor\n",
      "1\n",
      "/kaggle/input/eccv-brain-mri-augmentation-manual/original_dataset/no_tumor\n",
      "2\n",
      "/kaggle/input/eccv-brain-mri-augmentation-manual/original_dataset/pituitary_tumor\n",
      "3\n"
     ]
    }
   ],
   "source": [
    "dir = \"/kaggle/input/eccv-brain-mri-augmentation-manual/original_dataset/\"\n",
    "\n",
    "tk_categories = ['glioma_tumor','meningioma_tumor','no_tumor','pituitary_tumor']\n",
    "\n",
    "data = []\n",
    "for c in tk_categories:\n",
    "  folder = os.path.join(dir,c)\n",
    "  label = tk_categories.index(c)\n",
    "  print(folder)\n",
    "  print(label)\n",
    "  for img in os.listdir(folder):\n",
    "    image = os.path.join(folder,img)\n",
    "    img_arr = cv2.imread(image)\n",
    "    img_arr = cv2.resize(img_arr,(72,72))\n",
    "    data.append([img_arr,label])\n",
    "\n",
    "x = []\n",
    "y = []\n",
    "for feature,label in data:\n",
    "  x.append(feature)\n",
    "  y.append(label)\n",
    "\n",
    "x = np.array(x)\n",
    "y = np.array(y)\n",
    "\n",
    "x_train,x_test, y_train,y_test = train_test_split(x,y,test_size=0.19)"
   ]
  },
  {
   "cell_type": "code",
   "execution_count": 6,
   "id": "65d3f3e1",
   "metadata": {
    "execution": {
     "iopub.execute_input": "2024-03-12T19:37:33.726506Z",
     "iopub.status.busy": "2024-03-12T19:37:33.725969Z",
     "iopub.status.idle": "2024-03-12T19:37:33.732176Z",
     "shell.execute_reply": "2024-03-12T19:37:33.730848Z"
    },
    "executionInfo": {
     "elapsed": 8,
     "status": "ok",
     "timestamp": 1693840298224,
     "user": {
      "displayName": "SADIB HASSAN RUMMAN",
      "userId": "01508624673777496953"
     },
     "user_tz": -360
    },
    "id": "CmXY3kAM_Srk",
    "papermill": {
     "duration": 0.017778,
     "end_time": "2024-03-12T19:37:33.734108",
     "exception": false,
     "start_time": "2024-03-12T19:37:33.716330",
     "status": "completed"
    },
    "tags": []
   },
   "outputs": [],
   "source": [
    "learning_rate = 0.001\n",
    "weight_decay = 0.0001\n",
    "batch_size = 64\n",
    "num_epochs = 100\n",
    "image_size = 72  # Final Image Size\n",
    "patch_size = 6  # Patch Dimension\n",
    "num_patches = (image_size // patch_size) ** 2\n",
    "projection_dim = 64\n",
    "num_heads = 4\n",
    "transformer_units = [\n",
    "    projection_dim * 2,\n",
    "    projection_dim,\n",
    "]  # Size of the transformer layers\n",
    "transformer_layers = 8\n",
    "mlp_head_units = [2048, 1024]  # Size of the dense layers"
   ]
  },
  {
   "cell_type": "code",
   "execution_count": 7,
   "id": "f0e04432",
   "metadata": {
    "execution": {
     "iopub.execute_input": "2024-03-12T19:37:33.750461Z",
     "iopub.status.busy": "2024-03-12T19:37:33.750207Z",
     "iopub.status.idle": "2024-03-12T19:37:36.051522Z",
     "shell.execute_reply": "2024-03-12T19:37:36.050605Z"
    },
    "executionInfo": {
     "elapsed": 5521,
     "status": "ok",
     "timestamp": 1693840303737,
     "user": {
      "displayName": "SADIB HASSAN RUMMAN",
      "userId": "01508624673777496953"
     },
     "user_tz": -360
    },
    "id": "mKDgRN2m_ktf",
    "papermill": {
     "duration": 2.312177,
     "end_time": "2024-03-12T19:37:36.053871",
     "exception": false,
     "start_time": "2024-03-12T19:37:33.741694",
     "status": "completed"
    },
    "tags": []
   },
   "outputs": [],
   "source": [
    "data_augmentation = keras.Sequential(\n",
    "    [\n",
    "        layers.experimental.preprocessing.Normalization(),\n",
    "        layers.experimental.preprocessing.Resizing(image_size, image_size),\n",
    "        layers.experimental.preprocessing.RandomFlip(\"horizontal\"),\n",
    "        layers.experimental.preprocessing.RandomRotation(factor=0.02),\n",
    "        layers.experimental.preprocessing.RandomZoom(\n",
    "            height_factor=0.2, width_factor=0.2\n",
    "        ),\n",
    "    ],\n",
    "    name=\"data_augmentation\",\n",
    ")\n",
    "# Compute the mean and the variance of the training data for normalization.\n",
    "data_augmentation.layers[0].adapt(x_train)"
   ]
  },
  {
   "cell_type": "code",
   "execution_count": 8,
   "id": "5725183e",
   "metadata": {
    "execution": {
     "iopub.execute_input": "2024-03-12T19:37:36.071709Z",
     "iopub.status.busy": "2024-03-12T19:37:36.071359Z",
     "iopub.status.idle": "2024-03-12T19:37:36.076396Z",
     "shell.execute_reply": "2024-03-12T19:37:36.075582Z"
    },
    "executionInfo": {
     "elapsed": 10,
     "status": "ok",
     "timestamp": 1693840303738,
     "user": {
      "displayName": "SADIB HASSAN RUMMAN",
      "userId": "01508624673777496953"
     },
     "user_tz": -360
    },
    "id": "Kl8scisb_rYA",
    "papermill": {
     "duration": 0.016309,
     "end_time": "2024-03-12T19:37:36.078592",
     "exception": false,
     "start_time": "2024-03-12T19:37:36.062283",
     "status": "completed"
    },
    "tags": []
   },
   "outputs": [],
   "source": [
    "def multilayer_perceptron(x, hidden_units, dropout_rate):\n",
    "    for units in hidden_units:\n",
    "        x = layers.Dense(units, activation=tf.nn.gelu)(x)\n",
    "        x = layers.Dropout(dropout_rate)(x)\n",
    "    return x"
   ]
  },
  {
   "cell_type": "code",
   "execution_count": 9,
   "id": "b9622dbf",
   "metadata": {
    "execution": {
     "iopub.execute_input": "2024-03-12T19:37:36.096620Z",
     "iopub.status.busy": "2024-03-12T19:37:36.096294Z",
     "iopub.status.idle": "2024-03-12T19:37:36.103441Z",
     "shell.execute_reply": "2024-03-12T19:37:36.102608Z"
    },
    "executionInfo": {
     "elapsed": 9,
     "status": "ok",
     "timestamp": 1693840303738,
     "user": {
      "displayName": "SADIB HASSAN RUMMAN",
      "userId": "01508624673777496953"
     },
     "user_tz": -360
    },
    "id": "vXyUXs9A_u3Q",
    "papermill": {
     "duration": 0.01791,
     "end_time": "2024-03-12T19:37:36.105286",
     "exception": false,
     "start_time": "2024-03-12T19:37:36.087376",
     "status": "completed"
    },
    "tags": []
   },
   "outputs": [],
   "source": [
    "class Patches(layers.Layer):\n",
    "    def __init__(self, patch_size):\n",
    "        super(Patches, self).__init__()\n",
    "        self.patch_size = patch_size\n",
    "\n",
    "    def call(self, images):\n",
    "        batch_size = tf.shape(images)[0]\n",
    "        patches = tf.image.extract_patches(\n",
    "            images=images,\n",
    "            sizes=[1, self.patch_size, self.patch_size, 1],\n",
    "            strides=[1, self.patch_size, self.patch_size, 1],\n",
    "            rates=[1, 1, 1, 1],\n",
    "            padding=\"VALID\",\n",
    "        )\n",
    "        patch_dims = patches.shape[-1]\n",
    "        patches = tf.reshape(patches, [batch_size, -1, patch_dims])\n",
    "        return patches"
   ]
  },
  {
   "cell_type": "code",
   "execution_count": 10,
   "id": "0c809b9a",
   "metadata": {
    "execution": {
     "iopub.execute_input": "2024-03-12T19:37:36.122352Z",
     "iopub.status.busy": "2024-03-12T19:37:36.122105Z",
     "iopub.status.idle": "2024-03-12T19:37:40.951284Z",
     "shell.execute_reply": "2024-03-12T19:37:40.950289Z"
    },
    "executionInfo": {
     "elapsed": 5643,
     "status": "ok",
     "timestamp": 1693840309373,
     "user": {
      "displayName": "SADIB HASSAN RUMMAN",
      "userId": "01508624673777496953"
     },
     "user_tz": -360
    },
    "id": "9BUcm_Jc_zFB",
    "outputId": "3ea6d1e6-da74-485e-cb3f-0bef90301045",
    "papermill": {
     "duration": 4.840588,
     "end_time": "2024-03-12T19:37:40.953712",
     "exception": false,
     "start_time": "2024-03-12T19:37:36.113124",
     "status": "completed"
    },
    "tags": []
   },
   "outputs": [
    {
     "name": "stdout",
     "output_type": "stream",
     "text": [
      "Image size: 72 X 72\n",
      "Patch size: 6 X 6\n",
      "Patches per image: 144\n",
      "Elements per patch: 108\n"
     ]
    },
    {
     "data": {
      "image/png": "[encoded data removed]",
      "text/plain": [
       "<Figure size 400x400 with 1 Axes>"
      ]
     },
     "metadata": {},
     "output_type": "display_data"
    },
    {
     "data": {
      "image/png": "[encoded data removed]",
      "text/plain": [
       "<Figure size 400x400 with 144 Axes>"
      ]
     },
     "metadata": {},
     "output_type": "display_data"
    }
   ],
   "source": [
    "import matplotlib.pyplot as plt\n",
    "\n",
    "plt.figure(figsize=(4, 4))\n",
    "image = x_train[np.random.choice(range(x_train.shape[0]))]\n",
    "plt.imshow(image.astype(\"uint8\"))\n",
    "plt.axis(\"off\")\n",
    "\n",
    "resized_image = tf.image.resize(\n",
    "    tf.convert_to_tensor([image]), size=(image_size, image_size)\n",
    ")\n",
    "patches = Patches(patch_size)(resized_image)\n",
    "print(f\"Image size: {image_size} X {image_size}\")\n",
    "print(f\"Patch size: {patch_size} X {patch_size}\")\n",
    "print(f\"Patches per image: {patches.shape[1]}\")\n",
    "print(f\"Elements per patch: {patches.shape[-1]}\")\n",
    "\n",
    "n = int(np.sqrt(patches.shape[1]))\n",
    "plt.figure(figsize=(4, 4))\n",
    "for i, patch in enumerate(patches[0]):\n",
    "    ax = plt.subplot(n, n, i + 1)\n",
    "    patch_img = tf.reshape(patch, (patch_size, patch_size, 3))\n",
    "    plt.imshow(patch_img.numpy().astype(\"uint8\"))\n",
    "    plt.axis(\"off\")"
   ]
  },
  {
   "cell_type": "code",
   "execution_count": 11,
   "id": "977951fe",
   "metadata": {
    "execution": {
     "iopub.execute_input": "2024-03-12T19:37:40.974980Z",
     "iopub.status.busy": "2024-03-12T19:37:40.974076Z",
     "iopub.status.idle": "2024-03-12T19:37:40.981094Z",
     "shell.execute_reply": "2024-03-12T19:37:40.980262Z"
    },
    "executionInfo": {
     "elapsed": 4,
     "status": "ok",
     "timestamp": 1693840309373,
     "user": {
      "displayName": "SADIB HASSAN RUMMAN",
      "userId": "01508624673777496953"
     },
     "user_tz": -360
    },
    "id": "UZWk8DIF_5gS",
    "papermill": {
     "duration": 0.019687,
     "end_time": "2024-03-12T19:37:40.983141",
     "exception": false,
     "start_time": "2024-03-12T19:37:40.963454",
     "status": "completed"
    },
    "tags": []
   },
   "outputs": [],
   "source": [
    "class PatchEncoder(layers.Layer):\n",
    "    def __init__(self, num_patches, projection_dim):\n",
    "        super(PatchEncoder, self).__init__()\n",
    "        self.num_patches = num_patches\n",
    "        self.projection = layers.Dense(units=projection_dim)\n",
    "        self.position_embedding = layers.Embedding(\n",
    "            input_dim=num_patches, output_dim=projection_dim\n",
    "        )\n",
    "\n",
    "    def call(self, patch):\n",
    "        positions = tf.range(start=0, limit=self.num_patches, delta=1)\n",
    "        encoded = self.projection(patch) + self.position_embedding(positions)\n",
    "        return encoded"
   ]
  },
  {
   "cell_type": "code",
   "execution_count": 12,
   "id": "793b5cb9",
   "metadata": {
    "execution": {
     "iopub.execute_input": "2024-03-12T19:37:41.003790Z",
     "iopub.status.busy": "2024-03-12T19:37:41.003012Z",
     "iopub.status.idle": "2024-03-12T19:37:41.012329Z",
     "shell.execute_reply": "2024-03-12T19:37:41.011488Z"
    },
    "executionInfo": {
     "elapsed": 830,
     "status": "ok",
     "timestamp": 1693840310200,
     "user": {
      "displayName": "SADIB HASSAN RUMMAN",
      "userId": "01508624673777496953"
     },
     "user_tz": -360
    },
    "id": "lUOqSzaYAAXb",
    "papermill": {
     "duration": 0.021833,
     "end_time": "2024-03-12T19:37:41.014359",
     "exception": false,
     "start_time": "2024-03-12T19:37:40.992526",
     "status": "completed"
    },
    "tags": []
   },
   "outputs": [],
   "source": [
    "def create_vit_classifier():\n",
    "    inputs = layers.Input((72,72,3))\n",
    "\n",
    "    augmented = data_augmentation(inputs)\n",
    "\n",
    "    patches = Patches(patch_size)(augmented)\n",
    "\n",
    "    encoded_patches = PatchEncoder(num_patches, projection_dim)(patches)\n",
    "\n",
    "\n",
    "    for _ in range(transformer_layers):\n",
    "\n",
    "        x1 = layers.LayerNormalization(epsilon=1e-6)(encoded_patches)\n",
    "\n",
    "        attention_output = layers.MultiHeadAttention(\n",
    "            num_heads=num_heads, key_dim=projection_dim, dropout=0.1\n",
    "        )(x1, x1)\n",
    "\n",
    "        x2 = layers.Add()([attention_output, encoded_patches])\n",
    "\n",
    "        x3 = layers.LayerNormalization(epsilon=1e-6)(x2)\n",
    "\n",
    "        x3 = multilayer_perceptron(x3, hidden_units=transformer_units, dropout_rate=0.1)\n",
    "\n",
    "        encoded_patches = layers.Add()([x3, x2])\n",
    "\n",
    "    representation = layers.LayerNormalization(epsilon=1e-6)(encoded_patches)\n",
    "    representation = layers.Flatten()(representation)\n",
    "    representation = layers.Dropout(0.5)(representation)\n",
    "\n",
    "    features = multilayer_perceptron(representation, hidden_units=mlp_head_units, dropout_rate=0.5)\n",
    "\n",
    "    logits = layers.Dense(4)(features)\n",
    "\n",
    "    model = keras.Model(inputs=inputs, outputs=logits)\n",
    "    return model"
   ]
  },
  {
   "cell_type": "code",
   "execution_count": 13,
   "id": "83c6d39d",
   "metadata": {
    "execution": {
     "iopub.execute_input": "2024-03-12T19:37:41.035453Z",
     "iopub.status.busy": "2024-03-12T19:37:41.034874Z",
     "iopub.status.idle": "2024-03-12T19:37:41.044045Z",
     "shell.execute_reply": "2024-03-12T19:37:41.043069Z"
    },
    "executionInfo": {
     "elapsed": 5,
     "status": "ok",
     "timestamp": 1693840310200,
     "user": {
      "displayName": "SADIB HASSAN RUMMAN",
      "userId": "01508624673777496953"
     },
     "user_tz": -360
    },
    "id": "PrmJtC-gAFKU",
    "papermill": {
     "duration": 0.022104,
     "end_time": "2024-03-12T19:37:41.046156",
     "exception": false,
     "start_time": "2024-03-12T19:37:41.024052",
     "status": "completed"
    },
    "tags": []
   },
   "outputs": [],
   "source": [
    "def run_experiment(model):\n",
    "    optimizer = tfa.optimizers.AdamW(\n",
    "        learning_rate=learning_rate, weight_decay=weight_decay\n",
    "    )\n",
    "\n",
    "    model.compile(\n",
    "        optimizer=optimizer,\n",
    "        loss=keras.losses.SparseCategoricalCrossentropy(from_logits=True),\n",
    "        metrics=[\n",
    "            keras.metrics.SparseCategoricalAccuracy(name=\"accuracy\"),\n",
    "            keras.metrics.SparseTopKCategoricalAccuracy(5, name=\"top-5-accuracy\"),\n",
    "        ],\n",
    "    )\n",
    "\n",
    "    checkpoint_filepath = \"/tmp/checkpoint\"\n",
    "    checkpoint_callback = keras.callbacks.ModelCheckpoint(\n",
    "        checkpoint_filepath,\n",
    "        monitor=\"val_accuracy\",\n",
    "        save_best_only=True,\n",
    "        save_weights_only=True,\n",
    "    )\n",
    "    \n",
    "    earlystopping = EarlyStopping(monitor=\"val_loss\",\n",
    "                                        mode=\"min\", patience=5,\n",
    "                                        restore_best_weights=True)\n",
    "\n",
    "    history = model.fit(\n",
    "        x=x_train,\n",
    "        y=y_train,\n",
    "        batch_size=batch_size,\n",
    "        epochs=num_epochs,\n",
    "        validation_split=0.1,\n",
    "        callbacks=[checkpoint_callback, earlystopping]\n",
    "    )\n",
    "\n",
    "    model.load_weights(checkpoint_filepath)\n",
    "    _, accuracy, top_5_accuracy = model.evaluate(x_test, y_test)\n",
    "    print(f\"Test accuracy: {round(accuracy * 100, 2)}%\")\n",
    "    print(f\"Test top 5 accuracy: {round(top_5_accuracy * 100, 2)}%\")\n",
    "\n",
    "    return history"
   ]
  },
  {
   "cell_type": "code",
   "execution_count": 14,
   "id": "8567c44a",
   "metadata": {
    "execution": {
     "iopub.execute_input": "2024-03-12T19:37:41.066748Z",
     "iopub.status.busy": "2024-03-12T19:37:41.065920Z",
     "iopub.status.idle": "2024-03-12T19:41:02.284939Z",
     "shell.execute_reply": "2024-03-12T19:41:02.283916Z"
    },
    "executionInfo": {
     "elapsed": 1131761,
     "status": "ok",
     "timestamp": 1693841441957,
     "user": {
      "displayName": "SADIB HASSAN RUMMAN",
      "userId": "01508624673777496953"
     },
     "user_tz": -360
    },
    "id": "wlEJPgCgAGf0",
    "outputId": "956d8509-9b18-4004-8a18-7a3f3705ea23",
    "papermill": {
     "duration": 201.231343,
     "end_time": "2024-03-12T19:41:02.287089",
     "exception": false,
     "start_time": "2024-03-12T19:37:41.055746",
     "status": "completed"
    },
    "scrolled": true,
    "tags": []
   },
   "outputs": [
    {
     "name": "stdout",
     "output_type": "stream",
     "text": [
      "Epoch 1/100\n",
      "35/35 [==============================] - 20s 178ms/step - loss: 3.0716 - accuracy: 0.3719 - top-5-accuracy: 1.0000 - val_loss: 1.1216 - val_accuracy: 0.4309 - val_top-5-accuracy: 1.0000\n",
      "Epoch 2/100\n",
      "35/35 [==============================] - 5s 144ms/step - loss: 1.3615 - accuracy: 0.4599 - top-5-accuracy: 1.0000 - val_loss: 1.0425 - val_accuracy: 0.6016 - val_top-5-accuracy: 1.0000\n",
      "Epoch 3/100\n",
      "35/35 [==============================] - 4s 104ms/step - loss: 1.2112 - accuracy: 0.4834 - top-5-accuracy: 1.0000 - val_loss: 1.0711 - val_accuracy: 0.5407 - val_top-5-accuracy: 1.0000\n",
      "Epoch 4/100\n",
      "35/35 [==============================] - 5s 144ms/step - loss: 1.0491 - accuracy: 0.5474 - top-5-accuracy: 1.0000 - val_loss: 0.9005 - val_accuracy: 0.6504 - val_top-5-accuracy: 1.0000\n",
      "Epoch 5/100\n",
      "35/35 [==============================] - 5s 144ms/step - loss: 0.9919 - accuracy: 0.5760 - top-5-accuracy: 1.0000 - val_loss: 0.8478 - val_accuracy: 0.6585 - val_top-5-accuracy: 1.0000\n",
      "Epoch 6/100\n",
      "35/35 [==============================] - 4s 103ms/step - loss: 0.9552 - accuracy: 0.5982 - top-5-accuracy: 1.0000 - val_loss: 0.9258 - val_accuracy: 0.6016 - val_top-5-accuracy: 1.0000\n",
      "Epoch 7/100\n",
      "35/35 [==============================] - 4s 107ms/step - loss: 0.9142 - accuracy: 0.6141 - top-5-accuracy: 1.0000 - val_loss: 0.8294 - val_accuracy: 0.6423 - val_top-5-accuracy: 1.0000\n",
      "Epoch 8/100\n",
      "35/35 [==============================] - 4s 107ms/step - loss: 0.8892 - accuracy: 0.6363 - top-5-accuracy: 1.0000 - val_loss: 0.8014 - val_accuracy: 0.6423 - val_top-5-accuracy: 1.0000\n",
      "Epoch 9/100\n",
      "35/35 [==============================] - 5s 142ms/step - loss: 0.8530 - accuracy: 0.6417 - top-5-accuracy: 1.0000 - val_loss: 0.7710 - val_accuracy: 0.6992 - val_top-5-accuracy: 1.0000\n",
      "Epoch 10/100\n",
      "35/35 [==============================] - 5s 143ms/step - loss: 0.8009 - accuracy: 0.6703 - top-5-accuracy: 1.0000 - val_loss: 0.7060 - val_accuracy: 0.7033 - val_top-5-accuracy: 1.0000\n",
      "Epoch 11/100\n",
      "35/35 [==============================] - 5s 140ms/step - loss: 0.7871 - accuracy: 0.6807 - top-5-accuracy: 1.0000 - val_loss: 0.7021 - val_accuracy: 0.7114 - val_top-5-accuracy: 1.0000\n",
      "Epoch 12/100\n",
      "35/35 [==============================] - 4s 108ms/step - loss: 0.8158 - accuracy: 0.6635 - top-5-accuracy: 1.0000 - val_loss: 0.6846 - val_accuracy: 0.6911 - val_top-5-accuracy: 1.0000\n",
      "Epoch 13/100\n",
      "35/35 [==============================] - 5s 143ms/step - loss: 0.7419 - accuracy: 0.6948 - top-5-accuracy: 1.0000 - val_loss: 0.6744 - val_accuracy: 0.7154 - val_top-5-accuracy: 1.0000\n",
      "Epoch 14/100\n",
      "35/35 [==============================] - 6s 167ms/step - loss: 0.7214 - accuracy: 0.7011 - top-5-accuracy: 1.0000 - val_loss: 0.6321 - val_accuracy: 0.7683 - val_top-5-accuracy: 1.0000\n",
      "Epoch 15/100\n",
      "35/35 [==============================] - 4s 105ms/step - loss: 0.7246 - accuracy: 0.7007 - top-5-accuracy: 1.0000 - val_loss: 0.6589 - val_accuracy: 0.7358 - val_top-5-accuracy: 1.0000\n",
      "Epoch 16/100\n",
      "35/35 [==============================] - 4s 104ms/step - loss: 0.6741 - accuracy: 0.7324 - top-5-accuracy: 1.0000 - val_loss: 0.6545 - val_accuracy: 0.7439 - val_top-5-accuracy: 1.0000\n",
      "Epoch 17/100\n",
      "35/35 [==============================] - 5s 146ms/step - loss: 0.6703 - accuracy: 0.7211 - top-5-accuracy: 1.0000 - val_loss: 0.6127 - val_accuracy: 0.7846 - val_top-5-accuracy: 1.0000\n",
      "Epoch 18/100\n",
      "35/35 [==============================] - 4s 109ms/step - loss: 0.6570 - accuracy: 0.7356 - top-5-accuracy: 1.0000 - val_loss: 0.6114 - val_accuracy: 0.7480 - val_top-5-accuracy: 1.0000\n",
      "Epoch 19/100\n",
      "35/35 [==============================] - 4s 105ms/step - loss: 0.6461 - accuracy: 0.7442 - top-5-accuracy: 1.0000 - val_loss: 0.6973 - val_accuracy: 0.7276 - val_top-5-accuracy: 1.0000\n",
      "Epoch 20/100\n",
      "35/35 [==============================] - 5s 146ms/step - loss: 0.6207 - accuracy: 0.7510 - top-5-accuracy: 1.0000 - val_loss: 0.5622 - val_accuracy: 0.7886 - val_top-5-accuracy: 1.0000\n",
      "Epoch 21/100\n",
      "35/35 [==============================] - 4s 106ms/step - loss: 0.6144 - accuracy: 0.7596 - top-5-accuracy: 1.0000 - val_loss: 0.5695 - val_accuracy: 0.7846 - val_top-5-accuracy: 1.0000\n",
      "Epoch 22/100\n",
      "35/35 [==============================] - 4s 110ms/step - loss: 0.5583 - accuracy: 0.7760 - top-5-accuracy: 1.0000 - val_loss: 0.5588 - val_accuracy: 0.7764 - val_top-5-accuracy: 1.0000\n",
      "Epoch 23/100\n",
      "35/35 [==============================] - 4s 106ms/step - loss: 0.5794 - accuracy: 0.7778 - top-5-accuracy: 1.0000 - val_loss: 0.5862 - val_accuracy: 0.7764 - val_top-5-accuracy: 1.0000\n",
      "Epoch 24/100\n",
      "35/35 [==============================] - 5s 146ms/step - loss: 0.5560 - accuracy: 0.7782 - top-5-accuracy: 1.0000 - val_loss: 0.5115 - val_accuracy: 0.8089 - val_top-5-accuracy: 1.0000\n",
      "Epoch 25/100\n",
      "35/35 [==============================] - 4s 108ms/step - loss: 0.5253 - accuracy: 0.7986 - top-5-accuracy: 1.0000 - val_loss: 0.5172 - val_accuracy: 0.7886 - val_top-5-accuracy: 1.0000\n",
      "Epoch 26/100\n",
      "35/35 [==============================] - 4s 107ms/step - loss: 0.5020 - accuracy: 0.8109 - top-5-accuracy: 1.0000 - val_loss: 0.5817 - val_accuracy: 0.7967 - val_top-5-accuracy: 1.0000\n",
      "Epoch 27/100\n",
      "35/35 [==============================] - 5s 146ms/step - loss: 0.5168 - accuracy: 0.7982 - top-5-accuracy: 1.0000 - val_loss: 0.4571 - val_accuracy: 0.8293 - val_top-5-accuracy: 1.0000\n",
      "Epoch 28/100\n",
      "35/35 [==============================] - 4s 108ms/step - loss: 0.5007 - accuracy: 0.8095 - top-5-accuracy: 1.0000 - val_loss: 0.4647 - val_accuracy: 0.8049 - val_top-5-accuracy: 1.0000\n",
      "Epoch 29/100\n",
      "35/35 [==============================] - 4s 108ms/step - loss: 0.4737 - accuracy: 0.8154 - top-5-accuracy: 1.0000 - val_loss: 0.5055 - val_accuracy: 0.7846 - val_top-5-accuracy: 1.0000\n",
      "Epoch 30/100\n",
      "35/35 [==============================] - 4s 112ms/step - loss: 0.5131 - accuracy: 0.7973 - top-5-accuracy: 1.0000 - val_loss: 0.4555 - val_accuracy: 0.8130 - val_top-5-accuracy: 1.0000\n",
      "Epoch 31/100\n",
      "35/35 [==============================] - 4s 109ms/step - loss: 0.4684 - accuracy: 0.8168 - top-5-accuracy: 1.0000 - val_loss: 0.5010 - val_accuracy: 0.8089 - val_top-5-accuracy: 1.0000\n",
      "Epoch 32/100\n",
      "35/35 [==============================] - 5s 149ms/step - loss: 0.4673 - accuracy: 0.8259 - top-5-accuracy: 1.0000 - val_loss: 0.4546 - val_accuracy: 0.8496 - val_top-5-accuracy: 1.0000\n",
      "Epoch 33/100\n",
      "35/35 [==============================] - 4s 113ms/step - loss: 0.4815 - accuracy: 0.8127 - top-5-accuracy: 1.0000 - val_loss: 0.4444 - val_accuracy: 0.8374 - val_top-5-accuracy: 1.0000\n",
      "Epoch 34/100\n",
      "35/35 [==============================] - 5s 146ms/step - loss: 0.4236 - accuracy: 0.8390 - top-5-accuracy: 1.0000 - val_loss: 0.4045 - val_accuracy: 0.8537 - val_top-5-accuracy: 1.0000\n",
      "Epoch 35/100\n",
      "35/35 [==============================] - 4s 108ms/step - loss: 0.4082 - accuracy: 0.8408 - top-5-accuracy: 1.0000 - val_loss: 0.4293 - val_accuracy: 0.8049 - val_top-5-accuracy: 1.0000\n",
      "Epoch 36/100\n",
      "35/35 [==============================] - 4s 107ms/step - loss: 0.4419 - accuracy: 0.8299 - top-5-accuracy: 1.0000 - val_loss: 0.4136 - val_accuracy: 0.8374 - val_top-5-accuracy: 1.0000\n",
      "Epoch 37/100\n",
      "35/35 [==============================] - 4s 108ms/step - loss: 0.4083 - accuracy: 0.8435 - top-5-accuracy: 1.0000 - val_loss: 0.4173 - val_accuracy: 0.8374 - val_top-5-accuracy: 1.0000\n",
      "Epoch 38/100\n",
      "35/35 [==============================] - 5s 146ms/step - loss: 0.4072 - accuracy: 0.8463 - top-5-accuracy: 1.0000 - val_loss: 0.3486 - val_accuracy: 0.8780 - val_top-5-accuracy: 1.0000\n",
      "Epoch 39/100\n",
      "35/35 [==============================] - 4s 108ms/step - loss: 0.3787 - accuracy: 0.8617 - top-5-accuracy: 1.0000 - val_loss: 0.3901 - val_accuracy: 0.8496 - val_top-5-accuracy: 1.0000\n",
      "Epoch 40/100\n",
      "35/35 [==============================] - 4s 108ms/step - loss: 0.4046 - accuracy: 0.8431 - top-5-accuracy: 1.0000 - val_loss: 0.4082 - val_accuracy: 0.8455 - val_top-5-accuracy: 1.0000\n",
      "Epoch 41/100\n",
      "35/35 [==============================] - 4s 107ms/step - loss: 0.3954 - accuracy: 0.8571 - top-5-accuracy: 1.0000 - val_loss: 0.4647 - val_accuracy: 0.8252 - val_top-5-accuracy: 1.0000\n",
      "Epoch 42/100\n",
      "35/35 [==============================] - 4s 107ms/step - loss: 0.3766 - accuracy: 0.8458 - top-5-accuracy: 1.0000 - val_loss: 0.3912 - val_accuracy: 0.8455 - val_top-5-accuracy: 1.0000\n",
      "Epoch 43/100\n",
      "35/35 [==============================] - 4s 113ms/step - loss: 0.3547 - accuracy: 0.8680 - top-5-accuracy: 1.0000 - val_loss: 0.3651 - val_accuracy: 0.8537 - val_top-5-accuracy: 1.0000\n",
      "18/18 [==============================] - 0s 22ms/step - loss: 0.3456 - accuracy: 0.8663 - top-5-accuracy: 1.0000\n",
      "Test accuracy: 86.63%\n",
      "Test top 5 accuracy: 100.0%\n"
     ]
    }
   ],
   "source": [
    "vit_classifier = create_vit_classifier()\n",
    "history = run_experiment(vit_classifier)"
   ]
  },
  {
   "cell_type": "code",
   "execution_count": 15,
   "id": "f19d2ca6",
   "metadata": {
    "execution": {
     "iopub.execute_input": "2024-03-12T19:41:02.612682Z",
     "iopub.status.busy": "2024-03-12T19:41:02.612296Z",
     "iopub.status.idle": "2024-03-12T19:41:02.837826Z",
     "shell.execute_reply": "2024-03-12T19:41:02.836866Z"
    },
    "executionInfo": {
     "elapsed": 1322,
     "status": "ok",
     "timestamp": 1693841443269,
     "user": {
      "displayName": "SADIB HASSAN RUMMAN",
      "userId": "01508624673777496953"
     },
     "user_tz": -360
    },
    "id": "Vp6LQryXL-gP",
    "outputId": "9cef7708-56da-4f7a-cbf9-b044f1454688",
    "papermill": {
     "duration": 0.365319,
     "end_time": "2024-03-12T19:41:02.840244",
     "exception": false,
     "start_time": "2024-03-12T19:41:02.474925",
     "status": "completed"
    },
    "tags": []
   },
   "outputs": [
    {
     "data": {
      "text/plain": [
       "<matplotlib.legend.Legend at 0x7ae99fe6f490>"
      ]
     },
     "execution_count": 15,
     "metadata": {},
     "output_type": "execute_result"
    },
    {
     "data": {
      "image/png": "[encoded data removed]",
      "text/plain": [
       "<Figure size 640x480 with 1 Axes>"
      ]
     },
     "metadata": {},
     "output_type": "display_data"
    }
   ],
   "source": [
    "import matplotlib.pyplot as plt\n",
    "\n",
    "plt.plot(history.history['accuracy'], label='train_accuracy')\n",
    "plt.plot(history.history['val_accuracy'], label = 'validation_accuracy')\n",
    "plt.xlabel('Epoch')\n",
    "plt.ylabel('Accuracy')\n",
    "plt.ylim([0.1, 1.2])\n",
    "plt.legend(loc='lower right')"
   ]
  },
  {
   "cell_type": "code",
   "execution_count": 16,
   "id": "1bdde2df",
   "metadata": {
    "execution": {
     "iopub.execute_input": "2024-03-12T19:41:03.115434Z",
     "iopub.status.busy": "2024-03-12T19:41:03.115065Z",
     "iopub.status.idle": "2024-03-12T19:41:03.348402Z",
     "shell.execute_reply": "2024-03-12T19:41:03.347537Z"
    },
    "executionInfo": {
     "elapsed": 722,
     "status": "ok",
     "timestamp": 1693841750799,
     "user": {
      "displayName": "SADIB HASSAN RUMMAN",
      "userId": "01508624673777496953"
     },
     "user_tz": -360
    },
    "id": "2K_YD0xwLZs7",
    "outputId": "b0654341-cc87-4e04-fe88-19c9e2740130",
    "papermill": {
     "duration": 0.372406,
     "end_time": "2024-03-12T19:41:03.350525",
     "exception": false,
     "start_time": "2024-03-12T19:41:02.978119",
     "status": "completed"
    },
    "tags": []
   },
   "outputs": [
    {
     "data": {
      "text/plain": [
       "<matplotlib.legend.Legend at 0x7ae9b29c9f60>"
      ]
     },
     "execution_count": 16,
     "metadata": {},
     "output_type": "execute_result"
    },
    {
     "data": {
      "image/png": "[encoded data removed]",
      "text/plain": [
       "<Figure size 640x480 with 1 Axes>"
      ]
     },
     "metadata": {},
     "output_type": "display_data"
    }
   ],
   "source": [
    "plt.plot(history.history['loss'], label='train_loss')\n",
    "plt.plot(history.history['val_loss'], label = 'validation_loss')\n",
    "plt.xlabel('Epoch')\n",
    "plt.ylabel('Loss')\n",
    "plt.ylim([0, 0.8])\n",
    "plt.legend(loc='upper right')"
   ]
  },
  {
   "cell_type": "code",
   "execution_count": 17,
   "id": "c94b47e2",
   "metadata": {
    "execution": {
     "iopub.execute_input": "2024-03-12T19:41:03.627395Z",
     "iopub.status.busy": "2024-03-12T19:41:03.627034Z",
     "iopub.status.idle": "2024-03-12T19:41:05.308976Z",
     "shell.execute_reply": "2024-03-12T19:41:05.307964Z"
    },
    "executionInfo": {
     "elapsed": 3520,
     "status": "ok",
     "timestamp": 1693841446779,
     "user": {
      "displayName": "SADIB HASSAN RUMMAN",
      "userId": "01508624673777496953"
     },
     "user_tz": -360
    },
    "id": "vt4oUYw1LeSM",
    "outputId": "718ce6c5-6328-4f2c-8450-3c3fb9d613ba",
    "papermill": {
     "duration": 1.824196,
     "end_time": "2024-03-12T19:41:05.311005",
     "exception": false,
     "start_time": "2024-03-12T19:41:03.486809",
     "status": "completed"
    },
    "tags": []
   },
   "outputs": [
    {
     "name": "stdout",
     "output_type": "stream",
     "text": [
      "18/18 [==============================] - 1s 19ms/step\n"
     ]
    },
    {
     "data": {
      "image/png": "[encoded data removed]",
      "text/plain": [
       "<Figure size 1000x800 with 2 Axes>"
      ]
     },
     "metadata": {},
     "output_type": "display_data"
    }
   ],
   "source": [
    "import numpy as np\n",
    "import matplotlib.pyplot as plt\n",
    "from sklearn.metrics import confusion_matrix\n",
    "import seaborn as sns\n",
    "\n",
    "y_pred = vit_classifier.predict(x_test)\n",
    "y_pred_classes = np.argmax(y_pred, axis=1)\n",
    "confusion_mtx = confusion_matrix(y_test, y_pred_classes)\n",
    "\n",
    "def plot_confusion_matrix(confusion_mtx, labels):\n",
    "    plt.figure(figsize=(10, 8))\n",
    "    sns.heatmap(\n",
    "        confusion_mtx,\n",
    "        annot=True,\n",
    "        fmt=\"d\",\n",
    "        cmap=\"Purples\",\n",
    "        xticklabels=labels,\n",
    "        yticklabels=labels,\n",
    "    )\n",
    "    plt.xlabel(\"Predicted Labels\")\n",
    "    plt.ylabel(\"True Labels\")\n",
    "    plt.title(\"Confusion Matrix\")\n",
    "    plt.show()\n",
    "\n",
    "# Define your class labels (replace this with your actual class labels)\n",
    "class_labels = ['glioma_tumor', 'meningioma_tumor', 'no_tumor', 'pituitary_tumor']\n",
    "\n",
    "# Plot the confusion matrix heatmap\n",
    "plot_confusion_matrix(confusion_mtx, class_labels)"
   ]
  },
  {
   "cell_type": "code",
   "execution_count": 18,
   "id": "0a54ae4b",
   "metadata": {
    "execution": {
     "iopub.execute_input": "2024-03-12T19:41:05.601034Z",
     "iopub.status.busy": "2024-03-12T19:41:05.600674Z",
     "iopub.status.idle": "2024-03-12T19:41:05.617685Z",
     "shell.execute_reply": "2024-03-12T19:41:05.616408Z"
    },
    "executionInfo": {
     "elapsed": 15,
     "status": "ok",
     "timestamp": 1693841446780,
     "user": {
      "displayName": "SADIB HASSAN RUMMAN",
      "userId": "01508624673777496953"
     },
     "user_tz": -360
    },
    "id": "ds9MUDzmq_pc",
    "outputId": "aadf781a-481b-4c69-dbb1-f2ce69b23632",
    "papermill": {
     "duration": 0.164032,
     "end_time": "2024-03-12T19:41:05.619836",
     "exception": false,
     "start_time": "2024-03-12T19:41:05.455804",
     "status": "completed"
    },
    "tags": []
   },
   "outputs": [
    {
     "name": "stdout",
     "output_type": "stream",
     "text": [
      "                  precision    recall  f1-score   support\n",
      "\n",
      "    glioma_tumor       0.87      0.80      0.83       188\n",
      "meningioma_tumor       0.81      0.81      0.81       172\n",
      "        no_tumor       0.88      0.95      0.91        59\n",
      " pituitary_tumor       0.92      0.97      0.94       157\n",
      "\n",
      "        accuracy                           0.87       576\n",
      "       macro avg       0.87      0.88      0.88       576\n",
      "    weighted avg       0.87      0.87      0.87       576\n",
      "\n"
     ]
    }
   ],
   "source": [
    "from sklearn.metrics import classification_report\n",
    "\n",
    "# After evaluating your model and calculating y_pred_classes\n",
    "classification_rep = classification_report(y_test, y_pred_classes, target_names=class_labels)\n",
    "\n",
    "# Print the classification report\n",
    "print(classification_rep)"
   ]
  }
 ],
 "metadata": {
  "accelerator": "GPU",
  "colab": {
   "gpuType": "T4",
   "provenance": []
  },
  "kaggle": {
   "accelerator": "nvidiaTeslaT4",
   "dataSources": [
    {
     "sourceId": 165653935,
     "sourceType": "kernelVersion"
    }
   ],
   "dockerImageVersionId": 30648,
   "isGpuEnabled": true,
   "isInternetEnabled": true,
   "language": "python",
   "sourceType": "notebook"
  },
  "kernelspec": {
   "display_name": "Python 3",
   "language": "python",
   "name": "python3"
  },
  "language_info": {
   "codemirror_mode": {
    "name": "ipython",
    "version": 3
   },
   "file_extension": ".py",
   "mimetype": "text/x-python",
   "name": "python",
   "nbconvert_exporter": "python",
   "pygments_lexer": "ipython3",
   "version": "3.10.13"
  },
  "papermill": {
   "default_parameters": {},
   "duration": 276.485527,
   "end_time": "2024-03-12T19:41:09.444033",
   "environment_variables": {},
   "exception": null,
   "input_path": "__notebook__.ipynb",
   "output_path": "__notebook__.ipynb",
   "parameters": {},
   "start_time": "2024-03-12T19:36:32.958506",
   "version": "2.5.0"
  }
 },
 "nbformat": 4,
 "nbformat_minor": 5
}

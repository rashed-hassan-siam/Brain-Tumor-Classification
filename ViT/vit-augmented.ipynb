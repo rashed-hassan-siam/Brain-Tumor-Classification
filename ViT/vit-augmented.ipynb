{
 "cells": [
  {
   "cell_type": "code",
   "execution_count": 1,
   "id": "3afbd969",
   "metadata": {
    "execution": {
     "iopub.execute_input": "2024-03-12T19:47:23.593993Z",
     "iopub.status.busy": "2024-03-12T19:47:23.593648Z",
     "iopub.status.idle": "2024-03-12T19:47:46.900682Z",
     "shell.execute_reply": "2024-03-12T19:47:46.899598Z"
    },
    "executionInfo": {
     "elapsed": 2746,
     "status": "ok",
     "timestamp": 1693839150844,
     "user": {
      "displayName": "SADIB HASSAN RUMMAN",
      "userId": "01508624673777496953"
     },
     "user_tz": -360
    },
    "id": "C2C0y1H8_IxD",
    "papermill": {
     "duration": 23.317168,
     "end_time": "2024-03-12T19:47:46.903096",
     "exception": false,
     "start_time": "2024-03-12T19:47:23.585928",
     "status": "completed"
    },
    "tags": []
   },
   "outputs": [
    {
     "name": "stderr",
     "output_type": "stream",
     "text": [
      "2024-03-12 19:47:30.863057: E external/local_xla/xla/stream_executor/cuda/cuda_dnn.cc:9261] Unable to register cuDNN factory: Attempting to register factory for plugin cuDNN when one has already been registered\n",
      "2024-03-12 19:47:30.863188: E external/local_xla/xla/stream_executor/cuda/cuda_fft.cc:607] Unable to register cuFFT factory: Attempting to register factory for plugin cuFFT when one has already been registered\n",
      "2024-03-12 19:47:31.151625: E external/local_xla/xla/stream_executor/cuda/cuda_blas.cc:1515] Unable to register cuBLAS factory: Attempting to register factory for plugin cuBLAS when one has already been registered\n"
     ]
    }
   ],
   "source": [
    "import os\n",
    "import cv2\n",
    "import pickle\n",
    "import numpy as np\n",
    "import pandas as pd\n",
    "import seaborn as sns\n",
    "import matplotlib.pyplot as plt\n",
    "import matplotlib.image as mpimg\n",
    "\n",
    "import keras\n",
    "import tensorflow\n",
    "\n",
    "from tensorflow.keras.models import Model\n",
    "from tensorflow.keras.utils import plot_model\n",
    "from tensorflow.keras.models import Sequential\n",
    "from tensorflow.keras.applications import VGG19\n",
    "from tensorflow.keras.callbacks import EarlyStopping\n",
    "from tensorflow.keras.preprocessing.image import ImageDataGenerator\n",
    "from tensorflow.keras.layers import Input, Lambda, Dense, Flatten, Dropout, BatchNormalization, Activation\n",
    "\n",
    "from sklearn.metrics import confusion_matrix, classification_report, accuracy_score, recall_score, precision_score, f1_score\n",
    "\n",
    "from sklearn.model_selection import train_test_split"
   ]
  },
  {
   "cell_type": "code",
   "execution_count": 2,
   "id": "820e1a70",
   "metadata": {
    "execution": {
     "iopub.execute_input": "2024-03-12T19:47:46.917784Z",
     "iopub.status.busy": "2024-03-12T19:47:46.917272Z",
     "iopub.status.idle": "2024-03-12T19:48:02.669979Z",
     "shell.execute_reply": "2024-03-12T19:48:02.668771Z"
    },
    "executionInfo": {
     "elapsed": 4972,
     "status": "ok",
     "timestamp": 1693839155811,
     "user": {
      "displayName": "SADIB HASSAN RUMMAN",
      "userId": "01508624673777496953"
     },
     "user_tz": -360
    },
    "id": "Nxzix206-UFU",
    "outputId": "7726c22a-ce97-41ea-e0c0-b7d50c79ef54",
    "papermill": {
     "duration": 15.762927,
     "end_time": "2024-03-12T19:48:02.672683",
     "exception": false,
     "start_time": "2024-03-12T19:47:46.909756",
     "status": "completed"
    },
    "tags": []
   },
   "outputs": [
    {
     "name": "stdout",
     "output_type": "stream",
     "text": [
      "Collecting tensorflow-addons\r\n",
      "  Downloading tensorflow_addons-0.23.0-cp310-cp310-manylinux_2_17_x86_64.manylinux2014_x86_64.whl.metadata (1.8 kB)\r\n",
      "Requirement already satisfied: packaging in /opt/conda/lib/python3.10/site-packages (from tensorflow-addons) (21.3)\r\n",
      "Collecting typeguard<3.0.0,>=2.7 (from tensorflow-addons)\r\n",
      "  Downloading typeguard-2.13.3-py3-none-any.whl.metadata (3.6 kB)\r\n",
      "Requirement already satisfied: pyparsing!=3.0.5,>=2.0.2 in /opt/conda/lib/python3.10/site-packages (from packaging->tensorflow-addons) (3.1.1)\r\n",
      "Downloading tensorflow_addons-0.23.0-cp310-cp310-manylinux_2_17_x86_64.manylinux2014_x86_64.whl (611 kB)\r\n",
      "\u001b[2K   \u001b[90m━━━━━━━━━━━━━━━━━━━━━━━━━━━━━━━━━━━━━━━━\u001b[0m \u001b[32m611.8/611.8 kB\u001b[0m \u001b[31m3.9 MB/s\u001b[0m eta \u001b[36m0:00:00\u001b[0m\r\n",
      "\u001b[?25hDownloading typeguard-2.13.3-py3-none-any.whl (17 kB)\r\n",
      "Installing collected packages: typeguard, tensorflow-addons\r\n",
      "  Attempting uninstall: typeguard\r\n",
      "    Found existing installation: typeguard 4.1.5\r\n",
      "    Uninstalling typeguard-4.1.5:\r\n",
      "      Successfully uninstalled typeguard-4.1.5\r\n",
      "\u001b[31mERROR: pip's dependency resolver does not currently take into account all the packages that are installed. This behaviour is the source of the following dependency conflicts.\r\n",
      "ydata-profiling 4.6.4 requires typeguard<5,>=4.1.2, but you have typeguard 2.13.3 which is incompatible.\u001b[0m\u001b[31m\r\n",
      "\u001b[0mSuccessfully installed tensorflow-addons-0.23.0 typeguard-2.13.3\r\n"
     ]
    }
   ],
   "source": [
    "!pip install -U tensorflow-addons"
   ]
  },
  {
   "cell_type": "code",
   "execution_count": 3,
   "id": "b9181f2a",
   "metadata": {
    "execution": {
     "iopub.execute_input": "2024-03-12T19:48:02.689469Z",
     "iopub.status.busy": "2024-03-12T19:48:02.689135Z",
     "iopub.status.idle": "2024-03-12T19:48:02.694969Z",
     "shell.execute_reply": "2024-03-12T19:48:02.694004Z"
    },
    "executionInfo": {
     "elapsed": 11,
     "status": "ok",
     "timestamp": 1693839155811,
     "user": {
      "displayName": "SADIB HASSAN RUMMAN",
      "userId": "01508624673777496953"
     },
     "user_tz": -360
    },
    "id": "oEpwz3gK-ez1",
    "outputId": "c0c40a0a-6ada-4826-a08e-792353becbb7",
    "papermill": {
     "duration": 0.016562,
     "end_time": "2024-03-12T19:48:02.697000",
     "exception": false,
     "start_time": "2024-03-12T19:48:02.680438",
     "status": "completed"
    },
    "tags": []
   },
   "outputs": [
    {
     "name": "stdout",
     "output_type": "stream",
     "text": [
      "2.15.0\n"
     ]
    }
   ],
   "source": [
    "import tensorflow as tf\n",
    "tf.random.set_seed(42)\n",
    "print(tf.__version__)"
   ]
  },
  {
   "cell_type": "code",
   "execution_count": 4,
   "id": "cb9ad7e7",
   "metadata": {
    "execution": {
     "iopub.execute_input": "2024-03-12T19:48:02.713469Z",
     "iopub.status.busy": "2024-03-12T19:48:02.713194Z",
     "iopub.status.idle": "2024-03-12T19:48:02.775363Z",
     "shell.execute_reply": "2024-03-12T19:48:02.774318Z"
    },
    "executionInfo": {
     "elapsed": 8,
     "status": "ok",
     "timestamp": 1693839155811,
     "user": {
      "displayName": "SADIB HASSAN RUMMAN",
      "userId": "01508624673777496953"
     },
     "user_tz": -360
    },
    "id": "JzDqW3p1-hLF",
    "outputId": "d7b5d059-ea26-43c8-a231-5d3aec097e6d",
    "papermill": {
     "duration": 0.072533,
     "end_time": "2024-03-12T19:48:02.777361",
     "exception": false,
     "start_time": "2024-03-12T19:48:02.704828",
     "status": "completed"
    },
    "tags": []
   },
   "outputs": [
    {
     "name": "stderr",
     "output_type": "stream",
     "text": [
      "/opt/conda/lib/python3.10/site-packages/tensorflow_addons/utils/tfa_eol_msg.py:23: UserWarning: \n",
      "\n",
      "TensorFlow Addons (TFA) has ended development and introduction of new features.\n",
      "TFA has entered a minimal maintenance and release mode until a planned end of life in May 2024.\n",
      "Please modify downstream libraries to take dependencies from other repositories in our TensorFlow community (e.g. Keras, Keras-CV, and Keras-NLP). \n",
      "\n",
      "For more information see: https://github.com/tensorflow/addons/issues/2807 \n",
      "\n",
      "  warnings.warn(\n"
     ]
    }
   ],
   "source": [
    "from tensorflow import keras\n",
    "from tensorflow.keras import layers\n",
    "import tensorflow_addons as tfa\n",
    "\n",
    "import numpy as np\n",
    "np.random.seed(42)"
   ]
  },
  {
   "cell_type": "code",
   "execution_count": 5,
   "id": "01966f4a",
   "metadata": {
    "execution": {
     "iopub.execute_input": "2024-03-12T19:48:02.794415Z",
     "iopub.status.busy": "2024-03-12T19:48:02.793608Z",
     "iopub.status.idle": "2024-03-12T19:52:32.958901Z",
     "shell.execute_reply": "2024-03-12T19:52:32.957890Z"
    },
    "executionInfo": {
     "elapsed": 1142418,
     "status": "ok",
     "timestamp": 1693840298223,
     "user": {
      "displayName": "SADIB HASSAN RUMMAN",
      "userId": "01508624673777496953"
     },
     "user_tz": -360
    },
    "id": "VptujPjQ-jiN",
    "outputId": "ea5dc80e-cc63-46d7-d6f8-2866dd348d26",
    "papermill": {
     "duration": 270.176255,
     "end_time": "2024-03-12T19:52:32.961486",
     "exception": false,
     "start_time": "2024-03-12T19:48:02.785231",
     "status": "completed"
    },
    "scrolled": true,
    "tags": []
   },
   "outputs": [
    {
     "name": "stdout",
     "output_type": "stream",
     "text": [
      "/kaggle/input/eccv-brain-mri-augmentation-manual/augmented_dataset/glioma_tumor\n",
      "0\n",
      "/kaggle/input/eccv-brain-mri-augmentation-manual/augmented_dataset/meningioma_tumor\n",
      "1\n",
      "/kaggle/input/eccv-brain-mri-augmentation-manual/augmented_dataset/no_tumor\n",
      "2\n",
      "/kaggle/input/eccv-brain-mri-augmentation-manual/augmented_dataset/pituitary_tumor\n",
      "3\n"
     ]
    }
   ],
   "source": [
    "dir = \"/kaggle/input/eccv-brain-mri-augmentation-manual/augmented_dataset/\"\n",
    "\n",
    "tk_categories = ['glioma_tumor','meningioma_tumor','no_tumor','pituitary_tumor']\n",
    "\n",
    "data = []\n",
    "for c in tk_categories:\n",
    "  folder = os.path.join(dir,c)\n",
    "  label = tk_categories.index(c)\n",
    "  print(folder)\n",
    "  print(label)\n",
    "  for img in os.listdir(folder):\n",
    "    image = os.path.join(folder,img)\n",
    "    img_arr = cv2.imread(image)\n",
    "    img_arr = cv2.resize(img_arr,(72,72))\n",
    "    data.append([img_arr,label])\n",
    "\n",
    "x = []\n",
    "y = []\n",
    "for feature,label in data:\n",
    "  x.append(feature)\n",
    "  y.append(label)\n",
    "\n",
    "x = np.array(x)\n",
    "y = np.array(y)\n",
    "\n",
    "x_train,x_test, y_train,y_test = train_test_split(x,y,test_size=0.19)"
   ]
  },
  {
   "cell_type": "code",
   "execution_count": 6,
   "id": "6408aba8",
   "metadata": {
    "execution": {
     "iopub.execute_input": "2024-03-12T19:52:32.979718Z",
     "iopub.status.busy": "2024-03-12T19:52:32.979392Z",
     "iopub.status.idle": "2024-03-12T19:52:32.984952Z",
     "shell.execute_reply": "2024-03-12T19:52:32.984060Z"
    },
    "executionInfo": {
     "elapsed": 8,
     "status": "ok",
     "timestamp": 1693840298224,
     "user": {
      "displayName": "SADIB HASSAN RUMMAN",
      "userId": "01508624673777496953"
     },
     "user_tz": -360
    },
    "id": "CmXY3kAM_Srk",
    "papermill": {
     "duration": 0.016908,
     "end_time": "2024-03-12T19:52:32.986884",
     "exception": false,
     "start_time": "2024-03-12T19:52:32.969976",
     "status": "completed"
    },
    "tags": []
   },
   "outputs": [],
   "source": [
    "learning_rate = 0.001\n",
    "weight_decay = 0.0001\n",
    "batch_size = 64\n",
    "num_epochs = 100\n",
    "image_size = 72  # Final Image Size\n",
    "patch_size = 6  # Patch Dimension\n",
    "num_patches = (image_size // patch_size) ** 2\n",
    "projection_dim = 64\n",
    "num_heads = 4\n",
    "transformer_units = [\n",
    "    projection_dim * 2,\n",
    "    projection_dim,\n",
    "]  # Size of the transformer layers\n",
    "transformer_layers = 8\n",
    "mlp_head_units = [2048, 1024]  # Size of the dense layers"
   ]
  },
  {
   "cell_type": "code",
   "execution_count": 7,
   "id": "0fb4881c",
   "metadata": {
    "execution": {
     "iopub.execute_input": "2024-03-12T19:52:33.003753Z",
     "iopub.status.busy": "2024-03-12T19:52:33.003500Z",
     "iopub.status.idle": "2024-03-12T19:52:37.455570Z",
     "shell.execute_reply": "2024-03-12T19:52:37.454711Z"
    },
    "executionInfo": {
     "elapsed": 5521,
     "status": "ok",
     "timestamp": 1693840303737,
     "user": {
      "displayName": "SADIB HASSAN RUMMAN",
      "userId": "01508624673777496953"
     },
     "user_tz": -360
    },
    "id": "mKDgRN2m_ktf",
    "papermill": {
     "duration": 4.463056,
     "end_time": "2024-03-12T19:52:37.457869",
     "exception": false,
     "start_time": "2024-03-12T19:52:32.994813",
     "status": "completed"
    },
    "tags": []
   },
   "outputs": [],
   "source": [
    "data_augmentation = keras.Sequential(\n",
    "    [\n",
    "        layers.experimental.preprocessing.Normalization(),\n",
    "        layers.experimental.preprocessing.Resizing(image_size, image_size),\n",
    "        layers.experimental.preprocessing.RandomFlip(\"horizontal\"),\n",
    "        layers.experimental.preprocessing.RandomRotation(factor=0.02),\n",
    "        layers.experimental.preprocessing.RandomZoom(\n",
    "            height_factor=0.2, width_factor=0.2\n",
    "        ),\n",
    "    ],\n",
    "    name=\"data_augmentation\",\n",
    ")\n",
    "# Compute the mean and the variance of the training data for normalization.\n",
    "data_augmentation.layers[0].adapt(x_train)"
   ]
  },
  {
   "cell_type": "code",
   "execution_count": 8,
   "id": "4198945a",
   "metadata": {
    "execution": {
     "iopub.execute_input": "2024-03-12T19:52:37.475866Z",
     "iopub.status.busy": "2024-03-12T19:52:37.475185Z",
     "iopub.status.idle": "2024-03-12T19:52:37.479995Z",
     "shell.execute_reply": "2024-03-12T19:52:37.479158Z"
    },
    "executionInfo": {
     "elapsed": 10,
     "status": "ok",
     "timestamp": 1693840303738,
     "user": {
      "displayName": "SADIB HASSAN RUMMAN",
      "userId": "01508624673777496953"
     },
     "user_tz": -360
    },
    "id": "Kl8scisb_rYA",
    "papermill": {
     "duration": 0.015503,
     "end_time": "2024-03-12T19:52:37.481828",
     "exception": false,
     "start_time": "2024-03-12T19:52:37.466325",
     "status": "completed"
    },
    "tags": []
   },
   "outputs": [],
   "source": [
    "def multilayer_perceptron(x, hidden_units, dropout_rate):\n",
    "    for units in hidden_units:\n",
    "        x = layers.Dense(units, activation=tf.nn.gelu)(x)\n",
    "        x = layers.Dropout(dropout_rate)(x)\n",
    "    return x"
   ]
  },
  {
   "cell_type": "code",
   "execution_count": 9,
   "id": "e345e0a4",
   "metadata": {
    "execution": {
     "iopub.execute_input": "2024-03-12T19:52:37.498727Z",
     "iopub.status.busy": "2024-03-12T19:52:37.498483Z",
     "iopub.status.idle": "2024-03-12T19:52:37.504983Z",
     "shell.execute_reply": "2024-03-12T19:52:37.504158Z"
    },
    "executionInfo": {
     "elapsed": 9,
     "status": "ok",
     "timestamp": 1693840303738,
     "user": {
      "displayName": "SADIB HASSAN RUMMAN",
      "userId": "01508624673777496953"
     },
     "user_tz": -360
    },
    "id": "vXyUXs9A_u3Q",
    "papermill": {
     "duration": 0.017135,
     "end_time": "2024-03-12T19:52:37.506918",
     "exception": false,
     "start_time": "2024-03-12T19:52:37.489783",
     "status": "completed"
    },
    "tags": []
   },
   "outputs": [],
   "source": [
    "class Patches(layers.Layer):\n",
    "    def __init__(self, patch_size):\n",
    "        super(Patches, self).__init__()\n",
    "        self.patch_size = patch_size\n",
    "\n",
    "    def call(self, images):\n",
    "        batch_size = tf.shape(images)[0]\n",
    "        patches = tf.image.extract_patches(\n",
    "            images=images,\n",
    "            sizes=[1, self.patch_size, self.patch_size, 1],\n",
    "            strides=[1, self.patch_size, self.patch_size, 1],\n",
    "            rates=[1, 1, 1, 1],\n",
    "            padding=\"VALID\",\n",
    "        )\n",
    "        patch_dims = patches.shape[-1]\n",
    "        patches = tf.reshape(patches, [batch_size, -1, patch_dims])\n",
    "        return patches"
   ]
  },
  {
   "cell_type": "code",
   "execution_count": 10,
   "id": "61aa363e",
   "metadata": {
    "execution": {
     "iopub.execute_input": "2024-03-12T19:52:37.525206Z",
     "iopub.status.busy": "2024-03-12T19:52:37.524932Z",
     "iopub.status.idle": "2024-03-12T19:52:41.864988Z",
     "shell.execute_reply": "2024-03-12T19:52:41.864007Z"
    },
    "executionInfo": {
     "elapsed": 5643,
     "status": "ok",
     "timestamp": 1693840309373,
     "user": {
      "displayName": "SADIB HASSAN RUMMAN",
      "userId": "01508624673777496953"
     },
     "user_tz": -360
    },
    "id": "9BUcm_Jc_zFB",
    "outputId": "3ea6d1e6-da74-485e-cb3f-0bef90301045",
    "papermill": {
     "duration": 4.351065,
     "end_time": "2024-03-12T19:52:41.867108",
     "exception": false,
     "start_time": "2024-03-12T19:52:37.516043",
     "status": "completed"
    },
    "tags": []
   },
   "outputs": [
    {
     "name": "stdout",
     "output_type": "stream",
     "text": [
      "Image size: 72 X 72\n",
      "Patch size: 6 X 6\n",
      "Patches per image: 144\n",
      "Elements per patch: 108\n"
     ]
    },
    {
     "data": {
      "image/png": "[encoded data removed]",
      "text/plain": [
       "<Figure size 400x400 with 1 Axes>"
      ]
     },
     "metadata": {},
     "output_type": "display_data"
    },
    {
     "data": {
      "image/png": "[encoded data removed]",
      "text/plain": [
       "<Figure size 400x400 with 144 Axes>"
      ]
     },
     "metadata": {},
     "output_type": "display_data"
    }
   ],
   "source": [
    "import matplotlib.pyplot as plt\n",
    "\n",
    "plt.figure(figsize=(4, 4))\n",
    "image = x_train[np.random.choice(range(x_train.shape[0]))]\n",
    "plt.imshow(image.astype(\"uint8\"))\n",
    "plt.axis(\"off\")\n",
    "\n",
    "resized_image = tf.image.resize(\n",
    "    tf.convert_to_tensor([image]), size=(image_size, image_size)\n",
    ")\n",
    "patches = Patches(patch_size)(resized_image)\n",
    "print(f\"Image size: {image_size} X {image_size}\")\n",
    "print(f\"Patch size: {patch_size} X {patch_size}\")\n",
    "print(f\"Patches per image: {patches.shape[1]}\")\n",
    "print(f\"Elements per patch: {patches.shape[-1]}\")\n",
    "\n",
    "n = int(np.sqrt(patches.shape[1]))\n",
    "plt.figure(figsize=(4, 4))\n",
    "for i, patch in enumerate(patches[0]):\n",
    "    ax = plt.subplot(n, n, i + 1)\n",
    "    patch_img = tf.reshape(patch, (patch_size, patch_size, 3))\n",
    "    plt.imshow(patch_img.numpy().astype(\"uint8\"))\n",
    "    plt.axis(\"off\")"
   ]
  },
  {
   "cell_type": "code",
   "execution_count": 11,
   "id": "9ee0d85a",
   "metadata": {
    "execution": {
     "iopub.execute_input": "2024-03-12T19:52:41.886551Z",
     "iopub.status.busy": "2024-03-12T19:52:41.885992Z",
     "iopub.status.idle": "2024-03-12T19:52:41.892127Z",
     "shell.execute_reply": "2024-03-12T19:52:41.891258Z"
    },
    "executionInfo": {
     "elapsed": 4,
     "status": "ok",
     "timestamp": 1693840309373,
     "user": {
      "displayName": "SADIB HASSAN RUMMAN",
      "userId": "01508624673777496953"
     },
     "user_tz": -360
    },
    "id": "UZWk8DIF_5gS",
    "papermill": {
     "duration": 0.017785,
     "end_time": "2024-03-12T19:52:41.894009",
     "exception": false,
     "start_time": "2024-03-12T19:52:41.876224",
     "status": "completed"
    },
    "tags": []
   },
   "outputs": [],
   "source": [
    "class PatchEncoder(layers.Layer):\n",
    "    def __init__(self, num_patches, projection_dim):\n",
    "        super(PatchEncoder, self).__init__()\n",
    "        self.num_patches = num_patches\n",
    "        self.projection = layers.Dense(units=projection_dim)\n",
    "        self.position_embedding = layers.Embedding(\n",
    "            input_dim=num_patches, output_dim=projection_dim\n",
    "        )\n",
    "\n",
    "    def call(self, patch):\n",
    "        positions = tf.range(start=0, limit=self.num_patches, delta=1)\n",
    "        encoded = self.projection(patch) + self.position_embedding(positions)\n",
    "        return encoded"
   ]
  },
  {
   "cell_type": "code",
   "execution_count": 12,
   "id": "69edda7e",
   "metadata": {
    "execution": {
     "iopub.execute_input": "2024-03-12T19:52:41.913473Z",
     "iopub.status.busy": "2024-03-12T19:52:41.913190Z",
     "iopub.status.idle": "2024-03-12T19:52:41.921874Z",
     "shell.execute_reply": "2024-03-12T19:52:41.920994Z"
    },
    "executionInfo": {
     "elapsed": 830,
     "status": "ok",
     "timestamp": 1693840310200,
     "user": {
      "displayName": "SADIB HASSAN RUMMAN",
      "userId": "01508624673777496953"
     },
     "user_tz": -360
    },
    "id": "lUOqSzaYAAXb",
    "papermill": {
     "duration": 0.020274,
     "end_time": "2024-03-12T19:52:41.923847",
     "exception": false,
     "start_time": "2024-03-12T19:52:41.903573",
     "status": "completed"
    },
    "tags": []
   },
   "outputs": [],
   "source": [
    "def create_vit_classifier():\n",
    "    inputs = layers.Input((72,72,3))\n",
    "\n",
    "    augmented = data_augmentation(inputs)\n",
    "\n",
    "    patches = Patches(patch_size)(augmented)\n",
    "\n",
    "    encoded_patches = PatchEncoder(num_patches, projection_dim)(patches)\n",
    "\n",
    "\n",
    "    for _ in range(transformer_layers):\n",
    "\n",
    "        x1 = layers.LayerNormalization(epsilon=1e-6)(encoded_patches)\n",
    "\n",
    "        attention_output = layers.MultiHeadAttention(\n",
    "            num_heads=num_heads, key_dim=projection_dim, dropout=0.1\n",
    "        )(x1, x1)\n",
    "\n",
    "        x2 = layers.Add()([attention_output, encoded_patches])\n",
    "\n",
    "        x3 = layers.LayerNormalization(epsilon=1e-6)(x2)\n",
    "\n",
    "        x3 = multilayer_perceptron(x3, hidden_units=transformer_units, dropout_rate=0.1)\n",
    "\n",
    "        encoded_patches = layers.Add()([x3, x2])\n",
    "\n",
    "    representation = layers.LayerNormalization(epsilon=1e-6)(encoded_patches)\n",
    "    representation = layers.Flatten()(representation)\n",
    "    representation = layers.Dropout(0.5)(representation)\n",
    "\n",
    "    features = multilayer_perceptron(representation, hidden_units=mlp_head_units, dropout_rate=0.5)\n",
    "\n",
    "    logits = layers.Dense(4)(features)\n",
    "\n",
    "    model = keras.Model(inputs=inputs, outputs=logits)\n",
    "    return model"
   ]
  },
  {
   "cell_type": "code",
   "execution_count": 13,
   "id": "f3b853bb",
   "metadata": {
    "execution": {
     "iopub.execute_input": "2024-03-12T19:52:41.943039Z",
     "iopub.status.busy": "2024-03-12T19:52:41.942765Z",
     "iopub.status.idle": "2024-03-12T19:52:41.950584Z",
     "shell.execute_reply": "2024-03-12T19:52:41.949721Z"
    },
    "executionInfo": {
     "elapsed": 5,
     "status": "ok",
     "timestamp": 1693840310200,
     "user": {
      "displayName": "SADIB HASSAN RUMMAN",
      "userId": "01508624673777496953"
     },
     "user_tz": -360
    },
    "id": "PrmJtC-gAFKU",
    "papermill": {
     "duration": 0.019345,
     "end_time": "2024-03-12T19:52:41.952448",
     "exception": false,
     "start_time": "2024-03-12T19:52:41.933103",
     "status": "completed"
    },
    "tags": []
   },
   "outputs": [],
   "source": [
    "def run_experiment(model):\n",
    "    optimizer = tfa.optimizers.AdamW(\n",
    "        learning_rate=learning_rate, weight_decay=weight_decay\n",
    "    )\n",
    "\n",
    "    model.compile(\n",
    "        optimizer=optimizer,\n",
    "        loss=keras.losses.SparseCategoricalCrossentropy(from_logits=True),\n",
    "        metrics=[\n",
    "            keras.metrics.SparseCategoricalAccuracy(name=\"accuracy\"),\n",
    "            keras.metrics.SparseTopKCategoricalAccuracy(5, name=\"top-5-accuracy\"),\n",
    "        ],\n",
    "    )\n",
    "\n",
    "    checkpoint_filepath = \"/tmp/checkpoint\"\n",
    "    checkpoint_callback = keras.callbacks.ModelCheckpoint(\n",
    "        checkpoint_filepath,\n",
    "        monitor=\"val_accuracy\",\n",
    "        save_best_only=True,\n",
    "        save_weights_only=True,\n",
    "    )\n",
    "    \n",
    "    earlystopping = EarlyStopping(monitor=\"val_loss\",\n",
    "                                        mode=\"min\", patience=5,\n",
    "                                        restore_best_weights=True)\n",
    "\n",
    "    history = model.fit(\n",
    "        x=x_train,\n",
    "        y=y_train,\n",
    "        batch_size=batch_size,\n",
    "        epochs=num_epochs,\n",
    "        validation_split=0.1,\n",
    "        callbacks=[checkpoint_callback, earlystopping]\n",
    "    )\n",
    "\n",
    "    model.load_weights(checkpoint_filepath)\n",
    "    _, accuracy, top_5_accuracy = model.evaluate(x_test, y_test)\n",
    "    print(f\"Test accuracy: {round(accuracy * 100, 2)}%\")\n",
    "    print(f\"Test top 5 accuracy: {round(top_5_accuracy * 100, 2)}%\")\n",
    "\n",
    "    return history"
   ]
  },
  {
   "cell_type": "code",
   "execution_count": 14,
   "id": "f61e77fd",
   "metadata": {
    "execution": {
     "iopub.execute_input": "2024-03-12T19:52:41.971369Z",
     "iopub.status.busy": "2024-03-12T19:52:41.971089Z",
     "iopub.status.idle": "2024-03-12T20:20:05.629778Z",
     "shell.execute_reply": "2024-03-12T20:20:05.628841Z"
    },
    "executionInfo": {
     "elapsed": 1131761,
     "status": "ok",
     "timestamp": 1693841441957,
     "user": {
      "displayName": "SADIB HASSAN RUMMAN",
      "userId": "01508624673777496953"
     },
     "user_tz": -360
    },
    "id": "wlEJPgCgAGf0",
    "outputId": "956d8509-9b18-4004-8a18-7a3f3705ea23",
    "papermill": {
     "duration": 1643.670227,
     "end_time": "2024-03-12T20:20:05.631651",
     "exception": false,
     "start_time": "2024-03-12T19:52:41.961424",
     "status": "completed"
    },
    "scrolled": true,
    "tags": []
   },
   "outputs": [
    {
     "name": "stdout",
     "output_type": "stream",
     "text": [
      "Epoch 1/100\n",
      "311/311 [==============================] - 47s 108ms/step - loss: 1.5387 - accuracy: 0.4244 - top-5-accuracy: 1.0000 - val_loss: 1.1206 - val_accuracy: 0.5378 - val_top-5-accuracy: 1.0000\n",
      "Epoch 2/100\n",
      "311/311 [==============================] - 33s 105ms/step - loss: 1.0712 - accuracy: 0.5177 - top-5-accuracy: 1.0000 - val_loss: 0.8854 - val_accuracy: 0.6230 - val_top-5-accuracy: 1.0000\n",
      "Epoch 3/100\n",
      "311/311 [==============================] - 33s 107ms/step - loss: 0.9253 - accuracy: 0.5976 - top-5-accuracy: 1.0000 - val_loss: 0.7291 - val_accuracy: 0.6914 - val_top-5-accuracy: 1.0000\n",
      "Epoch 4/100\n",
      "311/311 [==============================] - 34s 110ms/step - loss: 0.8220 - accuracy: 0.6558 - top-5-accuracy: 1.0000 - val_loss: 0.7080 - val_accuracy: 0.6928 - val_top-5-accuracy: 1.0000\n",
      "Epoch 5/100\n",
      "311/311 [==============================] - 34s 109ms/step - loss: 0.7499 - accuracy: 0.6937 - top-5-accuracy: 1.0000 - val_loss: 0.5440 - val_accuracy: 0.7798 - val_top-5-accuracy: 1.0000\n",
      "Epoch 6/100\n",
      "311/311 [==============================] - 34s 109ms/step - loss: 0.6482 - accuracy: 0.7410 - top-5-accuracy: 1.0000 - val_loss: 0.4977 - val_accuracy: 0.8228 - val_top-5-accuracy: 1.0000\n",
      "Epoch 7/100\n",
      "311/311 [==============================] - 34s 109ms/step - loss: 0.5933 - accuracy: 0.7617 - top-5-accuracy: 1.0000 - val_loss: 0.3897 - val_accuracy: 0.8527 - val_top-5-accuracy: 1.0000\n",
      "Epoch 8/100\n",
      "311/311 [==============================] - 33s 105ms/step - loss: 0.5369 - accuracy: 0.7899 - top-5-accuracy: 1.0000 - val_loss: 0.4035 - val_accuracy: 0.8437 - val_top-5-accuracy: 1.0000\n",
      "Epoch 9/100\n",
      "311/311 [==============================] - 34s 109ms/step - loss: 0.5099 - accuracy: 0.8016 - top-5-accuracy: 1.0000 - val_loss: 0.3360 - val_accuracy: 0.8822 - val_top-5-accuracy: 1.0000\n",
      "Epoch 10/100\n",
      "311/311 [==============================] - 33s 105ms/step - loss: 0.4677 - accuracy: 0.8203 - top-5-accuracy: 1.0000 - val_loss: 0.3189 - val_accuracy: 0.8768 - val_top-5-accuracy: 1.0000\n",
      "Epoch 11/100\n",
      "311/311 [==============================] - 34s 109ms/step - loss: 0.4339 - accuracy: 0.8325 - top-5-accuracy: 1.0000 - val_loss: 0.2826 - val_accuracy: 0.8990 - val_top-5-accuracy: 1.0000\n",
      "Epoch 12/100\n",
      "311/311 [==============================] - 33s 105ms/step - loss: 0.4152 - accuracy: 0.8419 - top-5-accuracy: 1.0000 - val_loss: 0.3123 - val_accuracy: 0.8971 - val_top-5-accuracy: 1.0000\n",
      "Epoch 13/100\n",
      "311/311 [==============================] - 34s 108ms/step - loss: 0.3817 - accuracy: 0.8517 - top-5-accuracy: 1.0000 - val_loss: 0.2148 - val_accuracy: 0.9221 - val_top-5-accuracy: 1.0000\n",
      "Epoch 14/100\n",
      "311/311 [==============================] - 34s 108ms/step - loss: 0.3631 - accuracy: 0.8602 - top-5-accuracy: 1.0000 - val_loss: 0.2310 - val_accuracy: 0.9225 - val_top-5-accuracy: 1.0000\n",
      "Epoch 15/100\n",
      "311/311 [==============================] - 34s 109ms/step - loss: 0.3341 - accuracy: 0.8714 - top-5-accuracy: 1.0000 - val_loss: 0.1852 - val_accuracy: 0.9348 - val_top-5-accuracy: 1.0000\n",
      "Epoch 16/100\n",
      "311/311 [==============================] - 33s 105ms/step - loss: 0.3174 - accuracy: 0.8786 - top-5-accuracy: 1.0000 - val_loss: 0.2193 - val_accuracy: 0.9175 - val_top-5-accuracy: 1.0000\n",
      "Epoch 17/100\n",
      "311/311 [==============================] - 33s 105ms/step - loss: 0.2980 - accuracy: 0.8889 - top-5-accuracy: 1.0000 - val_loss: 0.2050 - val_accuracy: 0.9302 - val_top-5-accuracy: 1.0000\n",
      "Epoch 18/100\n",
      "311/311 [==============================] - 34s 109ms/step - loss: 0.2773 - accuracy: 0.8960 - top-5-accuracy: 1.0000 - val_loss: 0.1475 - val_accuracy: 0.9511 - val_top-5-accuracy: 1.0000\n",
      "Epoch 19/100\n",
      "311/311 [==============================] - 33s 105ms/step - loss: 0.2616 - accuracy: 0.9023 - top-5-accuracy: 1.0000 - val_loss: 0.1728 - val_accuracy: 0.9406 - val_top-5-accuracy: 1.0000\n",
      "Epoch 20/100\n",
      "311/311 [==============================] - 33s 105ms/step - loss: 0.2517 - accuracy: 0.9072 - top-5-accuracy: 1.0000 - val_loss: 0.1540 - val_accuracy: 0.9493 - val_top-5-accuracy: 1.0000\n",
      "Epoch 21/100\n",
      "311/311 [==============================] - 34s 109ms/step - loss: 0.2319 - accuracy: 0.9129 - top-5-accuracy: 1.0000 - val_loss: 0.1189 - val_accuracy: 0.9606 - val_top-5-accuracy: 1.0000\n",
      "Epoch 22/100\n",
      "311/311 [==============================] - 34s 109ms/step - loss: 0.2238 - accuracy: 0.9157 - top-5-accuracy: 1.0000 - val_loss: 0.1108 - val_accuracy: 0.9628 - val_top-5-accuracy: 1.0000\n",
      "Epoch 23/100\n",
      "311/311 [==============================] - 33s 105ms/step - loss: 0.2158 - accuracy: 0.9207 - top-5-accuracy: 1.0000 - val_loss: 0.1299 - val_accuracy: 0.9597 - val_top-5-accuracy: 1.0000\n",
      "Epoch 24/100\n",
      "311/311 [==============================] - 34s 109ms/step - loss: 0.2032 - accuracy: 0.9247 - top-5-accuracy: 1.0000 - val_loss: 0.1059 - val_accuracy: 0.9633 - val_top-5-accuracy: 1.0000\n",
      "Epoch 25/100\n",
      "311/311 [==============================] - 33s 105ms/step - loss: 0.2012 - accuracy: 0.9258 - top-5-accuracy: 1.0000 - val_loss: 0.1201 - val_accuracy: 0.9588 - val_top-5-accuracy: 1.0000\n",
      "Epoch 26/100\n",
      "311/311 [==============================] - 34s 109ms/step - loss: 0.1956 - accuracy: 0.9292 - top-5-accuracy: 1.0000 - val_loss: 0.1048 - val_accuracy: 0.9656 - val_top-5-accuracy: 1.0000\n",
      "Epoch 27/100\n",
      "311/311 [==============================] - 34s 110ms/step - loss: 0.1872 - accuracy: 0.9327 - top-5-accuracy: 1.0000 - val_loss: 0.0962 - val_accuracy: 0.9692 - val_top-5-accuracy: 1.0000\n",
      "Epoch 28/100\n",
      "311/311 [==============================] - 33s 105ms/step - loss: 0.1731 - accuracy: 0.9365 - top-5-accuracy: 1.0000 - val_loss: 0.1029 - val_accuracy: 0.9674 - val_top-5-accuracy: 1.0000\n",
      "Epoch 29/100\n",
      "311/311 [==============================] - 34s 110ms/step - loss: 0.1731 - accuracy: 0.9380 - top-5-accuracy: 1.0000 - val_loss: 0.0755 - val_accuracy: 0.9778 - val_top-5-accuracy: 1.0000\n",
      "Epoch 30/100\n",
      "311/311 [==============================] - 33s 105ms/step - loss: 0.1705 - accuracy: 0.9360 - top-5-accuracy: 1.0000 - val_loss: 0.0891 - val_accuracy: 0.9683 - val_top-5-accuracy: 1.0000\n",
      "Epoch 31/100\n",
      "311/311 [==============================] - 33s 105ms/step - loss: 0.1607 - accuracy: 0.9435 - top-5-accuracy: 1.0000 - val_loss: 0.0978 - val_accuracy: 0.9687 - val_top-5-accuracy: 1.0000\n",
      "Epoch 32/100\n",
      "311/311 [==============================] - 33s 105ms/step - loss: 0.1666 - accuracy: 0.9379 - top-5-accuracy: 1.0000 - val_loss: 0.0993 - val_accuracy: 0.9683 - val_top-5-accuracy: 1.0000\n",
      "Epoch 33/100\n",
      "311/311 [==============================] - 33s 105ms/step - loss: 0.1567 - accuracy: 0.9442 - top-5-accuracy: 1.0000 - val_loss: 0.0839 - val_accuracy: 0.9737 - val_top-5-accuracy: 1.0000\n",
      "Epoch 34/100\n",
      "311/311 [==============================] - 33s 105ms/step - loss: 0.1608 - accuracy: 0.9413 - top-5-accuracy: 1.0000 - val_loss: 0.0748 - val_accuracy: 0.9746 - val_top-5-accuracy: 1.0000\n",
      "Epoch 35/100\n",
      "311/311 [==============================] - 33s 105ms/step - loss: 0.1563 - accuracy: 0.9431 - top-5-accuracy: 1.0000 - val_loss: 0.0778 - val_accuracy: 0.9764 - val_top-5-accuracy: 1.0000\n",
      "Epoch 36/100\n",
      "311/311 [==============================] - 33s 105ms/step - loss: 0.1506 - accuracy: 0.9470 - top-5-accuracy: 1.0000 - val_loss: 0.0836 - val_accuracy: 0.9715 - val_top-5-accuracy: 1.0000\n",
      "Epoch 37/100\n",
      "311/311 [==============================] - 33s 105ms/step - loss: 0.1552 - accuracy: 0.9454 - top-5-accuracy: 1.0000 - val_loss: 0.0796 - val_accuracy: 0.9724 - val_top-5-accuracy: 1.0000\n",
      "Epoch 38/100\n",
      "311/311 [==============================] - 34s 109ms/step - loss: 0.1415 - accuracy: 0.9492 - top-5-accuracy: 1.0000 - val_loss: 0.0705 - val_accuracy: 0.9787 - val_top-5-accuracy: 1.0000\n",
      "Epoch 39/100\n",
      "311/311 [==============================] - 33s 105ms/step - loss: 0.1414 - accuracy: 0.9495 - top-5-accuracy: 1.0000 - val_loss: 0.0780 - val_accuracy: 0.9742 - val_top-5-accuracy: 1.0000\n",
      "Epoch 40/100\n",
      "311/311 [==============================] - 33s 105ms/step - loss: 0.1441 - accuracy: 0.9485 - top-5-accuracy: 1.0000 - val_loss: 0.0654 - val_accuracy: 0.9751 - val_top-5-accuracy: 1.0000\n",
      "Epoch 41/100\n",
      "311/311 [==============================] - 33s 105ms/step - loss: 0.1413 - accuracy: 0.9478 - top-5-accuracy: 1.0000 - val_loss: 0.0649 - val_accuracy: 0.9783 - val_top-5-accuracy: 1.0000\n",
      "Epoch 42/100\n",
      "311/311 [==============================] - 33s 105ms/step - loss: 0.1352 - accuracy: 0.9495 - top-5-accuracy: 1.0000 - val_loss: 0.0657 - val_accuracy: 0.9787 - val_top-5-accuracy: 1.0000\n",
      "Epoch 43/100\n",
      "311/311 [==============================] - 34s 108ms/step - loss: 0.1336 - accuracy: 0.9513 - top-5-accuracy: 1.0000 - val_loss: 0.0655 - val_accuracy: 0.9792 - val_top-5-accuracy: 1.0000\n",
      "Epoch 44/100\n",
      "311/311 [==============================] - 34s 109ms/step - loss: 0.1290 - accuracy: 0.9536 - top-5-accuracy: 1.0000 - val_loss: 0.0518 - val_accuracy: 0.9837 - val_top-5-accuracy: 1.0000\n",
      "Epoch 45/100\n",
      "311/311 [==============================] - 33s 105ms/step - loss: 0.1315 - accuracy: 0.9531 - top-5-accuracy: 1.0000 - val_loss: 0.0615 - val_accuracy: 0.9796 - val_top-5-accuracy: 1.0000\n",
      "Epoch 46/100\n",
      "311/311 [==============================] - 33s 105ms/step - loss: 0.1244 - accuracy: 0.9558 - top-5-accuracy: 1.0000 - val_loss: 0.0781 - val_accuracy: 0.9778 - val_top-5-accuracy: 1.0000\n",
      "Epoch 47/100\n",
      "311/311 [==============================] - 33s 105ms/step - loss: 0.1235 - accuracy: 0.9554 - top-5-accuracy: 1.0000 - val_loss: 0.0740 - val_accuracy: 0.9787 - val_top-5-accuracy: 1.0000\n",
      "Epoch 48/100\n",
      "311/311 [==============================] - 33s 105ms/step - loss: 0.1258 - accuracy: 0.9547 - top-5-accuracy: 1.0000 - val_loss: 0.0734 - val_accuracy: 0.9751 - val_top-5-accuracy: 1.0000\n",
      "Epoch 49/100\n",
      "311/311 [==============================] - 33s 105ms/step - loss: 0.1284 - accuracy: 0.9548 - top-5-accuracy: 1.0000 - val_loss: 0.0925 - val_accuracy: 0.9710 - val_top-5-accuracy: 1.0000\n",
      "162/162 [==============================] - 3s 20ms/step - loss: 0.0522 - accuracy: 0.9826 - top-5-accuracy: 1.0000\n",
      "Test accuracy: 98.26%\n",
      "Test top 5 accuracy: 100.0%\n"
     ]
    }
   ],
   "source": [
    "vit_classifier = create_vit_classifier()\n",
    "history = run_experiment(vit_classifier)"
   ]
  },
  {
   "cell_type": "code",
   "execution_count": 15,
   "id": "a9e55ac9",
   "metadata": {
    "execution": {
     "iopub.execute_input": "2024-03-12T20:20:08.176385Z",
     "iopub.status.busy": "2024-03-12T20:20:08.175750Z",
     "iopub.status.idle": "2024-03-12T20:20:08.414572Z",
     "shell.execute_reply": "2024-03-12T20:20:08.413579Z"
    },
    "executionInfo": {
     "elapsed": 1322,
     "status": "ok",
     "timestamp": 1693841443269,
     "user": {
      "displayName": "SADIB HASSAN RUMMAN",
      "userId": "01508624673777496953"
     },
     "user_tz": -360
    },
    "id": "Vp6LQryXL-gP",
    "outputId": "9cef7708-56da-4f7a-cbf9-b044f1454688",
    "papermill": {
     "duration": 1.471531,
     "end_time": "2024-03-12T20:20:08.416750",
     "exception": false,
     "start_time": "2024-03-12T20:20:06.945219",
     "status": "completed"
    },
    "tags": []
   },
   "outputs": [
    {
     "data": {
      "text/plain": [
       "<matplotlib.legend.Legend at 0x77fa5c39efb0>"
      ]
     },
     "execution_count": 15,
     "metadata": {},
     "output_type": "execute_result"
    },
    {
     "data": {
      "image/png": "[encoded data removed]",
      "text/plain": [
       "<Figure size 640x480 with 1 Axes>"
      ]
     },
     "metadata": {},
     "output_type": "display_data"
    }
   ],
   "source": [
    "import matplotlib.pyplot as plt\n",
    "\n",
    "plt.plot(history.history['accuracy'], label='train_accuracy')\n",
    "plt.plot(history.history['val_accuracy'], label = 'validation_accuracy')\n",
    "plt.xlabel('Epoch')\n",
    "plt.ylabel('Accuracy')\n",
    "plt.ylim([0.1, 1.2])\n",
    "plt.legend(loc='lower right')"
   ]
  },
  {
   "cell_type": "code",
   "execution_count": 16,
   "id": "62fb5903",
   "metadata": {
    "execution": {
     "iopub.execute_input": "2024-03-12T20:20:10.981914Z",
     "iopub.status.busy": "2024-03-12T20:20:10.981546Z",
     "iopub.status.idle": "2024-03-12T20:20:11.195951Z",
     "shell.execute_reply": "2024-03-12T20:20:11.195010Z"
    },
    "executionInfo": {
     "elapsed": 722,
     "status": "ok",
     "timestamp": 1693841750799,
     "user": {
      "displayName": "SADIB HASSAN RUMMAN",
      "userId": "01508624673777496953"
     },
     "user_tz": -360
    },
    "id": "2K_YD0xwLZs7",
    "outputId": "b0654341-cc87-4e04-fe88-19c9e2740130",
    "papermill": {
     "duration": 1.500565,
     "end_time": "2024-03-12T20:20:11.197876",
     "exception": false,
     "start_time": "2024-03-12T20:20:09.697311",
     "status": "completed"
    },
    "tags": []
   },
   "outputs": [
    {
     "data": {
      "text/plain": [
       "<matplotlib.legend.Legend at 0x77fdea6ac700>"
      ]
     },
     "execution_count": 16,
     "metadata": {},
     "output_type": "execute_result"
    },
    {
     "data": {
      "image/png": "[encoded data removed]",
      "text/plain": [
       "<Figure size 640x480 with 1 Axes>"
      ]
     },
     "metadata": {},
     "output_type": "display_data"
    }
   ],
   "source": [
    "plt.plot(history.history['loss'], label='train_loss')\n",
    "plt.plot(history.history['val_loss'], label = 'validation_loss')\n",
    "plt.xlabel('Epoch')\n",
    "plt.ylabel('Loss')\n",
    "plt.ylim([0, 0.8])\n",
    "plt.legend(loc='upper right')"
   ]
  },
  {
   "cell_type": "code",
   "execution_count": 17,
   "id": "cb0412ea",
   "metadata": {
    "execution": {
     "iopub.execute_input": "2024-03-12T20:20:13.764701Z",
     "iopub.status.busy": "2024-03-12T20:20:13.763951Z",
     "iopub.status.idle": "2024-03-12T20:20:18.793251Z",
     "shell.execute_reply": "2024-03-12T20:20:18.792152Z"
    },
    "executionInfo": {
     "elapsed": 3520,
     "status": "ok",
     "timestamp": 1693841446779,
     "user": {
      "displayName": "SADIB HASSAN RUMMAN",
      "userId": "01508624673777496953"
     },
     "user_tz": -360
    },
    "id": "vt4oUYw1LeSM",
    "outputId": "718ce6c5-6328-4f2c-8450-3c3fb9d613ba",
    "papermill": {
     "duration": 6.342205,
     "end_time": "2024-03-12T20:20:18.796035",
     "exception": false,
     "start_time": "2024-03-12T20:20:12.453830",
     "status": "completed"
    },
    "tags": []
   },
   "outputs": [
    {
     "name": "stdout",
     "output_type": "stream",
     "text": [
      "162/162 [==============================] - 4s 20ms/step\n"
     ]
    },
    {
     "data": {
      "image/png": "[encoded data removed]",
      "text/plain": [
       "<Figure size 1000x800 with 2 Axes>"
      ]
     },
     "metadata": {},
     "output_type": "display_data"
    }
   ],
   "source": [
    "import numpy as np\n",
    "import matplotlib.pyplot as plt\n",
    "from sklearn.metrics import confusion_matrix\n",
    "import seaborn as sns\n",
    "\n",
    "y_pred = vit_classifier.predict(x_test)\n",
    "y_pred_classes = np.argmax(y_pred, axis=1)\n",
    "confusion_mtx = confusion_matrix(y_test, y_pred_classes)\n",
    "\n",
    "def plot_confusion_matrix(confusion_mtx, labels):\n",
    "    plt.figure(figsize=(10, 8))\n",
    "    sns.heatmap(\n",
    "        confusion_mtx,\n",
    "        annot=True,\n",
    "        fmt=\"d\",\n",
    "        cmap=\"Purples\",\n",
    "        xticklabels=labels,\n",
    "        yticklabels=labels,\n",
    "    )\n",
    "    plt.xlabel(\"Predicted Labels\")\n",
    "    plt.ylabel(\"True Labels\")\n",
    "    plt.title(\"Confusion Matrix\")\n",
    "    plt.show()\n",
    "\n",
    "# Define your class labels (replace this with your actual class labels)\n",
    "class_labels = ['glioma_tumor', 'meningioma_tumor', 'no_tumor', 'pituitary_tumor']\n",
    "\n",
    "# Plot the confusion matrix heatmap\n",
    "plot_confusion_matrix(confusion_mtx, class_labels)"
   ]
  },
  {
   "cell_type": "code",
   "execution_count": 18,
   "id": "521015b2",
   "metadata": {
    "execution": {
     "iopub.execute_input": "2024-03-12T20:20:21.318669Z",
     "iopub.status.busy": "2024-03-12T20:20:21.317936Z",
     "iopub.status.idle": "2024-03-12T20:20:21.339827Z",
     "shell.execute_reply": "2024-03-12T20:20:21.338768Z"
    },
    "executionInfo": {
     "elapsed": 15,
     "status": "ok",
     "timestamp": 1693841446780,
     "user": {
      "displayName": "SADIB HASSAN RUMMAN",
      "userId": "01508624673777496953"
     },
     "user_tz": -360
    },
    "id": "ds9MUDzmq_pc",
    "outputId": "aadf781a-481b-4c69-dbb1-f2ce69b23632",
    "papermill": {
     "duration": 1.302496,
     "end_time": "2024-03-12T20:20:21.341700",
     "exception": false,
     "start_time": "2024-03-12T20:20:20.039204",
     "status": "completed"
    },
    "tags": []
   },
   "outputs": [
    {
     "name": "stdout",
     "output_type": "stream",
     "text": [
      "                  precision    recall  f1-score   support\n",
      "\n",
      "    glioma_tumor       0.99      0.97      0.98      1538\n",
      "meningioma_tumor       0.97      0.98      0.98      1623\n",
      "        no_tumor       0.99      0.98      0.99       578\n",
      " pituitary_tumor       0.99      1.00      0.99      1438\n",
      "\n",
      "        accuracy                           0.98      5177\n",
      "       macro avg       0.98      0.98      0.98      5177\n",
      "    weighted avg       0.98      0.98      0.98      5177\n",
      "\n"
     ]
    }
   ],
   "source": [
    "from sklearn.metrics import classification_report\n",
    "\n",
    "# After evaluating your model and calculating y_pred_classes\n",
    "classification_rep = classification_report(y_test, y_pred_classes, target_names=class_labels)\n",
    "\n",
    "# Print the classification report\n",
    "print(classification_rep)"
   ]
  }
 ],
 "metadata": {
  "accelerator": "GPU",
  "colab": {
   "gpuType": "T4",
   "provenance": []
  },
  "kaggle": {
   "accelerator": "nvidiaTeslaT4",
   "dataSources": [
    {
     "sourceId": 165653935,
     "sourceType": "kernelVersion"
    }
   ],
   "dockerImageVersionId": 30648,
   "isGpuEnabled": true,
   "isInternetEnabled": true,
   "language": "python",
   "sourceType": "notebook"
  },
  "kernelspec": {
   "display_name": "Python 3",
   "language": "python",
   "name": "python3"
  },
  "language_info": {
   "codemirror_mode": {
    "name": "ipython",
    "version": 3
   },
   "file_extension": ".py",
   "mimetype": "text/x-python",
   "name": "python",
   "nbconvert_exporter": "python",
   "pygments_lexer": "ipython3",
   "version": "3.10.13"
  },
  "papermill": {
   "default_parameters": {},
   "duration": 1986.221303,
   "end_time": "2024-03-12T20:20:25.900471",
   "environment_variables": {},
   "exception": null,
   "input_path": "__notebook__.ipynb",
   "output_path": "__notebook__.ipynb",
   "parameters": {},
   "start_time": "2024-03-12T19:47:19.679168",
   "version": "2.5.0"
  }
 },
 "nbformat": 4,
 "nbformat_minor": 5
}
